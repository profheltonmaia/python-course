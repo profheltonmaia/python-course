{
 "cells": [
  {
   "cell_type": "markdown",
   "metadata": {
    "id": "ULxWGdhVqcRt"
   },
   "source": [
    "# Sobre este material"
   ]
  },
  {
   "cell_type": "markdown",
   "metadata": {
    "id": "TUXPVopGqgeo"
   },
   "source": [
    "Bem-vindo ao curso de Python para Iniciantes\n",
    "\n",
    "Este material foi cuidadosamente elaborado para estudantes universitários que desejam adquirir habilidades fundamentais em programação por meio da linguagem Python.\n",
    "\n",
    "Dividido em 8 capítulos, este guia proporciona uma introdução completa aos conceitos essenciais de Python. No primeiro capítulo, exploraremos o universo da programação de computadores, desde os conceitos básicos até o funcionamento de programas em Python. Você terá a oportunidade de escrever seu primeiro programa e compreender a estrutura fundamental.\n",
    "\n",
    "No segundo capítulo, mergulharemos nas variáveis e tipos de dados, abordando desde a definição até os tipos compostos como listas, tuplas, dicionários e conjuntos. Os exercícios práticos ajudarão a solidificar o conhecimento adquirido.\n",
    "\n",
    "O terceiro capítulo é dedicado aos operadores e expressões, explorando operadores aritméticos, lógicos, de comparação e muito mais. Desafios estimulantes estão incluídos para aprimorar suas habilidades.\n",
    "\n",
    "No quarto capítulo, abordaremos o controle de fluxo por meio de estruturas condicionais e de repetição. Exercícios práticos oferecem a oportunidade de aplicar esses conceitos de forma efetiva.\n",
    "\n",
    "O capítulo cinco introduz as funções, desde a definição até funções recursivas e integradas. A resolução de exercícios proporcionará uma compreensão sólida desses conceitos essenciais.\n",
    "\n",
    "O sexto capítulo mergulha no importante mundo das strings, explorando operações, métodos e expressões regulares. Exercícios práticos são projetados para consolidar seu conhecimento.\n",
    "\n",
    "No sétimo capítulo, elevamos o nível ao explorar as bibliotecas NumPy e Matplotlib para manipulação de arrays e visualização de dados. Exercícios práticos aplicam essas poderosas ferramentas.\n",
    "\n",
    "Finalmente, no oitavo capítulo, concentramo-nos na manipulação de arquivos, tratamento de exceções e trabalhando com diferentes tipos de arquivos, como csv, json e bin. Exercícios práticos oferecem a chance de aplicar esses conhecimentos de forma concreta.\n",
    "\n",
    "Este material é um recurso valioso para qualquer estudante que deseje iniciar e aprimorar seus conhecimentos em Python. A clareza, a concisão e os numerosos exemplos e exercícios tornam o aprendizado eficiente e agradável.\n",
    "\n",
    "---\n",
    "\n",
    "[Playlist no YouTube com Material Auxiliar](https://www.youtube.com/playlist?list=PLgZW4krsqK2RUiuyoErk2zClgZmc5tUXh)"
   ]
  }
 ],
 "metadata": {
  "colab": {
   "provenance": []
  },
  "kernelspec": {
   "display_name": "Python 3 (ipykernel)",
   "language": "python",
   "name": "python3"
  },
  "language_info": {
   "codemirror_mode": {
    "name": "ipython",
    "version": 3
   },
   "file_extension": ".py",
   "mimetype": "text/x-python",
   "name": "python",
   "nbconvert_exporter": "python",
   "pygments_lexer": "ipython3",
   "version": "3.10.12"
  }
 },
 "nbformat": 4,
 "nbformat_minor": 4
}
