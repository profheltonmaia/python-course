{
 "cells": [
  {
   "cell_type": "markdown",
   "metadata": {
    "id": "ULxWGdhVqcRt"
   },
   "source": [
    "\n",
    "# Capítulo 1: Introdução à Visão Computacional (Em construção)\n",
    "\n"
   ]
  },
  {
   "cell_type": "markdown",
   "metadata": {},
   "source": [
    "## O que é uma imagem?\n",
    "para o computador...\n",
    "\n",
    "## Visualizando imagens\n",
    "\n",
    "## Pré-processamento de imagens\n",
    "transformações, filtragem e normalização\n",
    "\n",
    "## Extração de características\n",
    "técnicas de extração e representação de características em imagens\n",
    "\n"
   ]
  }
 ],
 "metadata": {
  "colab": {
   "provenance": [],
   "toc_visible": true
  },
  "kernelspec": {
   "display_name": "Python 3 (ipykernel)",
   "language": "python",
   "name": "python3"
  },
  "language_info": {
   "codemirror_mode": {
    "name": "ipython",
    "version": 3
   },
   "file_extension": ".py",
   "mimetype": "text/x-python",
   "name": "python",
   "nbconvert_exporter": "python",
   "pygments_lexer": "ipython3",
   "version": "3.10.12"
  }
 },
 "nbformat": 4,
 "nbformat_minor": 4
}
