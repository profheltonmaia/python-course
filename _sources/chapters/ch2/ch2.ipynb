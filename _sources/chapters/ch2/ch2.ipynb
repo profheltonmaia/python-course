{
 "cells": [
  {
   "cell_type": "markdown",
   "metadata": {
    "id": "ULxWGdhVqcRt"
   },
   "source": [
    "# Capítulo 2: Váriáveis e Tipos de dados\n",
    "\n"
   ]
  },
  {
   "cell_type": "markdown",
   "metadata": {
    "id": "euhixBFzp2a9",
    "jp-MarkdownHeadingCollapsed": true
   },
   "source": [
    "![ch2](ch2.jpeg)\n",
    "\n",
    "Variáveis são fundamentais para armazenar informações durante a execução de um programa. Além disso, compreender os tipos de dados é essencial para escrever programas funcionais e legíveis. Cada tipo de dado é especializado em guardar um tipo específico de informação, como inteiros, números reais, strings e booleanos. \n",
    "\n",
    "## Formatando a saída de dados\n",
    "A função `print()` é usada para exibir informações na tela. Ela pode imprimir strings, números e outros tipos de informações.\n",
    "\n",
    "**Exibindo uma mensagem simples**\n",
    "```python\n",
    "print(\"Olá, mundo!\")\n",
    "```\n",
    "Saída formatada:\n",
    "```\n",
    "Olá, mundo!\n",
    "```\n",
    "\n",
    "**Mostrando informações concatenadas com vírgulas**\n",
    "```python\n",
    "nome = \"Maria\"\n",
    "idade = 30\n",
    "print(\"O nome dela é\", nome, \"e ela tem\", idade, \"anos.\")\n",
    "```\n",
    "Saída formatada:\n",
    "```\n",
    "O nome dela é Maria e ela tem 30 anos.\n",
    "```\n",
    "Aqui, as variáveis `nome` e `idade` são concatenadas com strings e separadas por vírgulas para criar a mensagem de saída.\n",
    "\n",
    "**Utilizando f-string**\n",
    "```python\n",
    "nome = \"Maria\"\n",
    "idade = 30\n",
    "print(f\"O nome dela é {nome} e ela tem {idade} anos.\")\n",
    "```\n",
    "Saída formatada:\n",
    "```\n",
    "O nome dela é Maria e ela tem 30 anos.\n",
    "```\n",
    "Utilizando f-string, as variáveis são incorporadas diretamente na string formatada.\n",
    "\n",
    "**Exibindo informações em múltiplas linhas com `\\n`**\n",
    "```python\n",
    "nome = \"Maria\"\n",
    "idade = 30\n",
    "print(\"O nome dela é\", nome, \"\\ne ela possui\", idade, \"anos.\")\n",
    "\n",
    "# Gera a mesma saída, utilizando f-string\n",
    "print(f\"O nome dela é {nome}\\ne ela possui {idade} anos.\")\n",
    "```\n",
    "Saída formatada:\n",
    "```\n",
    "O nome dela é Maria \n",
    "e ela possui 30 anos.\n",
    "```\n",
    "Neste caso, quebras de linha (`\\n`) são inseridas para formatar a saída em múltiplas linhas.\n",
    "\n",
    "**Formatando número com casas decimais**\n",
    "\n",
    "```python\n",
    "valor = 123.456789\n",
    "print(f\"O valor formatado é: {valor:.2f}\")\n",
    "```\n",
    "\n",
    "Saída formatada:\n",
    "```\n",
    "O valor formatado é: 123.46\n",
    "```\n",
    "O número armazenado em `valor` é formatado para exibir apenas duas casas decimais utilizando a expressão `:.2f` dentro da f-string. \n",
    "\n",
    "\n",
    "## Definindo Variáveis e Tipos de Dados\n",
    "\n",
    "Uma variável é um identificador que representa um valor. A declaração de uma variável é feita usando o operador de atribuição (`=`). Por exemplo, a linha a seguir cria uma variável chamada `nome` e atribui o valor \"Maria\" a ela:\n",
    "\n",
    "```python\n",
    "nome = \"Maria\"\n",
    "```\n",
    "\n",
    "Para acessar o valor armazenado em uma variável, basta utilizar o seu nome. O código a seguir, por exemplo, imprime o que foi armazenado na variável `nome`:\n",
    "\n",
    "```python\n",
    "print(nome)\n",
    "```\n",
    "\n",
    "Isso resultará na saída:\n",
    "\n",
    "```\n",
    "Maria\n",
    "```"
   ]
  },
  {
   "cell_type": "markdown",
   "metadata": {
    "id": "CjjwBPIPWYl7"
   },
   "source": [
    "## Tipos de dados Básicos\n",
    "São os elementos fundamentais que compõem a linguagem de programação. São como os blocos de construção que permitem criar variáveis, armazenar informações e realizar operações matemáticas e lógicas."
   ]
  },
  {
   "cell_type": "markdown",
   "metadata": {
    "id": "qzfww3aOmwmp"
   },
   "source": [
    "### Números Inteiros\n",
    "\n",
    "O tipo inteiro é utilizado para representar números inteiros, tanto positivos quanto negativos, como 1, 2, 3, -1, -2, -3, entre outros. Esses valores são empregados para expressar quantidades e índices em programação, desempenhando um papel fundamental em diversas aplicações.\n",
    "\n",
    "Exemplos de uso de inteiros incluem:"
   ]
  },
  {
   "cell_type": "code",
   "execution_count": null,
   "metadata": {
    "colab": {
     "base_uri": "https://localhost:8080/"
    },
    "id": "ykCq6zHca8xJ",
    "outputId": "21189b56-42eb-42e9-9bf4-9b8241103234"
   },
   "outputs": [
    {
     "name": "stdout",
     "output_type": "stream",
     "text": [
      "40\n"
     ]
    }
   ],
   "source": [
    "# Declaração e inicialização de uma variável do tipo inteiro\n",
    "x = 10\n",
    "\n",
    "# Atribuição de um novo valor a uma variável do tipo inteiro\n",
    "x = 20\n",
    "\n",
    "# Soma de dois inteiros\n",
    "print(x + 10)"
   ]
  },
  {
   "cell_type": "markdown",
   "metadata": {
    "id": "yz6F3mxIayp-"
   },
   "source": [
    "### Números de Ponto Flutuante\n",
    "\n",
    "O tipo de dado ponto flutuante, representado pelo tipo float em Python, é utilizado para expressar valores decimais, como 1.0, 2.5, 3.14, -1.0, -2.5, -3.14, entre outros. Tais valores são apropriados para representar grandezas que envolvem medidas, preços, e outras grandezas fracionárias.\n",
    "\n",
    "Aqui estão alguns exemplos de uso de números de ponto flutuante:"
   ]
  },
  {
   "cell_type": "code",
   "execution_count": null,
   "metadata": {
    "colab": {
     "base_uri": "https://localhost:8080/"
    },
    "id": "nIJP28rXa1tE",
    "outputId": "a1fecdf6-4ca4-4a9e-dd0b-141d3233a873"
   },
   "outputs": [
    {
     "name": "stdout",
     "output_type": "stream",
     "text": [
      "1.5\n"
     ]
    }
   ],
   "source": [
    "# Declaração de uma variável do tipo float\n",
    "y = 3.14\n",
    "\n",
    "# Atribuição de um valor a uma variável do tipo float\n",
    "y = 2.5\n",
    "\n",
    "# Subtração de dois floats\n",
    "print(y - 1.0)"
   ]
  },
  {
   "cell_type": "markdown",
   "metadata": {
    "id": "t04u6LqcatGa"
   },
   "source": [
    "### Strings\n",
    "\n",
    "O tipo de dado string representa sequências de caracteres, como \"Olá, turma!\", \"123\", \"abc\", etc. Essas estruturas são comumente utilizadas para representar texto e nomes.\n",
    "\n",
    "Aqui estão alguns exemplos de uso de strings:"
   ]
  },
  {
   "cell_type": "code",
   "execution_count": 16,
   "metadata": {
    "id": "vEC57Swcaaoc"
   },
   "outputs": [
    {
     "name": "stdout",
     "output_type": "stream",
     "text": [
      "123, como vai?\n"
     ]
    }
   ],
   "source": [
    "# Declaração de uma variável do tipo string\n",
    "z = \"Olá, turma!\"\n",
    "\n",
    "# Atribuição de um valor a uma variável do tipo string\n",
    "z = \"123\"\n",
    "\n",
    "# Concatenação de duas strings\n",
    "print(z + \", como vai?\")"
   ]
  },
  {
   "cell_type": "markdown",
   "metadata": {
    "id": "lplwHxbl2UCr"
   },
   "source": [
    "Em Python, tanto as aspas simples (`'`) quanto as aspas duplas (`\"`) podem ser usadas para definir literais de strings. Não há diferença funcional entre elas; você pode usar qualquer uma delas de forma intercambiável para criar strings. A escolha entre as aspas simples e duplas é principalmente uma questão de estilo e preferência pessoal. Por exemplo:\n",
    "\n",
    "```python\n",
    "aspas_simples = 'Esta é uma string com aspas simples.'\n",
    "aspas_duplas = \"Esta é uma string com aspas duplas.\"\n",
    "```\n",
    "\n",
    "Você pode usar um tipo de aspas para definir uma string que contenha o outro tipo de aspas sem problemas. Por exemplo:\n",
    "\n",
    "```python\n",
    "com_outras_aspas = \"Esta string contém 'aspas simples' dentro dela.\"\n",
    "```\n",
    "\n",
    "Ou:\n",
    "\n",
    "```python\n",
    "com_outras_aspas = 'Esta string contém \"aspas duplas\" dentro dela.'\n",
    "```\n",
    "\n",
    "Ambos os exemplos são válidos, e o Python permite que você use aspas simples dentro de uma string delimitada por aspas duplas e vice-versa."
   ]
  },
  {
   "cell_type": "markdown",
   "metadata": {
    "id": "t04u6LqcatGa"
   },
   "source": [
    "#### Utilização do len para calcular o tamanho da string\n",
    "O `len` é uma função incorporada em Python que retorna o comprimento (número de caracteres) de uma sequência, como uma string. Vamos calcular o tamanho da string \"Olá, turma!\" usando `len`:\n",
    "\n",
    "```python\n",
    "texto = \"Olá, turma!\"\n",
    "tamanho = len(texto)\n",
    "print(\"O tamanho da string é:\", tamanho)\n",
    "```\n",
    "\n",
    "Saída:\n",
    "```\n",
    "O tamanho da string é: 12\n",
    "```\n",
    "\n",
    "#### Como funcionam os índices em uma string\n",
    "Em Python, os índices de uma string começam em 0 e vão até (comprimento da string - 1). Isso significa que o primeiro caractere está no índice 0, o segundo no índice 1, e assim por diante. Podemos imprimir caracteres específicos e partes da string usando índices:\n",
    "\n",
    "```python\n",
    "texto = \"Olá, turma!\"\n",
    "\n",
    "# Impressão de caracteres usando índices\n",
    "print(\"Primeiro caractere:\", texto[0])\n",
    "print(\"Segundo caractere:\", texto[1])\n",
    "\n",
    "# Impressão de partes da string usando índices\n",
    "print(\"Parte da string:\", texto[4:9])\n",
    "\n",
    "# Impressão da string invertida\n",
    "print(\"String invertida:\", texto[::-1])\n",
    "```\n",
    "\n",
    "Saída:\n",
    "```\n",
    "Primeiro caractere: O\n",
    "Segundo caractere: l\n",
    "Parte da string: turma\n",
    "String invertida: !amrut ,álO\n",
    "```\n",
    "No exemplo acima, `texto[4:9]` imprime a parte da string que vai do índice 4 até o índice 8 (o índice 9 não é incluído)."
   ]
  },
  {
   "cell_type": "markdown",
   "metadata": {
    "id": "DMSWpKnEandh"
   },
   "source": [
    "### Booleanos\n",
    "\n",
    "Os tipos booleanos representam valores lógicos, ou seja, podem ser True ou False. Esses valores são comumente utilizados para representar condições, resultados de testes e expressões lógicas.\n",
    "\n",
    "Os tipos booleanos representam valores lógicos, sendo esses valores True (verdadeiro) ou False (falso). Além disso, é importante destacar que em Python, 0 é frequentemente interpretado como False e 1 como True em contextos booleanos, ampliando a flexibilidade na expressão de condições, resultados de testes e avaliação de expressões lógicas.\n",
    "\n",
    "Aqui estão alguns exemplos de uso de booleanos:\n"
   ]
  },
  {
   "cell_type": "code",
   "execution_count": null,
   "metadata": {
    "id": "wiuyyDOTYJz4"
   },
   "outputs": [],
   "source": [
    "# Declaração de uma variável do tipo booleano\n",
    "a = True\n",
    "\n",
    "# Atribuição de um valor a uma variável do tipo booleano\n",
    "a = False\n",
    "\n",
    "# Comparação de dois valores\n",
    "print(10 > 20)"
   ]
  },
  {
   "cell_type": "markdown",
   "metadata": {},
   "source": [
    "## Características da Dinamicidade de Tipo\n",
    "\n",
    "Conforme discutido anteriormente, o Python se destaca como uma linguagem de programação dinamicamente tipada, o que implica que o tipo de uma variável é determinado durante a execução do programa, não durante a compilação. Ao contrário de linguagens estaticamente tipadas, como C++ ou Java, onde o tipo de uma variável deve ser declarado explicitamente antes de ser utilizada, o Python permite atribuir valores a variáveis sem a necessidade de declarar o tipo previamente.\n",
    "\n",
    "É fundamental ressaltar a flexibilidade proporcionada pela Atribuição Dinâmica, especialmente quando combinada com `None`:\n",
    "\n",
    "```python\n",
    "# Atribuição dinâmica de valores\n",
    "variavel_dinamica = 42\n",
    "print(variavel_dinamica)\n",
    "\n",
    "variavel_dinamica = \"Olá, mundo!\"\n",
    "print(variavel_dinamica)\n",
    "\n",
    "# Declarando variáveis como None\n",
    "variavel_nula = None\n",
    "print(variavel_nula)\n",
    "\n",
    "# Atribuindo um valor posteriormente\n",
    "variavel_nula = 100\n",
    "print(variavel_nula)\n",
    "```\n",
    "Saída:\n",
    "```\n",
    "42\n",
    "Olá, mundo!\n",
    "None\n",
    "100\n",
    "```\n",
    "\n",
    "No exemplo acima, a variável `variavel_dinamica` é inicialmente atribuída ao inteiro 42 e, posteriormente, à string \"Olá, mundo!\". Isso ilustra a flexibilidade e a dinamicidade de tipos em Python. Além disso, a variável `variavel_nula` é inicializada com `None`, indicando a ausência de valor, e mais tarde é atribuída ao valor inteiro 100.\n",
    "\n",
    "Outro recurso importante a ser mencionado é a instrução `del`, que possibilita remover uma variável existente.\n",
    "\n",
    "```python\n",
    "# Removendo uma variável com o comando 'del'\n",
    "del variavel_nula\n",
    "# Tentar imprimir a variável após deletá-la resultará em um erro\n",
    "print(variavel_nula)\n",
    "```\n",
    "Saída:\n",
    "```\n",
    "Traceback (most recent call last):\n",
    "  File \"<filename>\", line 5, in <module>\n",
    "    print(variavel_nula)\n",
    "NameError: name 'variavel_nula' is not defined\n",
    "```\n",
    "\n",
    "No exemplo acima, o comando `del` é usado para remover a variável `variavel_nula`. Tentar imprimir essa variável após deletá-la resultará em um erro `NameError`, indicando que a variável não está mais definida. O uso de `del` é útil para liberar recursos e gerenciar a estrutura do programa de forma mais eficiente."
   ]
  },
  {
   "cell_type": "markdown",
   "metadata": {},
   "source": [
    "## Casting (conversão de tipos)\n",
    "\n",
    "Refere-se à conversão de um tipo de dado para outro. Isso pode ser necessário quando você deseja operar ou comparar valores de tipos diferentes. Um exemplo comum é a conversão de uma string para um número, como ao utilizar `float(input())` para converter a entrada do usuário em um número de ponto flutuante. \n",
    "\n",
    "**Conversão de String para Inteiro**\n",
    "\n",
    "```python\n",
    "# Solicita ao usuário para digitar um número inteiro\n",
    "entrada_usuario = input(\"Digite um número inteiro: \")\n",
    "\n",
    "# Converte a entrada para um número inteiro\n",
    "numero_inteiro = int(entrada_usuario)\n",
    "\n",
    "# Imprime o resultado\n",
    "print(\"Número inteiro digitado:\", numero_inteiro)\n",
    "```\n",
    "\n",
    "**Conversão de String para Ponto Flutuante**\n",
    "\n",
    "```python\n",
    "# Solicita ao usuário para digitar um número de ponto flutuante\n",
    "entrada_usuario = input(\"Digite um número de ponto flutuante: \")\n",
    "\n",
    "# Converte a entrada para um número de ponto flutuante\n",
    "numero_float = float(entrada_usuario)\n",
    "\n",
    "# Imprime o resultado\n",
    "print(\"Número de ponto flutuante digitado:\", numero_float)\n",
    "```\n",
    "\n",
    "No exemplo acima, `float(input())` é usado para converter a entrada do usuário em um número de ponto flutuante. A função `float()` realiza a conversão, e o `input()` é utilizado para receber a entrada do usuário como uma string. É importante notar que, se o usuário inserir algo que não pode ser convertido para um número de ponto flutuante, um erro `ValueError` pode ocorrer."
   ]
  },
  {
   "cell_type": "markdown",
   "metadata": {},
   "source": [
    "## Estruturas de decisão (simples)\n",
    "\n",
    "No Capítulo 4, estudaremos com detalhes as estruturas de decisão. No entanto, vale a pena, por enquanto, conhecer a sua forma mais básica para aplicação dos conhecimentos que estudaremos até lá.\n",
    "\n",
    "### Estrutura `if`\n",
    "\n",
    "A estrutura `if` permite executar um bloco de código se uma condição for avaliada como verdadeira (True). Aqui está um exemplo simples:\n",
    "\n",
    "```python\n",
    "# Exemplo de estrutura if\n",
    "idade = 21\n",
    "\n",
    "if idade >= 18:\n",
    "    print(\"Você é maior de idade.\")\n",
    "```\n",
    "\n",
    "Neste exemplo, o bloco de código dentro do `if` será executado apenas se a condição `idade >= 18` for verdadeira. Portanto, a mensagem \"Você é maior de idade.\" será impressa.\n",
    "\n",
    "### Estrutura `if-else`\n",
    "\n",
    "A estrutura `if-else` permite executar um bloco de código se a condição for verdadeira e outro bloco se a condição for falsa (False). Aqui está um exemplo:\n",
    "\n",
    "```python\n",
    "# Exemplo de estrutura if-else\n",
    "idade = 15\n",
    "\n",
    "if idade >= 18:\n",
    "    print(\"Você é maior de idade.\")\n",
    "else:\n",
    "    print(\"Você é menor de idade.\")\n",
    "```\n",
    "\n",
    "Neste caso, se a condição `idade >= 18` for verdadeira, o primeiro bloco será executado; caso contrário, o bloco dentro do `else` será executado. Portanto, se `idade` for menor que 18, a mensagem \"Você é menor de idade.\" será impressa."
   ]
  },
  {
   "cell_type": "markdown",
   "metadata": {
    "id": "0xxWXrPvnUAP"
   },
   "source": [
    "## Tipos de dados compostos\n",
    "São estruturas que possibilitam o armazenamento e organização eficientes de coleções de dados variados. Essas estruturas oferecem flexibilidade ao permitir a inclusão de diferentes tipos de dados, facilitando a manipulação e análise de informações de maneira mais abrangente."
   ]
  },
  {
   "cell_type": "markdown",
   "metadata": {
    "id": "0nQ9aWfJ0c7f"
   },
   "source": [
    "### Listas\n",
    "\n",
    "As Listas são um tipo de dados mutável, o que significa que podem ser alteradas após serem criadas. Elas são declaradas utilizando colchetes, e os valores são separados por vírgulas.\n",
    "Listas podem conter valores de qualquer tipo, incluindo inteiros, números de ponto flutuante, strings, booleanos e outros tipos de dados.\n",
    "\n",
    "Aqui estão alguns exemplos de uso de listas:\n",
    "\n",
    "```python\n",
    "# Criando uma lista vazia\n",
    "lista0 = []\n",
    "\n",
    "# Declaração de uma lista com três valores inteiros\n",
    "lista1 = [1, 2, 3]\n",
    "\n",
    "# Declaração de uma lista com três valores do tipo float\n",
    "lista2 = [1.0, 2.5, 3.14]\n",
    "\n",
    "# Declaração de uma lista com três valores strings\n",
    "lista3 = [\"Estou\", \"programando\", \"!\"]\n",
    "\n",
    "# Declaração de uma lista com três valores booleanos\n",
    "lista4 = [True, False, True]\n",
    "```\n",
    "\n",
    "As listas podem ser utilizadas para representar uma ampla variedade de dados. Por exemplo, podemos usar listas para representar listas de compras, listas de tarefas, etc.\n",
    "\n",
    "Aqui estão alguns exemplos específicos de uso de listas:\n",
    "\n",
    "Para representar uma lista de compras, podemos usar uma lista:\n",
    "\n",
    "```python\n",
    "lista_de_compras = [\"pão\", \"leite\", \"ovos\"]\n",
    "```\n",
    "\n",
    "Representando uma lista de tarefas, podemos usar uma lista:\n",
    "\n",
    "```python\n",
    "lista_de_tarefas = [\"lavar a louça\", \"varrer a casa\", \"estudar python\"]\n",
    "```\n",
    "\n",
    "Para representar uma lista de números, podemos usar uma lista:\n",
    "\n",
    "```python\n",
    "lista_de_numeros = [1, 2, 3, 10, 15]\n",
    "```\n",
    "\n",
    "Uma mesma lista também pode receber tipos diversos em sua atribuição. É comum a necessidade dessa mistura de tipos para solução de alguns tipos de problemas.\n",
    "\n",
    "```python\n",
    "lista_mista_tipos = [1, 2.5, \"Estou\", True, [1, 2, 3]]\n",
    "```\n",
    "\n",
    "Como pode ser visto, a lista `lista_mista_tipos` contém um inteiro, um número de ponto flutuante, uma string, um booleano e uma lista aninhada.\n",
    "\n",
    "\n",
    "Vamos agora conhecer os principais métodos utilizados quando trabalhamos com listas. Mas antes, o que são métodos em Python?\n",
    "\n",
    "Em termos simples, métodos em Python são como instruções especiais que dizemos a uma lista para ela realizar tarefas específicas. Cada método tem uma função específica, como adicionar, remover ou organizar elementos na lista."
   ]
  },
  {
   "cell_type": "code",
   "execution_count": 5,
   "metadata": {
    "colab": {
     "base_uri": "https://localhost:8080/"
    },
    "id": "AYuqXvUAPuyV",
    "outputId": "87056663-6655-428c-8880-15db1ae77135"
   },
   "outputs": [
    {
     "name": "stdout",
     "output_type": "stream",
     "text": [
      "lista Inicial:  [1, 2.5, 'Estou', True]\n",
      "Append:  [1, 2.5, 'Estou', True, 4]\n",
      "Extend:  [1, 2.5, 'Estou', True, 4, 5, 6, 7]\n",
      "Insert:  [1, 2.5, 'Olá', 'Estou', True, 4, 5, 6, 7]\n",
      "Remove:  [1, 2.5, 'Olá', True, 4, 5, 6, 7]\n",
      "Pop:  [1, 2.5, 'Olá', True, 4, 5, 6]\n",
      "Count: 1\n",
      "Reverse:  [6, 5, 4, True, 'Olá', 2.5, 1]\n"
     ]
    }
   ],
   "source": [
    "# Criando a Lista inicial\n",
    "lista_mista = [1, 2.5, \"Estou\", True]\n",
    "print(\"lista Inicial: \", lista_mista)\n",
    "\n",
    "# Adiciona um elemento ao final da lista\n",
    "lista_mista.append(4)\n",
    "print(\"Append: \", lista_mista)\n",
    "\n",
    "# Adiciona vários elementos ao final da lista\n",
    "lista_mista.extend([5, 6, 7])\n",
    "print(\"Extend: \", lista_mista)\n",
    "\n",
    "# Insere por exemplo, um elemento (Olá) em uma posição específica(2) da lista\n",
    "lista_mista.insert(2, \"Olá\")\n",
    "print(\"Insert: \", lista_mista)\n",
    "\n",
    "# Remove um elemento da lista\n",
    "lista_mista.remove(\"Estou\")\n",
    "print(\"Remove: \",lista_mista)\n",
    "\n",
    "# Remove o último elemento da lista\n",
    "lista_mista.pop()\n",
    "print(\"Pop: \", lista_mista)\n",
    "\n",
    "# Conta quantas vezes um elemento aparece na lista\n",
    "ocorrencias = lista_mista.count(2.5)\n",
    "print(\"Count:\", ocorrencias)\n",
    "\n",
    "# Inverte a ordem da lista\n",
    "lista_mista.reverse()\n",
    "print(\"Reverse: \", lista_mista)"
   ]
  },
  {
   "cell_type": "markdown",
   "metadata": {
    "id": "QcfJ5u7jQEsm"
   },
   "source": [
    "Em Python, os elementos em uma lista são organizados em uma sequência numerada chamada índice. O índice é como a posição de cada elemento na lista, começando do zero para o primeiro elemento. Por exemplo, em uma lista `[1, 2, 3, 4]`, o número 1 está no índice 0, o 2 no índice 1, e assim por diante.\n",
    "\n",
    "**Como Funciona:**\n",
    "\n",
    "- **Indexação Positiva:** Você pode acessar elementos contando a partir do início da lista. O primeiro elemento tem índice 0, o segundo tem índice 1, e assim por diante.\n",
    "\n",
    "- **Indexação Negativa:** Também é possível contar a partir do final da lista. O último elemento tem índice -1, o penúltimo tem índice -2, e assim por diante.\n",
    "\n",
    "**Como Utilizar:**\n",
    "\n",
    "- Para acessar um elemento em uma lista, você utiliza o operador de colchetes `[]` com o índice desejado. Por exemplo, `lista[2]` retorna o terceiro elemento da lista.\n",
    "\n",
    "- Para modificar um elemento, você pode usar a mesma notação de índice. Por exemplo, `lista[1] = 10` atribui o valor 10 ao segundo elemento da lista.\n",
    "\n",
    "Aqui está um exemplo prático:\n",
    "\n"
   ]
  },
  {
   "cell_type": "code",
   "execution_count": null,
   "metadata": {
    "colab": {
     "base_uri": "https://localhost:8080/"
    },
    "id": "1s1sjYQiOPXX",
    "outputId": "77399ccf-64ca-41b3-ff8d-d2f034e99f03"
   },
   "outputs": [
    {
     "name": "stdout",
     "output_type": "stream",
     "text": [
      "Primeiro elemento: 10\n",
      "Último elemento: 50\n",
      "Lista modificada: [10, 20, 35, 40, 50]\n"
     ]
    }
   ],
   "source": [
    "# Lista de exemplo\n",
    "numeros = [10, 20, 30, 40, 50]\n",
    "\n",
    "# Acessando elementos\n",
    "print(\"Primeiro elemento:\", numeros[0])\n",
    "print(\"Último elemento:\", numeros[-1])\n",
    "\n",
    "# Modificando elementos\n",
    "numeros[2] = 35\n",
    "print(\"Lista modificada:\", numeros)"
   ]
  },
  {
   "cell_type": "markdown",
   "metadata": {
    "id": "fpi-Pd2zOWxM"
   },
   "source": [
    "Lembre-se de que os índices devem estar dentro da faixa válida da lista para evitar erros."
   ]
  },
  {
   "cell_type": "markdown",
   "metadata": {
    "id": "B6hj9Q68UbuK"
   },
   "source": [
    "### Tuplas\n",
    "\n",
    "As tuplas são uma sequência de valores imutáveis. Isso significa que, uma vez criadas, as tuplas não podem ser alteradas.\n",
    "Elas são declaradas usando parênteses, com os valores separados por vírgulas. Por exemplo, a seguinte declaração cria uma tupla com três valores:\n",
    "\n",
    "```python\n",
    "tupla = (1, 2, 3)\n",
    "```\n",
    "\n",
    "As tuplas podem conter valores de qualquer tipo, incluindo inteiros, reais, strings, booleanos, etc.\n",
    "\n",
    "Aqui estão alguns exemplos de uso:\n",
    "\n",
    "```python\n",
    "# Declaração de uma tupla com três valores inteiros\n",
    "inteiros = (1, 2, 3)\n",
    "\n",
    "# Declaração de uma tupla com três valores do tipo float\n",
    "reais = (1.0, 2.5, 3.14)\n",
    "\n",
    "# Declaração de uma tupla com três valores strings\n",
    "strings = (\"Olá\", \"mundo\", \"!\")\n",
    "\n",
    "# Declaração de uma tupla com três valores booleanos\n",
    "booleanos = (True, False, True)\n",
    "\n",
    "# Declaração de uma tupla com valores de tipos diferentes\n",
    "tupla_mista = (True, 19, 7.5, \"a\")\n",
    "```\n",
    "\n",
    "As tuplas são um tipo de dados útil para representar dados que não precisam ser alterados. Por exemplo, podemos usar tuplas para representar coordenadas, dados de identificação, etc.\n",
    "\n",
    "Aqui estão alguns exemplos específicos de uso de tuplas em Python:\n",
    "\n",
    "Para representar as coordenadas de um ponto no plano cartesiano, podemos usar uma tupla:\n",
    "\n",
    "```python\n",
    "ponto = (1.0, 2.0)\n",
    "```\n",
    "\n",
    "Representaando o número de identificação de um funcionário, podemos usar uma tupla:\n",
    "\n",
    "```python\n",
    "identificacao = (1234567890, \"João da Silva\")\n",
    "```\n",
    "\n",
    "Para representar os dados de um produto, podemos usar uma tupla:\n",
    "\n",
    "```python\n",
    "produto = (\"Camisa\", \"P\", 100.0)\n",
    "```\n",
    "\n",
    "**Índices em Tuplas**\n",
    "\n",
    "Assim como em listas, as tuplas também utilizam índices para acessar seus elementos. Os índices em tuplas começam do 0 para o primeiro elemento e seguem uma sequência numérica.\n",
    "\n",
    "**Exemplo de Acesso por Índice:**\n"
   ]
  },
  {
   "cell_type": "code",
   "execution_count": null,
   "metadata": {
    "colab": {
     "base_uri": "https://localhost:8080/"
    },
    "id": "mN0XVvYNDuAW",
    "outputId": "6c481ff8-202a-414f-ef08-cb8581f4ee6a"
   },
   "outputs": [
    {
     "name": "stdout",
     "output_type": "stream",
     "text": [
      "Primeiro elemento: 10\n",
      "Terceiro elemento: 30\n"
     ]
    }
   ],
   "source": [
    "# Declaração de uma tupla\n",
    "tupla = (10, 20, 30, 40, 50)\n",
    "\n",
    "# Acessando elementos por índice\n",
    "primeiro_elemento = tupla[0]\n",
    "terceiro_elemento = tupla[2]\n",
    "\n",
    "print(\"Primeiro elemento:\", primeiro_elemento)\n",
    "print(\"Terceiro elemento:\", terceiro_elemento)"
   ]
  },
  {
   "cell_type": "markdown",
   "metadata": {
    "id": "CuWhKuJ-D3aE"
   },
   "source": [
    "**Observações:**\n",
    "Os índices negativos funcionam da mesma forma que em listas, onde -1 refere-se ao último elemento, -2 ao penúltimo, e assim por diante.\n"
   ]
  },
  {
   "cell_type": "code",
   "execution_count": null,
   "metadata": {
    "colab": {
     "base_uri": "https://localhost:8080/"
    },
    "id": "zf1YAdXLEHQk",
    "outputId": "5de058f0-be7d-4809-d523-9c901824be91"
   },
   "outputs": [
    {
     "name": "stdout",
     "output_type": "stream",
     "text": [
      "Último elemento: 50\n"
     ]
    }
   ],
   "source": [
    "# Acessando o último elemento por índice negativo\n",
    "ultimo_elemento = tupla[-1]\n",
    "print(\"Último elemento:\", ultimo_elemento)"
   ]
  },
  {
   "cell_type": "markdown",
   "metadata": {
    "id": "1nqWltooEGMq"
   },
   "source": [
    "**Índices em Tuplas Mistas**"
   ]
  },
  {
   "cell_type": "code",
   "execution_count": null,
   "metadata": {
    "id": "MOFNxyL5ENt5"
   },
   "outputs": [],
   "source": [
    "# Declaração de uma tupla com valores de tipos diferentes\n",
    "tupla_mista = (True, 19, 7.5, \"a\")\n",
    "\n",
    "# Acessando elementos por índice\n",
    "primeiro_elemento_misto = tupla_mista[0]\n",
    "ultimo_elemento_misto = tupla_mista[-1]\n",
    "\n",
    "print(\"Primeiro elemento misto:\", primeiro_elemento_misto)\n",
    "print(\"Último elemento misto:\", ultimo_elemento_misto)"
   ]
  },
  {
   "cell_type": "markdown",
   "metadata": {
    "id": "zCOXthdDEr9k"
   },
   "source": [
    "Os índices em tuplas permitem acessar e trabalhar com os elementos individualmente, facilitando a manipulação dessas estruturas de dados imutáveis em Python."
   ]
  },
  {
   "cell_type": "markdown",
   "metadata": {
    "id": "n529fWYGWAXc"
   },
   "source": [
    "Assim como as listas, as tuplas em Python possuem alguns métodos especiais que podem ser utilizados para realizar operações específicas. No entanto, devido à imutabilidade das tuplas (não é possível modificar uma tupla após sua criação), esses métodos são mais limitados em comparação com os disponíveis para listas.\n",
    "\n",
    "Aqui estão alguns dos métodos especiais comumente utilizados em tuplas:\n",
    "\n",
    "- **count(valor):**\n",
    "  Retorna o número de ocorrências do valor especificado na tupla.\n",
    "\n",
    "   Exemplo:\n",
    "\n",
    "  "
   ]
  },
  {
   "cell_type": "code",
   "execution_count": null,
   "metadata": {
    "colab": {
     "base_uri": "https://localhost:8080/"
    },
    "id": "Z_61k6ZiWqc3",
    "outputId": "e91388ed-d632-4df9-b825-042646cedb1d"
   },
   "outputs": [
    {
     "name": "stdout",
     "output_type": "stream",
     "text": [
      "3\n"
     ]
    }
   ],
   "source": [
    "   minha_tupla = (1, 2, 2, 3, 4, 2)\n",
    "   numero_de_dois = minha_tupla.count(2)\n",
    "   print(numero_de_dois)"
   ]
  },
  {
   "cell_type": "markdown",
   "metadata": {
    "id": "tqMXlgMmWo2H"
   },
   "source": [
    "- **index(valor[, start[, stop]]):**\n",
    "  Retorna o índice da primeira ocorrência do valor especificado. Você pode opcionalmente fornecer os argumentos `start` e `stop` para limitar a busca a uma sub-tupla.\n",
    "\n",
    "   Exemplo:"
   ]
  },
  {
   "cell_type": "code",
   "execution_count": null,
   "metadata": {
    "colab": {
     "base_uri": "https://localhost:8080/"
    },
    "id": "mNJwy_XuW3XF",
    "outputId": "3410d479-50ae-40a0-ef6a-084c447d6ab0"
   },
   "outputs": [
    {
     "name": "stdout",
     "output_type": "stream",
     "text": [
      "2\n"
     ]
    }
   ],
   "source": [
    "minha_tupla = (1, 2, 3, 4, 5)\n",
    "indice_do_tres = minha_tupla.index(3)\n",
    "print(indice_do_tres)"
   ]
  },
  {
   "cell_type": "markdown",
   "metadata": {
    "id": "RtfOR7_LW3_O"
   },
   "source": [
    "Lembre-se de que, devido à imutabilidade das tuplas, métodos que alteram o conteúdo (como `append`, `extend`, `remove`, `pop`, `insert`, etc.) não estão disponíveis para tuplas."
   ]
  },
  {
   "cell_type": "markdown",
   "metadata": {
    "id": "nocN6ii3UemP"
   },
   "source": [
    "### Dicionários\n",
    "\n",
    "Os dicionários servem para armazenar informações por meio de pares de chave e valor. Cada elemento do dicionário consiste em uma chave única associada a um valor correspondente.\n",
    "\n",
    "Para criar um dicionário, utilizamos chaves `{}` e separamos cada par chave-valor por vírgulas. Exemplo:\n",
    "\n",
    "```python\n",
    "dicionario = {\"nome\": \"João\", \"idade\": 30, \"cidade\": \"Natal\"}\n",
    "```\n",
    "\n",
    "- **Chaves:** São rótulos exclusivos que acessam os valores associados.\n",
    "- **Tipos de Chaves:** Podem ser de qualquer tipo de dado imutável, como strings, números inteiros ou reais.\n",
    "- **Tipos de Valores:** Podem ser de qualquer tipo de dado, inclusive listas ou tuplas.\n",
    "\n",
    "Os dicionários são úteis quando queremos associar informações relacionadas entre si. Por exemplo, no dicionário acima, \"nome\" é a chave associada ao valor \"João\". Essa estrutura flexível e poderosa é amplamente utilizada em Python para representar dados estruturados.\n",
    "\n",
    "**Exemplos de Uso:**\n",
    "\n",
    "```python\n",
    "# Acesso a um valor do dicionário\n",
    "nome = dicionario[\"nome\"]\n",
    "print(\"Nome:\", nome)\n",
    "\n",
    "# Alteração de um valor do dicionário\n",
    "dicionario[\"idade\"] = 31\n",
    "print(\"Idade atualizada:\", dicionario[\"idade\"])\n",
    "\n",
    "# Remoção de um valor do dicionário\n",
    "del dicionario[\"cidade\"]\n",
    "print(\"Dicionário após remoção:\", dicionario)\n",
    "```\n",
    "\n",
    "A capacidade de acessar elementos individualmente nos dicionários permite recuperar informações específicas de maneira direta. Essa característica torna os dicionários uma estrutura de dados poderosa para representar e manipular dados em Python."
   ]
  },
  {
   "cell_type": "markdown",
   "metadata": {
    "id": "XcA3uFiAhNw5"
   },
   "source": [
    "Os dicionários oferecem uma variedade de métodos para manipular e acessar os dados armazenados. Aqui estão alguns dos principais métodos de dicionários:\n",
    "\n",
    "**`clear()`:**\n",
    "Remove todos os itens do dicionário."
   ]
  },
  {
   "cell_type": "code",
   "execution_count": null,
   "metadata": {
    "colab": {
     "base_uri": "https://localhost:8080/"
    },
    "id": "X1RGk_tZh3rg",
    "outputId": "3345cd29-641d-46a5-c4a4-836866783535"
   },
   "outputs": [
    {
     "name": "stdout",
     "output_type": "stream",
     "text": [
      "{}\n"
     ]
    }
   ],
   "source": [
    "meu_dicionario = {\"nome\": \"João\", \"idade\": 25}\n",
    "meu_dicionario.clear()\n",
    "print(meu_dicionario)"
   ]
  },
  {
   "cell_type": "markdown",
   "metadata": {
    "id": "ksJFDOoZh4Ol"
   },
   "source": [
    "\n",
    "**`copy()`:**\n",
    "   Retorna uma cópia do dicionário."
   ]
  },
  {
   "cell_type": "code",
   "execution_count": null,
   "metadata": {
    "colab": {
     "base_uri": "https://localhost:8080/"
    },
    "id": "PlQtCXHch4y2",
    "outputId": "d0f954f2-6803-4d8b-f27f-5cfcb56888cf"
   },
   "outputs": [
    {
     "name": "stdout",
     "output_type": "stream",
     "text": [
      "{'nome': 'Maria', 'idade': 30}\n"
     ]
    }
   ],
   "source": [
    "meu_dicionario = {\"nome\": \"Maria\", \"idade\": 30}\n",
    "copia_dicionario = meu_dicionario.copy()\n",
    "print(copia_dicionario)"
   ]
  },
  {
   "cell_type": "markdown",
   "metadata": {
    "id": "WahqVQs5h49u"
   },
   "source": [
    "\n",
    "**`get(chave[, valor])`:**\n",
    "   Retorna o valor associado à chave especificada. Se a chave não existir, retorna um valor padrão (ou `None` se não fornecido).\n"
   ]
  },
  {
   "cell_type": "code",
   "execution_count": null,
   "metadata": {
    "id": "CxSNs8Pdh5IQ"
   },
   "outputs": [],
   "source": [
    "meu_dicionario = {\"nome\": \"Carlos\", \"idade\": 28}\n",
    "idade = meu_dicionario.get(\"idade\")\n",
    "print(idade)"
   ]
  },
  {
   "cell_type": "markdown",
   "metadata": {
    "id": "BgQ4d9jJh5SO"
   },
   "source": [
    "**`items()`:**\n",
    "   Retorna uma lista de tuplas contendo pares chave-valor.\n"
   ]
  },
  {
   "cell_type": "code",
   "execution_count": null,
   "metadata": {
    "id": "dqyyLjaqh5bf"
   },
   "outputs": [],
   "source": [
    "meu_dicionario = {\"nome\": \"Ana\", \"idade\": 35}\n",
    "itens = meu_dicionario.items()\n",
    "print(itens)"
   ]
  },
  {
   "cell_type": "markdown",
   "metadata": {
    "id": "9s-xJUQph5lP"
   },
   "source": [
    "**`keys()`:**\n",
    "   Retorna uma lista contendo todas as chaves do dicionário.\n"
   ]
  },
  {
   "cell_type": "code",
   "execution_count": null,
   "metadata": {
    "id": "ssJ8Usofh50t"
   },
   "outputs": [],
   "source": [
    "meu_dicionario = {\"nome\": \"Lucas\", \"idade\": 22}\n",
    "chaves = meu_dicionario.keys()\n",
    "print(chaves)"
   ]
  },
  {
   "cell_type": "markdown",
   "metadata": {
    "id": "1qX6z4FZh6AQ"
   },
   "source": [
    "\n",
    "**`values()`:**\n",
    "   Retorna uma lista contendo todos os valores do dicionário.\n"
   ]
  },
  {
   "cell_type": "code",
   "execution_count": null,
   "metadata": {
    "id": "DqI1KP7jh6J3"
   },
   "outputs": [],
   "source": [
    "meu_dicionario = {\"nome\": \"Julia\", \"idade\": 27}\n",
    "valores = meu_dicionario.values()\n",
    "print(valores)"
   ]
  },
  {
   "cell_type": "markdown",
   "metadata": {
    "id": "sdMZk_Xlh6Rt"
   },
   "source": [
    "\n",
    "**`pop(chave[, valor])`:**\n",
    "   Remove e retorna o valor associado à chave especificada. Se a chave não existir, retorna um valor padrão (ou gera um erro se não fornecido).\n"
   ]
  },
  {
   "cell_type": "code",
   "execution_count": null,
   "metadata": {
    "colab": {
     "base_uri": "https://localhost:8080/"
    },
    "id": "eCR0HTwWh6a0",
    "outputId": "5a775a18-7ecb-40c2-af44-349d3a113177"
   },
   "outputs": [
    {
     "name": "stdout",
     "output_type": "stream",
     "text": [
      "32\n"
     ]
    }
   ],
   "source": [
    "meu_dicionario = {\"nome\": \"Pedro\", \"idade\": 32}\n",
    "idade = meu_dicionario.pop(\"idade\")\n",
    "print(idade)"
   ]
  },
  {
   "cell_type": "markdown",
   "metadata": {
    "id": "bYZcHicoh6j_"
   },
   "source": [
    "\n",
    "**`popitem()`:**\n",
    "   Remove e retorna o último par chave-valor do dicionário como uma tupla.\n",
    "\n"
   ]
  },
  {
   "cell_type": "code",
   "execution_count": null,
   "metadata": {
    "id": "_OJISHrRh6t9"
   },
   "outputs": [],
   "source": [
    "meu_dicionario = {\"nome\": \"Fernanda\", \"idade\": 29}\n",
    "ultimo_item = meu_dicionario.popitem()\n",
    "print(ultimo_item)"
   ]
  },
  {
   "cell_type": "markdown",
   "metadata": {
    "id": "uIdiLIWOh652"
   },
   "source": [
    "\n",
    "**`update(dicionario)`:**\n",
    "   Atualiza o dicionário com pares chave-valor de outro dicionário ou iterável.\n"
   ]
  },
  {
   "cell_type": "code",
   "execution_count": null,
   "metadata": {
    "colab": {
     "base_uri": "https://localhost:8080/"
    },
    "id": "o48dQ8-lh7Cz",
    "outputId": "2a5f515d-c3bc-4ec7-fab0-28ecd3042759"
   },
   "outputs": [
    {
     "name": "stdout",
     "output_type": "stream",
     "text": [
      "{'nome': 'Rafael', 'idade': 26, 'cidade': 'São Paulo'}\n"
     ]
    }
   ],
   "source": [
    "meu_dicionario = {\"nome\": \"Rafael\", \"idade\": 26}\n",
    "outro_dicionario = {\"cidade\": \"São Paulo\"}\n",
    "meu_dicionario.update(outro_dicionario)\n",
    "print(meu_dicionario)"
   ]
  },
  {
   "cell_type": "markdown",
   "metadata": {
    "id": "ah4fzpLLj6Z-"
   },
   "source": [
    "\n",
    "Estes são apenas alguns dos métodos disponíveis para dicionários em Python. A escolha do método dependerá da operação específica que você deseja realizar."
   ]
  },
  {
   "cell_type": "markdown",
   "metadata": {
    "id": "nHuFRoSqUkQS"
   },
   "source": [
    "### Conjuntos\n",
    "\n",
    "Os conjuntos são uma estrutura de dados em Python que permite armazenar uma coleção de elementos únicos. Isso significa que, cada elemento de um conjunto deve ser diferente de todos os outros elementos deste conjunto.\n",
    "\n",
    "Os conjuntos são declarados usando chaves, com os elementos separados por vírgulas. Por exemplo, a seguinte declaração cria um conjunto com três elementos:\n",
    "\n",
    "```python\n",
    "conjunto = {1, 2, 3}\n",
    "```\n",
    "\n",
    "Você pode inicializar um conjunto vazio utilizando o comando `set()`. Por exemplo:\n",
    "\n",
    "```python\n",
    "conjunto_vazio = set()\n",
    "```\n",
    "\n",
    "Os elementos dos conjuntos podem ser de qualquer tipo de dados, incluindo inteiros, floats, strings, booleanos, etc. É importante saber que você não pode acessar os elementos de um conjunto em Python da mesma forma que você acessa por exemplo, os elementos de uma lista. No entanto, quando estudarmos estruturas de repetição, vamos descobrir algumas formas de como manipular esses elementos.\n",
    "\n",
    "Aqui estão alguns exemplos de uso de conjuntos:"
   ]
  },
  {
   "cell_type": "code",
   "execution_count": 1,
   "metadata": {
    "colab": {
     "base_uri": "https://localhost:8080/"
    },
    "id": "h-D2hsRr8T2W",
    "outputId": "e390613e-73a4-496c-bd86-126159a3cb45"
   },
   "outputs": [
    {
     "name": "stdout",
     "output_type": "stream",
     "text": [
      "{1, 3, 4}\n"
     ]
    }
   ],
   "source": [
    "# Declaração de um conjunto com três elementos\n",
    "conjunto = {1, 2, 3}\n",
    "\n",
    "# Adição de um elemento\n",
    "conjunto.add(4)\n",
    "\n",
    "# Remoção de um elemento\n",
    "conjunto.remove(2)\n",
    "\n",
    "print(conjunto)"
   ]
  },
  {
   "cell_type": "code",
   "execution_count": null,
   "metadata": {
    "colab": {
     "base_uri": "https://localhost:8080/"
    },
    "id": "lQfjTDXb8u3C",
    "outputId": "de576fd0-c1c2-45a9-fc4f-f3e3c6418bca"
   },
   "outputs": [
    {
     "name": "stdout",
     "output_type": "stream",
     "text": [
      "{1, 2, 3, 4, 5, 6}\n",
      "{2, 3}\n",
      "{1}\n"
     ]
    }
   ],
   "source": [
    "# União de conjuntos\n",
    "conjunto_1 = {1, 2, 3}\n",
    "conjunto_2 = {4, 5, 6}\n",
    "conjunto_uniao = conjunto_1 | conjunto_2\n",
    "print(conjunto_uniao)\n",
    "\n",
    "# Interseção de conjuntos\n",
    "conjunto_1 = {1, 2, 3}\n",
    "conjunto_2 = {2, 3, 4}\n",
    "conjunto_intersecao = conjunto_1 & conjunto_2\n",
    "print(conjunto_intersecao)\n",
    "\n",
    "# Diferença de conjuntos\n",
    "conjunto_1 = {1, 2, 3}\n",
    "conjunto_2 = {2, 3, 4}\n",
    "conjunto_diferenca = conjunto_1 - conjunto_2\n",
    "print(conjunto_diferenca)"
   ]
  },
  {
   "cell_type": "markdown",
   "metadata": {
    "id": "t2ChN52V8bmx"
   },
   "source": [
    "Os conjuntos são um tipo de dados que pode ser usado para representar uma ampla gama de dados. Por exemplo, podemos usar conjuntos para representar coleções de números, letras, etc.\n",
    "\n",
    "Aqui estão alguns exemplos específicos de uso de conjuntos em Python. Para representar uma coleção de números primos, podemos usar um conjunto:\n",
    "\n",
    "```python\n",
    "primos = {2, 3, 5, 7, 11, 13, 17, 19}\n",
    "```\n",
    "\n",
    "Para representar uma coleção de letras do alfabeto, podemos usar um conjunto:\n",
    "\n",
    "```python\n",
    "letras = {\"a\", \"b\", \"c\", \"d\", \"e\", \"f\", \"g\", \"h\", \"i\", \"j\", \"k\", \"l\", \"m\", \"n\", \"o\", \"p\", \"q\", \"r\", \"s\", \"t\", \"u\", \"v\", \"w\", \"x\", \"y\", \"z\"}\n",
    "```\n",
    "\n",
    "Para representar uma coleção de cores, podemos usar um conjunto:\n",
    "\n",
    "```python\n",
    "cores = {\"vermelho\", \"verde\", \"amarelo\", \"azul\", \"roxo\", \"preto\", \"branco\"}\n",
    "```\n",
    "\n",
    "**Exemplos de nomes didáticos para declarações de conjuntos:**\n",
    "\n",
    "```python\n",
    "# Declaração de um conjunto com três elementos\n",
    "conjunto_de_numeros = {1, 2, 3}\n",
    "\n",
    "# Declaração de um conjunto com as cores do arco-íris\n",
    "conjunto_de_cores = {\"vermelho\", \"laranja\", \"amarelo\", \"verde\", \"azul\", \"anil\", \"violeta\"}\n",
    "```\n",
    "\n",
    "A escolha do nome ideal para um conjunto depende do contexto em que ele será usado.\n",
    "\n",
    "\n"
   ]
  },
  {
   "cell_type": "markdown",
   "metadata": {
    "id": "bEQasNr1dpzk"
   },
   "source": [
    "## Exercícios\n",
    "\n",
    "1. Declare duas variáveis, uma do tipo int e outra do tipo float. Em seguida, atribuir a elas valores e imprimir o resultado da soma, da subtração, da multiplicação e da divisão entre as duas variáveis.\n",
    "   ```python\n",
    "   # Teste 1\n",
    "   Entrada:\n",
    "   10\n",
    "   2.5\n",
    "   Saída:\n",
    "   Soma: 12.5\n",
    "   Subtração: 7.5\n",
    "   Multiplicação: 25.0\n",
    "   Divisão: 4.0\n",
    "\n",
    "   # Teste 2\n",
    "   Entrada:\n",
    "   15\n",
    "   3.0\n",
    "   Saída:\n",
    "   Soma: 18.0\n",
    "   Subtração: 12.0\n",
    "   Multiplicação: 45.0\n",
    "   Divisão: 5.0 \n",
    "   ```\n",
    "\n",
    "2. Escreva um programa que solicite ao usuário que insira uma palavra ou frase. Em seguida, o programa deve imprimir o comprimento da string, a primeira letra da string, a última letra da string e a string invertida.\n",
    "   ```python\n",
    "   # Teste 1\n",
    "   Entrada: A felicidade está nas pequenas coisas\n",
    "   Saída:\n",
    "   37\n",
    "   A\n",
    "   s\n",
    "   sasioc saneuqep san átse edadicilef A\n",
    "   \n",
    "   # Teste 2\n",
    "   Entrada: A verdadeira liberdade está em conhecer a si mesmo\n",
    "   Saída:\n",
    "   37\n",
    "   A\n",
    "   s\n",
    "   sasioc saneuqep san átse edadicilef A\n",
    "   ```\n",
    "3. Escrever um programa que compare duas strings com valores booleanos (\"True\" ou \"False\") e imprima na tela se as strings são iguais ou diferentes, ignorando a capitalização.\n",
    "   ```python\n",
    "   # Teste 1\n",
    "   Entrada: \n",
    "   True\n",
    "   true   \n",
    "   Saída: São iguais\n",
    "   \n",
    "   # Teste 2\n",
    "   Entrada: \n",
    "   True\n",
    "   False\n",
    "   Saída: São diferentes\n",
    "   ```\n",
    "   \n",
    "4. Faça um programa que calcule o Índice de Massa Corporal (IMC) de uma pessoa. O IMC é calculado dividindo-se o peso da pessoa pela sua altura ao quadrado. O IMC é uma medida da relação entre o peso e a altura de uma pessoa. O programa deve imprimir o IMC da pessoa, classificando-o de acordo com a tabela abaixo:\n",
    "    ```\n",
    "    IMC | Classificação\n",
    "\n",
    "    < 18,5      | Abaixo do peso\n",
    "    18,5 - 24,9 | Saudável\n",
    "    25,0 - 29,9 | Sobrepeso\n",
    "    30,0 - 34,9 | Obesidade grau I\n",
    "    35,0 - 39,9 | Obesidade grau II\n",
    "    >= 40,0     | Obesidade grau III\n",
    "    ```\n",
    "\n",
    "   ```python\n",
    "   # Teste 1\n",
    "   Entrada: \n",
    "   71\n",
    "   1.70\n",
    "   Saída: \n",
    "   Seu IMC é 24.57 (Saudável).\n",
    "   \n",
    "   # Teste 2\n",
    "   Entrada: \n",
    "   85\n",
    "   1.60\n",
    "   Saída: \n",
    "   Seu IMC é 33.20 (Obesidade grau I).\n",
    "   ```\n",
    "\n",
    "5. Crie um programa que solicite ao usuário que insira cinco diferentes frutas. Em seguida, crie uma lista chamada “frutas” com as frutas fornecidas pelo usuário e imprima a lista completa na tela.\n",
    "   ```python\n",
    "   # Teste 1\n",
    "   Entrada: \n",
    "   maçã\n",
    "   banana\n",
    "   laranja\n",
    "   pera\n",
    "   melancia\n",
    "   Saída:\n",
    "   Lista de frutas: ['maçã', 'banana', 'laranja', 'pera', 'melancia']\n",
    "   \n",
    "   # Teste 2\n",
    "   Entrada: \n",
    "   uva\n",
    "   abacaxi\n",
    "   morango\n",
    "   manga\n",
    "   kiwi\n",
    "   Saída:\n",
    "   Lista de frutas: ['uva', 'abacaxi', 'morango', 'manga', 'kiwi']\n",
    "   ```\n",
    "\n",
    "6. Escreva um programa em solicite ao usuário que insira duas coordenadas (x e y). Em seguida, crie uma tupla chamada coordenadas com essas coordenadas e imprima o conteúdo da tupla na tela.\n",
    "    ```python\n",
    "   # Teste 1\n",
    "   Entrada: \n",
    "   2.5\n",
    "   3.8\n",
    "   Saída:\n",
    "   Coordenadas: (2.5, 3.8)\n",
    "   \n",
    "   # Teste 2\n",
    "   Entrada:\n",
    "   -1.0\n",
    "   0.0\n",
    "   Saída:\n",
    "   Coordenadas: (-1.0, 0.0)\n",
    "   ```\n",
    "\n",
    "7. Crie um dicionário chamado contato. Peça ao usuário para fornecer os dados para as chaves \"nome\", \"telefone\" e \"endereço\". Em seguida, imprima o conteúdo do dicionário.\n",
    "\n",
    "   ```python\n",
    "   # Teste 1\n",
    "   Entrada: \n",
    "   Python da Silva\n",
    "   8499999999\n",
    "   Rua da Programação, 123\n",
    "   Saída:\n",
    "   Nome: Python da Silva, Telefone: 8499999999, Endereço: Rua da Programação, 123.\n",
    "   \n",
    "   # Teste 2\n",
    "   Entrada:\n",
    "   João da Silva\n",
    "   9876543210\n",
    "   Avenida dos Códigos, 456\n",
    "   Saída:\n",
    "   Nome: João da Silva, Telefone: 9876543210, Endereço: Avenida dos Códigos, 456.\n",
    "   ```\n",
    "\n",
    "8. Crie um programa que solicite ao usuário que insira cinco diferentes números inteiros. Em seguida, crie um conjunto chamado “numeros” com os números fornecidos pelo usuário usando o método .add() e imprima o conjunto completo na saída.\n",
    "   ```python\n",
    "   # Teste 1\n",
    "   Entrada:\n",
    "   3\n",
    "   5\n",
    "   7\n",
    "   9\n",
    "   11\n",
    "   Saída:\n",
    "   {3, 5, 7, 9, 11}\n",
    "   \n",
    "   # Teste 2\n",
    "   Entrada:\n",
    "   -2\n",
    "   0\n",
    "   4\n",
    "   6\n",
    "   8\n",
    "   Saída:\n",
    "   {0, 4, 6, 8, -2}\n",
    "   ```\n",
    "\n",
    "9. Faça um programa que solicite ao usuário que insira três diferentes números inteiros. Em seguida, crie dois conjuntos chamados “conjunto_a” e “conjunto_b” com os números fornecidos pelo usuário usando o método .add(). Realize as seguintes operações e imprima os resultados:\n",
    "\n",
    "- União: Combinar os elementos únicos de ambos os conjuntos.\n",
    "- Interseção: Encontrar os elementos que estão presentes em ambos os conjuntos.\n",
    "- Diferença: Identificar os elementos que estão em “conjunto_a” mas não em “conjunto_b”.\n",
    "   ```python\n",
    "   # Teste 1\n",
    "   Entrada:\n",
    "   3\n",
    "   5\n",
    "   7\n",
    "   7\n",
    "   9\n",
    "   11\n",
    "   Saída:\n",
    "   União: {3, 5, 7, 9, 11}\n",
    "   Interseção: {7}\n",
    "   Diferença: {3, 5}\n",
    "   \n",
    "   # Teste 2\n",
    "   Entrada:\n",
    "   1\n",
    "   2\n",
    "   3\n",
    "   4\n",
    "   5\n",
    "   1\n",
    "   Saída:\n",
    "   União: {1, 2, 3, 4, 5}\n",
    "   Interseção: {1}\n",
    "   Diferença: {2, 3}\n",
    "   ```\n",
    "\n",
    "10. Dada duas strings fornecidas pelo usuário, realize as seguintes operações e imprima os resultados:\n",
    "- Transformar em maiúsculas: Converta toda a primeira string para letras maiúsculas.\n",
    "- Transformar em minúsculas: Converta toda a segunda string para letras minúsculas.\n",
    "- Concatenar as strings: Combine a primeira e a segunda string em uma única string.\n",
    "- Imprimir o resultado: Exiba a string concatenada na tela.\n",
    "  \n",
    "   ```python\n",
    "   # Teste 1\n",
    "   Entrada:\n",
    "   Olá, mundo.\n",
    "   Mundo\n",
    "   Saída:\n",
    "   OLÁ, MUNDO.\n",
    "   mundo\n",
    "   OLÁ, MUNDO. mundo\n",
    "  \n",
    "   # Teste 2\n",
    "   Entrada:\n",
    "   A Verdade Está Lá Fora, Neo.\n",
    "   Mas Você Tem Que Escolher Se Quer Vê-la.\n",
    "   Saída:\n",
    "   A VERDADE ESTÁ LÁ FORA, NEO.\n",
    "   mas você tem que escolher se quer vê-la.\n",
    "   A VERDADE ESTÁ LÁ FORA, NEO. mas você tem que escolher se quer vê-la.\n",
    "   ```\n",
    "11. Você deve criar um programa que verifica se os números em uma lista são pares ou ímpares. A lista possui tamanho 5 e será fornecida pelo usuário. Cada número na lista deve ser avaliado individualmente, sem o uso de estruturas de repetição (como loops). O programa deve exibir na tela se cada número é par ou ímpar.\n",
    "\n",
    "   ```python\n",
    "   # Teste 1\n",
    "   Entrada:\n",
    "   4\n",
    "   9\n",
    "   12\n",
    "   17\n",
    "   6\n",
    "   Saída:\n",
    "   O número 4 é par.\n",
    "   O número 9 é ímpar.\n",
    "   O número 12 é par.\n",
    "   O número 17 é ímpar.\n",
    "   O número 6 é par.\n",
    "   \n",
    "   # Teste 2\n",
    "   Entrada:\n",
    "   5\n",
    "   6\n",
    "   7\n",
    "   1\n",
    "   2   \n",
    "   Saída:\n",
    "   O número 5 é ímpar.\n",
    "   O número 6 é par.\n",
    "   O número 7 é ímpar.\n",
    "   O número 1 é ímpar.\n",
    "   O número 2 é par.\n",
    "   ```\n",
    "12. Escreva um programa para coletar informações de um aluno. Utilizando um dicionário denominado \"aluno\", solicite ao usuário as seguintes informações:\n",
    "\n",
    "- Nome do aluno.\n",
    "- Matrícula do aluno.\n",
    "- Três notas do aluno.\n",
    "\n",
    "Posteriormente, exiba na tela os dados registrados, incluindo o nome, matrícula e a média das três notas do aluno.\n",
    "\n",
    "Lembre-se de utilizar apenas estruturas de decisão (`if` e `else`) e não empregar estruturas de repetição ou funções adicionais. Utilize somente os métodos especiais dos dicionários para inserir e acessar os dados.\n",
    "\n",
    "   ```python\n",
    "   # Teste 1\n",
    "   Entrada:\n",
    "   Linus Benedict Torvalds\n",
    "   12345\n",
    "   8.5\n",
    "   7.2\n",
    "   9.0\n",
    "   Saída:\n",
    "   Nome: Linus Benedict Torvalds\n",
    "   Matrícula: 12345\n",
    "   Média: 8.23\n",
    "\n",
    "   # Teste 2\n",
    "   Entrada:\n",
    "   Ada Lovelace\n",
    "   67890\n",
    "   9.8\n",
    "   8.7\n",
    "   10.0\n",
    "   Saída:\n",
    "   Nome: Ada Lovelace\n",
    "   Matrícula: 67890\n",
    "   Média: 9.5\n",
    "   ```"
   ]
  }
 ],
 "metadata": {
  "colab": {
   "provenance": [],
   "toc_visible": true
  },
  "kernelspec": {
   "display_name": "Python 3 (ipykernel)",
   "language": "python",
   "name": "python3"
  },
  "language_info": {
   "codemirror_mode": {
    "name": "ipython",
    "version": 3
   },
   "file_extension": ".py",
   "mimetype": "text/x-python",
   "name": "python",
   "nbconvert_exporter": "python",
   "pygments_lexer": "ipython3",
   "version": "3.10.12"
  }
 },
 "nbformat": 4,
 "nbformat_minor": 4
}
