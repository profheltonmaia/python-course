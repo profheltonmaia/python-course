{
 "cells": [
  {
   "cell_type": "markdown",
   "metadata": {
    "id": "ULxWGdhVqcRt"
   },
   "source": [
    "# Capítulo 2: Váriáveis e Tipos de dados\n",
    "\n"
   ]
  },
  {
   "cell_type": "markdown",
   "metadata": {
    "id": "euhixBFzp2a9"
   },
   "source": [
    "## Definindo Variáveis e Tipos de Dados\n",
    "\n",
    "Uma variável é um identificador que representa um valor. Elas são utilizadas para armazenar informações como nomes, números ou textos. A declaração de uma variável é feita usando o operador de atribuição (`=`). Por exemplo, a linha a seguir cria uma variável chamada `nome` e atribui o valor \"Maria\" a ela:\n",
    "\n",
    "```python\n",
    "nome = \"Maria\"\n",
    "```\n",
    "\n",
    "Para acessar o valor armazenado em uma variável, basta utilizar o seu nome. O código a seguir, por exemplo, imprime o que foi armazenado na variável `nome`:\n",
    "\n",
    "```python\n",
    "print(nome)\n",
    "```\n",
    "\n",
    "Isso resultará na saída:\n",
    "\n",
    "```\n",
    "Maria\n",
    "```"
   ]
  },
  {
   "cell_type": "markdown",
   "metadata": {
    "id": "CjjwBPIPWYl7"
   },
   "source": [
    "## Tipos de dados Básicos\n",
    "\n"
   ]
  },
  {
   "cell_type": "markdown",
   "metadata": {
    "id": "qzfww3aOmwmp"
   },
   "source": [
    "### Números Inteiros\n",
    "\n",
    "O tipo inteiro é utilizado para representar números inteiros, tanto positivos quanto negativos, como 1, 2, 3, -1, -2, -3, entre outros. Esses valores são empregados para expressar quantidades e índices em programação, desempenhando um papel fundamental em diversas aplicações.\n",
    "\n",
    "Exemplos de uso de inteiros incluem:"
   ]
  },
  {
   "cell_type": "code",
   "execution_count": null,
   "metadata": {
    "colab": {
     "base_uri": "https://localhost:8080/"
    },
    "id": "ykCq6zHca8xJ",
    "outputId": "21189b56-42eb-42e9-9bf4-9b8241103234"
   },
   "outputs": [
    {
     "name": "stdout",
     "output_type": "stream",
     "text": [
      "40\n"
     ]
    }
   ],
   "source": [
    "# Declaração de uma variável do tipo inteiro\n",
    "x = 10\n",
    "\n",
    "# Atribuição de um valor a uma variável do tipo inteiro\n",
    "x = 20\n",
    "\n",
    "# Soma de dois inteiros\n",
    "print(x + 10)"
   ]
  },
  {
   "cell_type": "markdown",
   "metadata": {
    "id": "yz6F3mxIayp-"
   },
   "source": [
    "### Números de Ponto Flutuante\n",
    "\n",
    "O tipo de dado ponto flutuante, representado pelo tipo float em Python, é utilizado para expressar valores decimais, como 1.0, 2.5, 3.14, -1.0, -2.5, -3.14, entre outros. Tais valores são apropriados para representar grandezas que envolvem medidas, preços, e outras grandezas fracionárias.\n",
    "\n",
    "Aqui estão alguns exemplos de uso de números de ponto flutuante:"
   ]
  },
  {
   "cell_type": "code",
   "execution_count": null,
   "metadata": {
    "colab": {
     "base_uri": "https://localhost:8080/"
    },
    "id": "nIJP28rXa1tE",
    "outputId": "a1fecdf6-4ca4-4a9e-dd0b-141d3233a873"
   },
   "outputs": [
    {
     "name": "stdout",
     "output_type": "stream",
     "text": [
      "1.5\n"
     ]
    }
   ],
   "source": [
    "# Declaração de uma variável do tipo float\n",
    "y = 3.14\n",
    "\n",
    "# Atribuição de um valor a uma variável do tipo float\n",
    "y = 2.5\n",
    "\n",
    "# Subtração de dois floats\n",
    "print(y - 1.0)"
   ]
  },
  {
   "cell_type": "markdown",
   "metadata": {
    "id": "t04u6LqcatGa"
   },
   "source": [
    "### Strings\n",
    "\n",
    "O tipo de dado string representa sequências de caracteres, como \"Olá, turma!\", \"123\", \"abc\", etc. Essas estruturas são comumente utilizadas para representar texto e nomes.\n",
    "\n",
    "Aqui estão alguns exemplos de uso de strings:"
   ]
  },
  {
   "cell_type": "code",
   "execution_count": null,
   "metadata": {
    "id": "vEC57Swcaaoc"
   },
   "outputs": [],
   "source": [
    "# Declaração de uma variável do tipo string\n",
    "z = \"Olá, turma!\"\n",
    "\n",
    "# Atribuição de um valor a uma variável do tipo string\n",
    "z = \"123\"\n",
    "\n",
    "# Concatenação de duas strings\n",
    "print(z + \", como vai?\")"
   ]
  },
  {
   "cell_type": "markdown",
   "metadata": {
    "id": "lplwHxbl2UCr"
   },
   "source": [
    "Em Python, tanto as aspas simples (`'`) quanto as aspas duplas (`\"`) podem ser usadas para definir literais de strings. Não há diferença funcional entre elas; você pode usar qualquer uma delas de forma intercambiável para criar strings. A escolha entre as aspas simples e duplas é principalmente uma questão de estilo e preferência pessoal. Por exemplo:\n",
    "\n",
    "```python\n",
    "aspas_simples = 'Esta é uma string com aspas simples.'\n",
    "aspas_duplas = \"Esta é uma string com aspas duplas.\"\n",
    "```\n",
    "\n",
    "Você pode usar um tipo de aspas para definir uma string que contenha o outro tipo de aspas sem problemas. Por exemplo:\n",
    "\n",
    "```python\n",
    "com_outras_aspas = \"Esta string contém 'aspas simples' dentro dela.\"\n",
    "```\n",
    "\n",
    "Ou:\n",
    "\n",
    "```python\n",
    "com_outras_aspas = 'Esta string contém \"aspas duplas\" dentro dela.'\n",
    "```\n",
    "\n",
    "Ambos os exemplos são válidos, e o Python permite que você use aspas simples dentro de uma string delimitada por aspas duplas e vice-versa."
   ]
  },
  {
   "cell_type": "markdown",
   "metadata": {
    "id": "DMSWpKnEandh"
   },
   "source": [
    "### Booleanos\n",
    "\n",
    "Os tipos booleanos representam valores lógicos, ou seja, podem ser True ou False. Esses valores são comumente utilizados para representar condições, resultados de testes e expressões lógicas.\n",
    "\n",
    "Os tipos booleanos representam valores lógicos, sendo esses valores True (verdadeiro) ou False (falso). Além disso, é importante destacar que em Python, 0 é frequentemente interpretado como False e 1 como True em contextos booleanos, ampliando a flexibilidade na expressão de condições, resultados de testes e avaliação de expressões lógicas.\n",
    "\n",
    "Aqui estão alguns exemplos de uso de booleanos:\n"
   ]
  },
  {
   "cell_type": "code",
   "execution_count": 1,
   "metadata": {
    "id": "wiuyyDOTYJz4"
   },
   "outputs": [
    {
     "name": "stdout",
     "output_type": "stream",
     "text": [
      "False\n"
     ]
    }
   ],
   "source": [
    "# Declaração de uma variável do tipo booleano\n",
    "a = True\n",
    "\n",
    "# Atribuição de um valor a uma variável do tipo booleano\n",
    "a = False\n",
    "\n",
    "# Comparação de dois valores\n",
    "print(10 > 20)"
   ]
  },
  {
   "cell_type": "markdown",
   "metadata": {
    "id": "0xxWXrPvnUAP"
   },
   "source": [
    "## Tipos de dados compostos"
   ]
  },
  {
   "cell_type": "markdown",
   "metadata": {
    "id": "0nQ9aWfJ0c7f"
   },
   "source": [
    "### Listas\n",
    "\n",
    "As Listas são um tipo de dados mutável, o que significa que podem ser alteradas após serem criadas. Elas são declaradas utilizando colchetes, e os valores são separados por vírgulas.\n",
    "Listas podem conter valores de qualquer tipo, incluindo inteiros, números de ponto flutuante, strings, booleanos e outros tipos de dados.\n",
    "\n",
    "Aqui estão alguns exemplos de uso de listas:\n",
    "\n",
    "```python\n",
    "# Declaração de uma lista com três valores inteiros\n",
    "lista1 = [1, 2, 3]\n",
    "\n",
    "# Declaração de uma lista com três valores do tipo float\n",
    "lista2 = [1.0, 2.5, 3.14]\n",
    "\n",
    "# Declaração de uma lista com três valores strings\n",
    "lista3 = [\"Estou\", \"programando\", \"!\"]\n",
    "\n",
    "# Declaração de uma lista com três valores booleanos\n",
    "lista4 = [True, False, True]\n",
    "```\n",
    "\n",
    "As listas podem ser utilizadas para representar uma ampla variedade de dados. Por exemplo, podemos usar listas para representar listas de compras, listas de tarefas, etc.\n",
    "\n",
    "Aqui estão alguns exemplos específicos de uso de listas:\n",
    "\n",
    "Para representar uma lista de compras, podemos usar uma lista:\n",
    "\n",
    "```python\n",
    "lista_de_compras = [\"pão\", \"leite\", \"ovos\"]\n",
    "```\n",
    "\n",
    "Representando uma lista de tarefas, podemos usar uma lista:\n",
    "\n",
    "```python\n",
    "lista_de_tarefas = [\"lavar a louça\", \"varrer a casa\", \"estudar python\"]\n",
    "```\n",
    "\n",
    "Para representar uma lista de números, podemos usar uma lista:\n",
    "\n",
    "```python\n",
    "lista_de_numeros = [1, 2, 3, 10, 15]\n",
    "```\n",
    "\n",
    "Uma mesma lista também pode receber tipos diversos em sua atribuição. É comum a necessidade dessa mistura de tipos para solução de alguns tipos de problemas.\n",
    "\n",
    "```python\n",
    "lista_mista_tipos = [1, 2.5, \"Estou\", True, [1, 2, 3]]\n",
    "```\n",
    "\n",
    "Como pode ser visto, a lista `lista_mista_tipos` contém um inteiro, um número de ponto flutuante, uma string, um booleano e uma lista aninhada.\n",
    "\n",
    "\n",
    "Vamos agora conhecer os principais métodos utilizados quando trabalhamos com listas. Mas antes, o que são métodos em Python?\n",
    "\n",
    "Em termos simples, métodos em Python são como instruções especiais que dizemos a uma lista para ela realizar tarefas específicas. Cada método tem uma função específica, como adicionar, remover ou organizar elementos na lista."
   ]
  },
  {
   "cell_type": "code",
   "execution_count": null,
   "metadata": {
    "colab": {
     "base_uri": "https://localhost:8080/"
    },
    "id": "AYuqXvUAPuyV",
    "outputId": "87056663-6655-428c-8880-15db1ae77135"
   },
   "outputs": [
    {
     "name": "stdout",
     "output_type": "stream",
     "text": [
      "[1, 2.5, 'Estou', True, 4]\n",
      "[1, 2.5, 'Estou', True, 4, 5, 6, 7]\n",
      "[1, 2.5, 'Olá', 'Estou', True, 4, 5, 6, 7]\n",
      "[1, 2.5, 'Olá', True, 4, 5, 6, 7]\n",
      "[1, 2.5, 'Olá', True, 4, 5, 6]\n",
      "1\n",
      "Lista invertida: [6, 5, 4, True, 'Olá', 2.5, 1]\n"
     ]
    }
   ],
   "source": [
    "# Criando a Lista inicial\n",
    "lista_mista = [1, 2.5, \"Estou\", True]\n",
    "\n",
    "# Adiciona um elemento ao final da lista\n",
    "lista_mista.append(4)\n",
    "print(lista_mista)\n",
    "\n",
    "# Adiciona vários elementos ao final da lista\n",
    "lista_mista.extend([5, 6, 7])\n",
    "print(lista_mista)\n",
    "\n",
    "# Insere um elemento em uma posição específica da lista\n",
    "lista_mista.insert(2, \"Olá\")\n",
    "print(lista_mista)\n",
    "\n",
    "# Remove um elemento da lista\n",
    "lista_mista.remove(\"Estou\")\n",
    "print(lista_mista)\n",
    "\n",
    "# Remove o último elemento da lista\n",
    "lista_mista.pop()\n",
    "print(lista_mista)\n",
    "\n",
    "# Conta quantas vezes um elemento aparece na lista\n",
    "ocorrencias = lista_mista.count(2.5)\n",
    "print(ocorrencias)\n",
    "\n",
    "# Inverte a ordem da lista\n",
    "lista_mista.reverse()\n",
    "print(\"Lista invertida:\", lista_mista)"
   ]
  },
  {
   "cell_type": "markdown",
   "metadata": {
    "id": "QcfJ5u7jQEsm"
   },
   "source": [
    "Em Python, os elementos em uma lista são organizados em uma sequência numerada chamada índice. O índice é como a posição de cada elemento na lista, começando do zero para o primeiro elemento. Por exemplo, em uma lista `[1, 2, 3, 4]`, o número 1 está no índice 0, o 2 no índice 1, e assim por diante.\n",
    "\n",
    "**Como Funciona:**\n",
    "\n",
    "- **Indexação Positiva:** Você pode acessar elementos contando a partir do início da lista. O primeiro elemento tem índice 0, o segundo tem índice 1, e assim por diante.\n",
    "\n",
    "- **Indexação Negativa:** Também é possível contar a partir do final da lista. O último elemento tem índice -1, o penúltimo tem índice -2, e assim por diante.\n",
    "\n",
    "**Como Utilizar:**\n",
    "\n",
    "- Para acessar um elemento em uma lista, você utiliza o operador de colchetes `[]` com o índice desejado. Por exemplo, `lista[2]` retorna o terceiro elemento da lista.\n",
    "\n",
    "- Para modificar um elemento, você pode usar a mesma notação de índice. Por exemplo, `lista[1] = 10` atribui o valor 10 ao segundo elemento da lista.\n",
    "\n",
    "Aqui está um exemplo prático:\n",
    "\n"
   ]
  },
  {
   "cell_type": "code",
   "execution_count": null,
   "metadata": {
    "colab": {
     "base_uri": "https://localhost:8080/"
    },
    "id": "1s1sjYQiOPXX",
    "outputId": "77399ccf-64ca-41b3-ff8d-d2f034e99f03"
   },
   "outputs": [
    {
     "name": "stdout",
     "output_type": "stream",
     "text": [
      "Primeiro elemento: 10\n",
      "Último elemento: 50\n",
      "Lista modificada: [10, 20, 35, 40, 50]\n"
     ]
    }
   ],
   "source": [
    "# Lista de exemplo\n",
    "numeros = [10, 20, 30, 40, 50]\n",
    "\n",
    "# Acessando elementos\n",
    "print(\"Primeiro elemento:\", numeros[0])\n",
    "print(\"Último elemento:\", numeros[-1])\n",
    "\n",
    "# Modificando elementos\n",
    "numeros[2] = 35\n",
    "print(\"Lista modificada:\", numeros)"
   ]
  },
  {
   "cell_type": "markdown",
   "metadata": {
    "id": "fpi-Pd2zOWxM"
   },
   "source": [
    "Lembre-se de que os índices devem estar dentro da faixa válida da lista para evitar erros."
   ]
  },
  {
   "cell_type": "markdown",
   "metadata": {
    "id": "B6hj9Q68UbuK"
   },
   "source": [
    "### Tuplas\n",
    "\n",
    "As tuplas são uma sequência de valores imutáveis. Isso significa que, uma vez criadas, as tuplas não podem ser alteradas.\n",
    "Elas são declaradas usando parênteses, com os valores separados por vírgulas. Por exemplo, a seguinte declaração cria uma tupla com três valores:\n",
    "\n",
    "```python\n",
    "tupla = (1, 2, 3)\n",
    "```\n",
    "\n",
    "As tuplas podem conter valores de qualquer tipo, incluindo inteiros, reais, strings, booleanos, etc.\n",
    "\n",
    "Aqui estão alguns exemplos de uso:\n",
    "\n",
    "```python\n",
    "# Declaração de uma tupla com três valores inteiros\n",
    "inteiros = (1, 2, 3)\n",
    "\n",
    "# Declaração de uma tupla com três valores do tipo float\n",
    "reais = (1.0, 2.5, 3.14)\n",
    "\n",
    "# Declaração de uma tupla com três valores strings\n",
    "strings = (\"Olá\", \"mundo\", \"!\")\n",
    "\n",
    "# Declaração de uma tupla com três valores booleanos\n",
    "booleanos = (True, False, True)\n",
    "\n",
    "# Declaração de uma tupla com valores de tipos diferentes\n",
    "tupla_mista = (True, 19, 7.5, \"a\")\n",
    "```\n",
    "\n",
    "As tuplas são um tipo de dados útil para representar dados que não precisam ser alterados. Por exemplo, podemos usar tuplas para representar coordenadas, dados de identificação, etc.\n",
    "\n",
    "Aqui estão alguns exemplos específicos de uso de tuplas em Python:\n",
    "\n",
    "Para representar as coordenadas de um ponto no plano cartesiano, podemos usar uma tupla:\n",
    "\n",
    "```python\n",
    "ponto = (1.0, 2.0)\n",
    "```\n",
    "\n",
    "Representaando o número de identificação de um funcionário, podemos usar uma tupla:\n",
    "\n",
    "```python\n",
    "identificacao = (1234567890, \"João da Silva\")\n",
    "```\n",
    "\n",
    "Para representar os dados de um produto, podemos usar uma tupla:\n",
    "\n",
    "```python\n",
    "produto = (\"Camisa\", \"P\", 100.0)\n",
    "```\n",
    "\n",
    "**Índices em Tuplas**\n",
    "\n",
    "Assim como em listas, as tuplas também utilizam índices para acessar seus elementos. Os índices em tuplas começam do 0 para o primeiro elemento e seguem uma sequência numérica.\n",
    "\n",
    "**Exemplo de Acesso por Índice:**\n"
   ]
  },
  {
   "cell_type": "code",
   "execution_count": null,
   "metadata": {
    "colab": {
     "base_uri": "https://localhost:8080/"
    },
    "id": "mN0XVvYNDuAW",
    "outputId": "6c481ff8-202a-414f-ef08-cb8581f4ee6a"
   },
   "outputs": [
    {
     "name": "stdout",
     "output_type": "stream",
     "text": [
      "Primeiro elemento: 10\n",
      "Terceiro elemento: 30\n"
     ]
    }
   ],
   "source": [
    "# Declaração de uma tupla\n",
    "tupla = (10, 20, 30, 40, 50)\n",
    "\n",
    "# Acessando elementos por índice\n",
    "primeiro_elemento = tupla[0]\n",
    "terceiro_elemento = tupla[2]\n",
    "\n",
    "print(\"Primeiro elemento:\", primeiro_elemento)\n",
    "print(\"Terceiro elemento:\", terceiro_elemento)"
   ]
  },
  {
   "cell_type": "markdown",
   "metadata": {
    "id": "CuWhKuJ-D3aE"
   },
   "source": [
    "**Observações:**\n",
    "Os índices negativos funcionam da mesma forma que em listas, onde -1 refere-se ao último elemento, -2 ao penúltimo, e assim por diante.\n"
   ]
  },
  {
   "cell_type": "code",
   "execution_count": null,
   "metadata": {
    "colab": {
     "base_uri": "https://localhost:8080/"
    },
    "id": "zf1YAdXLEHQk",
    "outputId": "5de058f0-be7d-4809-d523-9c901824be91"
   },
   "outputs": [
    {
     "name": "stdout",
     "output_type": "stream",
     "text": [
      "Último elemento: 50\n"
     ]
    }
   ],
   "source": [
    "# Acessando o último elemento por índice negativo\n",
    "ultimo_elemento = tupla[-1]\n",
    "print(\"Último elemento:\", ultimo_elemento)"
   ]
  },
  {
   "cell_type": "markdown",
   "metadata": {
    "id": "1nqWltooEGMq"
   },
   "source": [
    "**Índices em Tuplas Mistas**"
   ]
  },
  {
   "cell_type": "code",
   "execution_count": null,
   "metadata": {
    "id": "MOFNxyL5ENt5"
   },
   "outputs": [],
   "source": [
    "# Declaração de uma tupla com valores de tipos diferentes\n",
    "tupla_mista = (True, 19, 7.5, \"a\")\n",
    "\n",
    "# Acessando elementos por índice\n",
    "primeiro_elemento_misto = tupla_mista[0]\n",
    "ultimo_elemento_misto = tupla_mista[-1]\n",
    "\n",
    "print(\"Primeiro elemento misto:\", primeiro_elemento_misto)\n",
    "print(\"Último elemento misto:\", ultimo_elemento_misto)"
   ]
  },
  {
   "cell_type": "markdown",
   "metadata": {
    "id": "zCOXthdDEr9k"
   },
   "source": [
    "Os índices em tuplas permitem acessar e trabalhar com os elementos individualmente, facilitando a manipulação dessas estruturas de dados imutáveis em Python."
   ]
  },
  {
   "cell_type": "markdown",
   "metadata": {
    "id": "n529fWYGWAXc"
   },
   "source": [
    "Assim como as listas, as tuplas em Python possuem alguns métodos especiais que podem ser utilizados para realizar operações específicas. No entanto, devido à imutabilidade das tuplas (não é possível modificar uma tupla após sua criação), esses métodos são mais limitados em comparação com os disponíveis para listas.\n",
    "\n",
    "Aqui estão alguns dos métodos especiais comumente utilizados em tuplas:\n",
    "\n",
    "- **count(valor):**\n",
    "  Retorna o número de ocorrências do valor especificado na tupla.\n",
    "\n",
    "   Exemplo:\n",
    "\n",
    "  "
   ]
  },
  {
   "cell_type": "code",
   "execution_count": null,
   "metadata": {
    "colab": {
     "base_uri": "https://localhost:8080/"
    },
    "id": "Z_61k6ZiWqc3",
    "outputId": "e91388ed-d632-4df9-b825-042646cedb1d"
   },
   "outputs": [
    {
     "name": "stdout",
     "output_type": "stream",
     "text": [
      "3\n"
     ]
    }
   ],
   "source": [
    "   minha_tupla = (1, 2, 2, 3, 4, 2)\n",
    "   numero_de_dois = minha_tupla.count(2)\n",
    "   print(numero_de_dois)"
   ]
  },
  {
   "cell_type": "markdown",
   "metadata": {
    "id": "tqMXlgMmWo2H"
   },
   "source": [
    "- **index(valor[, start[, stop]]):**\n",
    "  Retorna o índice da primeira ocorrência do valor especificado. Você pode opcionalmente fornecer os argumentos `start` e `stop` para limitar a busca a uma sub-tupla.\n",
    "\n",
    "   Exemplo:"
   ]
  },
  {
   "cell_type": "code",
   "execution_count": null,
   "metadata": {
    "colab": {
     "base_uri": "https://localhost:8080/"
    },
    "id": "mNJwy_XuW3XF",
    "outputId": "3410d479-50ae-40a0-ef6a-084c447d6ab0"
   },
   "outputs": [
    {
     "name": "stdout",
     "output_type": "stream",
     "text": [
      "2\n"
     ]
    }
   ],
   "source": [
    "minha_tupla = (1, 2, 3, 4, 5)\n",
    "indice_do_tres = minha_tupla.index(3)\n",
    "print(indice_do_tres)"
   ]
  },
  {
   "cell_type": "markdown",
   "metadata": {
    "id": "RtfOR7_LW3_O"
   },
   "source": [
    "Lembre-se de que, devido à imutabilidade das tuplas, métodos que alteram o conteúdo (como `append`, `extend`, `remove`, `pop`, `insert`, etc.) não estão disponíveis para tuplas."
   ]
  },
  {
   "cell_type": "markdown",
   "metadata": {
    "id": "nocN6ii3UemP"
   },
   "source": [
    "### Dicionários\n",
    "\n",
    "Os dicionários servem para armazenar informações por meio de pares de chave e valor. Cada elemento do dicionário consiste em uma chave única associada a um valor correspondente.\n",
    "\n",
    "Para criar um dicionário, utilizamos chaves `{}` e separamos cada par chave-valor por vírgulas. Exemplo:\n",
    "\n",
    "```python\n",
    "dicionario = {\"nome\": \"João\", \"idade\": 30, \"cidade\": \"Natal\"}\n",
    "```\n",
    "\n",
    "- **Chaves:** São rótulos exclusivos que acessam os valores associados.\n",
    "- **Tipos de Chaves:** Podem ser de qualquer tipo de dado imutável, como strings, números inteiros ou reais.\n",
    "- **Tipos de Valores:** Podem ser de qualquer tipo de dado, inclusive listas ou tuplas.\n",
    "\n",
    "Os dicionários são úteis quando queremos associar informações relacionadas entre si. Por exemplo, no dicionário acima, \"nome\" é a chave associada ao valor \"João\". Essa estrutura flexível e poderosa é amplamente utilizada em Python para representar dados estruturados de forma eficiente.\n",
    "\n",
    "**Exemplos de Uso:**\n",
    "\n",
    "```python\n",
    "# Acesso a um valor do dicionário\n",
    "nome = dicionario[\"nome\"]\n",
    "print(\"Nome:\", nome)\n",
    "\n",
    "# Alteração de um valor do dicionário\n",
    "dicionario[\"idade\"] = 31\n",
    "print(\"Idade atualizada:\", dicionario[\"idade\"])\n",
    "\n",
    "# Remoção de um valor do dicionário\n",
    "del dicionario[\"cidade\"]\n",
    "print(\"Dicionário após remoção:\", dicionario)\n",
    "```\n",
    "\n",
    "A capacidade de acessar elementos individualmente nos dicionários permite recuperar informações específicas de maneira direta e eficiente. Essa característica torna os dicionários uma estrutura de dados poderosa para representar e manipular dados em Python."
   ]
  },
  {
   "cell_type": "markdown",
   "metadata": {
    "id": "XcA3uFiAhNw5"
   },
   "source": [
    "Os dicionários oferecem uma variedade de métodos para manipular e acessar os dados armazenados. Aqui estão alguns dos principais métodos de dicionários:\n",
    "\n",
    "**`clear()`:**\n",
    "Remove todos os itens do dicionário."
   ]
  },
  {
   "cell_type": "code",
   "execution_count": null,
   "metadata": {
    "colab": {
     "base_uri": "https://localhost:8080/"
    },
    "id": "X1RGk_tZh3rg",
    "outputId": "3345cd29-641d-46a5-c4a4-836866783535"
   },
   "outputs": [
    {
     "name": "stdout",
     "output_type": "stream",
     "text": [
      "{}\n"
     ]
    }
   ],
   "source": [
    "meu_dicionario = {\"nome\": \"João\", \"idade\": 25}\n",
    "meu_dicionario.clear()\n",
    "print(meu_dicionario)"
   ]
  },
  {
   "cell_type": "markdown",
   "metadata": {
    "id": "ksJFDOoZh4Ol"
   },
   "source": [
    "\n",
    "**`copy()`:**\n",
    "   Retorna uma cópia do dicionário."
   ]
  },
  {
   "cell_type": "code",
   "execution_count": null,
   "metadata": {
    "colab": {
     "base_uri": "https://localhost:8080/"
    },
    "id": "PlQtCXHch4y2",
    "outputId": "d0f954f2-6803-4d8b-f27f-5cfcb56888cf"
   },
   "outputs": [
    {
     "name": "stdout",
     "output_type": "stream",
     "text": [
      "{'nome': 'Maria', 'idade': 30}\n"
     ]
    }
   ],
   "source": [
    "meu_dicionario = {\"nome\": \"Maria\", \"idade\": 30}\n",
    "copia_dicionario = meu_dicionario.copy()\n",
    "print(copia_dicionario)"
   ]
  },
  {
   "cell_type": "markdown",
   "metadata": {
    "id": "WahqVQs5h49u"
   },
   "source": [
    "\n",
    "**`get(chave[, valor])`:**\n",
    "   Retorna o valor associado à chave especificada. Se a chave não existir, retorna um valor padrão (ou `None` se não fornecido).\n"
   ]
  },
  {
   "cell_type": "code",
   "execution_count": null,
   "metadata": {
    "id": "CxSNs8Pdh5IQ"
   },
   "outputs": [],
   "source": [
    "meu_dicionario = {\"nome\": \"Carlos\", \"idade\": 28}\n",
    "idade = meu_dicionario.get(\"idade\")\n",
    "print(idade)"
   ]
  },
  {
   "cell_type": "markdown",
   "metadata": {
    "id": "BgQ4d9jJh5SO"
   },
   "source": [
    "**`items()`:**\n",
    "   Retorna uma lista de tuplas contendo pares chave-valor.\n"
   ]
  },
  {
   "cell_type": "code",
   "execution_count": null,
   "metadata": {
    "id": "dqyyLjaqh5bf"
   },
   "outputs": [],
   "source": [
    "meu_dicionario = {\"nome\": \"Ana\", \"idade\": 35}\n",
    "itens = meu_dicionario.items()\n",
    "print(itens)"
   ]
  },
  {
   "cell_type": "markdown",
   "metadata": {
    "id": "9s-xJUQph5lP"
   },
   "source": [
    "**`keys()`:**\n",
    "   Retorna uma lista contendo todas as chaves do dicionário.\n"
   ]
  },
  {
   "cell_type": "code",
   "execution_count": null,
   "metadata": {
    "id": "ssJ8Usofh50t"
   },
   "outputs": [],
   "source": [
    "meu_dicionario = {\"nome\": \"Lucas\", \"idade\": 22}\n",
    "chaves = meu_dicionario.keys()\n",
    "print(chaves)"
   ]
  },
  {
   "cell_type": "markdown",
   "metadata": {
    "id": "1qX6z4FZh6AQ"
   },
   "source": [
    "\n",
    "**`values()`:**\n",
    "   Retorna uma lista contendo todos os valores do dicionário.\n"
   ]
  },
  {
   "cell_type": "code",
   "execution_count": null,
   "metadata": {
    "id": "DqI1KP7jh6J3"
   },
   "outputs": [],
   "source": [
    "meu_dicionario = {\"nome\": \"Julia\", \"idade\": 27}\n",
    "valores = meu_dicionario.values()\n",
    "print(valores)"
   ]
  },
  {
   "cell_type": "markdown",
   "metadata": {
    "id": "sdMZk_Xlh6Rt"
   },
   "source": [
    "\n",
    "**`pop(chave[, valor])`:**\n",
    "   Remove e retorna o valor associado à chave especificada. Se a chave não existir, retorna um valor padrão (ou gera um erro se não fornecido).\n"
   ]
  },
  {
   "cell_type": "code",
   "execution_count": null,
   "metadata": {
    "colab": {
     "base_uri": "https://localhost:8080/"
    },
    "id": "eCR0HTwWh6a0",
    "outputId": "5a775a18-7ecb-40c2-af44-349d3a113177"
   },
   "outputs": [
    {
     "name": "stdout",
     "output_type": "stream",
     "text": [
      "32\n"
     ]
    }
   ],
   "source": [
    "meu_dicionario = {\"nome\": \"Pedro\", \"idade\": 32}\n",
    "idade = meu_dicionario.pop(\"idade\")\n",
    "print(idade)"
   ]
  },
  {
   "cell_type": "markdown",
   "metadata": {
    "id": "bYZcHicoh6j_"
   },
   "source": [
    "\n",
    "**`popitem()`:**\n",
    "   Remove e retorna o último par chave-valor do dicionário como uma tupla.\n",
    "\n"
   ]
  },
  {
   "cell_type": "code",
   "execution_count": null,
   "metadata": {
    "id": "_OJISHrRh6t9"
   },
   "outputs": [],
   "source": [
    "meu_dicionario = {\"nome\": \"Fernanda\", \"idade\": 29}\n",
    "ultimo_item = meu_dicionario.popitem()\n",
    "print(ultimo_item)"
   ]
  },
  {
   "cell_type": "markdown",
   "metadata": {
    "id": "uIdiLIWOh652"
   },
   "source": [
    "\n",
    "**`update(dicionario)`:**\n",
    "   Atualiza o dicionário com pares chave-valor de outro dicionário ou iterável.\n"
   ]
  },
  {
   "cell_type": "code",
   "execution_count": null,
   "metadata": {
    "colab": {
     "base_uri": "https://localhost:8080/"
    },
    "id": "o48dQ8-lh7Cz",
    "outputId": "2a5f515d-c3bc-4ec7-fab0-28ecd3042759"
   },
   "outputs": [
    {
     "name": "stdout",
     "output_type": "stream",
     "text": [
      "{'nome': 'Rafael', 'idade': 26, 'cidade': 'São Paulo'}\n"
     ]
    }
   ],
   "source": [
    "meu_dicionario = {\"nome\": \"Rafael\", \"idade\": 26}\n",
    "outro_dicionario = {\"cidade\": \"São Paulo\"}\n",
    "meu_dicionario.update(outro_dicionario)\n",
    "print(meu_dicionario)"
   ]
  },
  {
   "cell_type": "markdown",
   "metadata": {
    "id": "ah4fzpLLj6Z-"
   },
   "source": [
    "\n",
    "Estes são apenas alguns dos métodos disponíveis para dicionários em Python. A escolha do método dependerá da operação específica que você deseja realizar."
   ]
  },
  {
   "cell_type": "markdown",
   "metadata": {
    "id": "nHuFRoSqUkQS"
   },
   "source": [
    "### Conjuntos\n",
    "\n",
    "Os conjuntos são uma estrutura de dados em Python que permite armazenar uma coleção de elementos únicos. Isso significa que, cada elemento de um conjunto deve ser diferente de todos os outros elementos deste conjunto.\n",
    "\n",
    "Os conjuntos são declarados usando chaves, com os elementos separados por vírgulas. Por exemplo, a seguinte declaração cria um conjunto com três elementos:\n",
    "\n",
    "```python\n",
    "conjunto = {1, 2, 3}\n",
    "```\n",
    "Os elementos dos conjuntos podem ser de qualquer tipo de dados, incluindo inteiros, floats, strings, booleanos, etc. É importante saber que você não pode acessar os elementos de um conjunto em Python da mesma forma que você acessa por exemplo, os elementos de uma lista. No entanto, quando estudarmos estruturas de repetição, vamos descobrir algumas formas de como manipular esses elementos.\n",
    "\n",
    "Aqui estão alguns exemplos de uso de conjuntos:"
   ]
  },
  {
   "cell_type": "code",
   "execution_count": 1,
   "metadata": {
    "colab": {
     "base_uri": "https://localhost:8080/"
    },
    "id": "h-D2hsRr8T2W",
    "outputId": "e390613e-73a4-496c-bd86-126159a3cb45"
   },
   "outputs": [
    {
     "name": "stdout",
     "output_type": "stream",
     "text": [
      "{1, 3, 4}\n"
     ]
    }
   ],
   "source": [
    "# Declaração de um conjunto com três elementos\n",
    "conjunto = {1, 2, 3}\n",
    "\n",
    "# Adição de um elemento\n",
    "conjunto.add(4)\n",
    "\n",
    "# Remoção de um elemento\n",
    "conjunto.remove(2)\n",
    "\n",
    "print(conjunto)"
   ]
  },
  {
   "cell_type": "code",
   "execution_count": null,
   "metadata": {
    "colab": {
     "base_uri": "https://localhost:8080/"
    },
    "id": "lQfjTDXb8u3C",
    "outputId": "de576fd0-c1c2-45a9-fc4f-f3e3c6418bca"
   },
   "outputs": [
    {
     "name": "stdout",
     "output_type": "stream",
     "text": [
      "{1, 2, 3, 4, 5, 6}\n",
      "{2, 3}\n",
      "{1}\n"
     ]
    }
   ],
   "source": [
    "# União de conjuntos\n",
    "conjunto_1 = {1, 2, 3}\n",
    "conjunto_2 = {4, 5, 6}\n",
    "conjunto_uniao = conjunto_1 | conjunto_2\n",
    "print(conjunto_uniao)\n",
    "\n",
    "# Interseção de conjuntos\n",
    "conjunto_1 = {1, 2, 3}\n",
    "conjunto_2 = {2, 3, 4}\n",
    "conjunto_intersecao = conjunto_1 & conjunto_2\n",
    "print(conjunto_intersecao)\n",
    "\n",
    "# Diferença de conjuntos\n",
    "conjunto_1 = {1, 2, 3}\n",
    "conjunto_2 = {2, 3, 4}\n",
    "conjunto_diferenca = conjunto_1 - conjunto_2\n",
    "print(conjunto_diferenca)"
   ]
  },
  {
   "cell_type": "markdown",
   "metadata": {
    "id": "t2ChN52V8bmx"
   },
   "source": [
    "Os conjuntos são um tipo de dados que pode ser usado para representar uma ampla gama de dados. Por exemplo, podemos usar conjuntos para representar coleções de números, letras, etc.\n",
    "\n",
    "Aqui estão alguns exemplos específicos de uso de conjuntos em Python. Para representar uma coleção de números primos, podemos usar um conjunto:\n",
    "\n",
    "```python\n",
    "primos = {2, 3, 5, 7, 11, 13, 17, 19}\n",
    "```\n",
    "\n",
    "Para representar uma coleção de letras do alfabeto, podemos usar um conjunto:\n",
    "\n",
    "```python\n",
    "letras = {\"a\", \"b\", \"c\", \"d\", \"e\", \"f\", \"g\", \"h\", \"i\", \"j\", \"k\", \"l\", \"m\", \"n\", \"o\", \"p\", \"q\", \"r\", \"s\", \"t\", \"u\", \"v\", \"w\", \"x\", \"y\", \"z\"}\n",
    "```\n",
    "\n",
    "Para representar uma coleção de cores, podemos usar um conjunto:\n",
    "\n",
    "```python\n",
    "cores = {\"vermelho\", \"verde\", \"amarelo\", \"azul\", \"roxo\", \"preto\", \"branco\"}\n",
    "```\n",
    "\n",
    "**Exemplos de nomes didáticos para declarações de conjuntos:**\n",
    "\n",
    "```python\n",
    "# Declaração de um conjunto com três elementos\n",
    "conjunto_de_numeros = {1, 2, 3}\n",
    "\n",
    "# Declaração de um conjunto com as cores do arco-íris\n",
    "conjunto_de_cores = {\"vermelho\", \"laranja\", \"amarelo\", \"verde\", \"azul\", \"anil\", \"violeta\"}\n",
    "```\n",
    "\n",
    "A escolha do nome ideal para um conjunto depende do contexto em que ele será usado.\n",
    "\n",
    "\n"
   ]
  },
  {
   "cell_type": "markdown",
   "metadata": {
    "id": "bEQasNr1dpzk"
   },
   "source": [
    "## Exercícios\n",
    "\n",
    "1. Declare duas variáveis, uma do tipo int e\n",
    "outra do tipo float. Em seguida, atribuir a elas valores e imprimir o resultado da soma, da subtração, da multiplicação e da divisão entre as duas variáveis.\n",
    "\n",
    "2. Declarar uma variável do tipo str e atribuir a ela uma string. Em seguida, imprimir o comprimento da string, a primeira letra da string, a última letra da string e a string invertida.\n",
    "\n",
    "3. Declare uma variável do tipo bool e atribuir a ela um valor. Em seguida, imprimir o resultado da operação de negação sobre a variável.\n",
    "\n",
    "4. Faça um programa que calcule o Índice de Massa Corporal (IMC) de uma pessoa. O IMC é calculado dividindo-se o peso da pessoa pela sua altura ao quadrado. O IMC é uma medida da relação entre o peso e a altura de uma pessoa.\n",
    "O programa deve imprimir o IMC da pessoa, classificando-o de acordo com a tabela abaixo:\n",
    "\n",
    "IMC | Classificação\n",
    "---|---\n",
    "< 18,5 | Abaixo do peso\n",
    "18,5 - 24,9 | Saudável\n",
    "25,0 - 29,9 | Sobrepeso\n",
    "30,0 - 34,9 | Obesidade grau I\n",
    "35,0 - 39,9 | Obesidade grau II\n",
    ">= 40,0 | Obesidade grau III\n",
    "\n",
    "5. Crie uma lista chamada `frutas` com as seguintes frutas: maçã, banana, laranja, pera e melancia. Em seguida, imprima a lista.\n",
    "\n",
    "6. Criar uma tupla chamada `coordenadas` com as coordenadas (2, 3). Em seguida, imprima as coordenadas.\n",
    "\n",
    "7. Crie um dicionário chamado contato. Peça ao usuário para fornecer os dados para as chaves \"nome\", \"telefone\" e \"endereço\". Em seguida, imprima o conteúdo do dicionário.\n",
    "\n",
    "Exemplo de execução:\n",
    "\n",
    "```\n",
    "Digite o nome do contato: Python da Silva\n",
    "Digite o telefone do contato: (84) 9999-9999\n",
    "Digite o endereço do contato: Rua da Programação, 123\n",
    "\n",
    "Nome: Python da Silva, Telefone: (84) 9999-9999, Endereço: Rua da Programação, 123.\n",
    "```\n",
    "\n",
    "8. Crie um conjunto chamado `numeros` com os números 1, 2, 3, 4 e 5. Imprima o conjunto.\n",
    "\n",
    "9. Criar dois conjuntos, `conjunto_a` e `conjunto_b`, com alguns números. Realizar as seguintes operações e imprimir os resultados:\n",
    "   - União: Combinar os elementos únicos de ambos os conjuntos.\n",
    "   - Interseção: Encontrar os elementos que estão presentes em ambos os conjuntos.\n",
    "   - Diferença: Identificar os elementos que estão em `conjunto_a` mas não em `conjunto_b`.\n",
    "\n",
    "10. Criar uma string original, por exemplo, \"Python é uma linguagem de programação poderosa!\". Realizar as seguintes operações e imprimir os resultados:\n",
    "   - Transformar em maiúsculas: Converter toda a string para letras maiúsculas.\n",
    "   - Transformar em minúsculas: Converter toda a string para letras minúsculas.\n",
    "   - Substituir parte da string: Substituir uma parte específica da string por outra (por exemplo, substituir \"poderosa\" por \"versátil\")."
   ]
  }
 ],
 "metadata": {
  "colab": {
   "provenance": [],
   "toc_visible": true
  },
  "kernelspec": {
   "display_name": "Python 3 (ipykernel)",
   "language": "python",
   "name": "python3"
  },
  "language_info": {
   "codemirror_mode": {
    "name": "ipython",
    "version": 3
   },
   "file_extension": ".py",
   "mimetype": "text/x-python",
   "name": "python",
   "nbconvert_exporter": "python",
   "pygments_lexer": "ipython3",
   "version": "3.10.12"
  }
 },
 "nbformat": 4,
 "nbformat_minor": 4
}
