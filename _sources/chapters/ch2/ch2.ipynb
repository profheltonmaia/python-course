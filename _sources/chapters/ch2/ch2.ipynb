{
  "nbformat": 4,
  "nbformat_minor": 0,
  "metadata": {
    "colab": {
      "provenance": [],
      "toc_visible": true
    },
    "kernelspec": {
      "name": "python3",
      "display_name": "Python 3"
    },
    "language_info": {
      "name": "python"
    }
  },
  "cells": [
    {
      "cell_type": "markdown",
      "source": [
        "# Capítulo 2: Váriáveis e Tipos de dados\n",
        "\n"
      ],
      "metadata": {
        "id": "ULxWGdhVqcRt"
      }
    },
    {
      "cell_type": "markdown",
      "source": [
        "## Definindo Variáveis e Tipos de Dados\n",
        "\n",
        "Uma variável é um identificador que representa um valor. Elas são utilizadas para armazenar informações como nomes, números ou textos. A declaração de uma variável é feita usando o operador de atribuição (`=`). Por exemplo, a linha a seguir cria uma variável chamada `nome` e atribui o valor \"Maria\" a ela:\n",
        "\n",
        "```python\n",
        "nome = \"Maria\"\n",
        "```\n",
        "\n",
        "Para acessar o valor armazenado em uma variável, basta utilizar o seu nome. O código a seguir, por exemplo, imprime o valor da variável `nome`:\n",
        "\n",
        "```python\n",
        "print(nome)\n",
        "```\n",
        "\n",
        "Isso resultará na saída:\n",
        "\n",
        "```\n",
        "Maria\n",
        "```"
      ],
      "metadata": {
        "id": "euhixBFzp2a9"
      }
    },
    {
      "cell_type": "markdown",
      "source": [
        "## Tipos de dados Básicos\n",
        "\n"
      ],
      "metadata": {
        "id": "CjjwBPIPWYl7"
      }
    },
    {
      "cell_type": "markdown",
      "source": [
        "### Números Inteiros\n",
        "\n",
        "O tipo inteiro é utilizado para representar números inteiros, tanto positivos quanto negativos, como 1, 2, 3, -1, -2, -3, entre outros. Esses valores são empregados para expressar quantidades e índices em programação, desempenhando um papel fundamental em diversas aplicações.\n",
        "\n",
        "Exemplos de uso de inteiros incluem:"
      ],
      "metadata": {
        "id": "qzfww3aOmwmp"
      }
    },
    {
      "cell_type": "code",
      "source": [
        "# Declaração de uma variável do tipo inteiro\n",
        "x = 10\n",
        "\n",
        "# Atribuição de um valor a uma variável do tipo inteiro\n",
        "x = 20\n",
        "\n",
        "# Soma de dois inteiros\n",
        "print(x + 10)"
      ],
      "metadata": {
        "id": "ykCq6zHca8xJ",
        "colab": {
          "base_uri": "https://localhost:8080/"
        },
        "outputId": "21189b56-42eb-42e9-9bf4-9b8241103234"
      },
      "execution_count": null,
      "outputs": [
        {
          "output_type": "stream",
          "name": "stdout",
          "text": [
            "40\n"
          ]
        }
      ]
    },
    {
      "cell_type": "markdown",
      "source": [
        "### Números de Ponto Flutuante\n",
        "\n",
        "O tipo de dado ponto flutuante, representado pelo tipo float em Python, é utilizado para expressar valores decimais, como 1.0, 2.5, 3.14, -1.0, -2.5, -3.14, entre outros. Esses valores são apropriados para representar grandezas que envolvem medidas, preços, e outras grandezas fracionárias.\n",
        "\n",
        "Aqui estão alguns exemplos de uso de números de ponto flutuante:"
      ],
      "metadata": {
        "id": "yz6F3mxIayp-"
      }
    },
    {
      "cell_type": "code",
      "source": [
        "# Declaração de uma variável do tipo float\n",
        "y = 3.14\n",
        "\n",
        "# Atribuição de um valor a uma variável do tipo float\n",
        "y = 2.5\n",
        "\n",
        "# Subtração de dois floats\n",
        "print(y - 1.0)"
      ],
      "metadata": {
        "id": "nIJP28rXa1tE",
        "colab": {
          "base_uri": "https://localhost:8080/"
        },
        "outputId": "a1fecdf6-4ca4-4a9e-dd0b-141d3233a873"
      },
      "execution_count": null,
      "outputs": [
        {
          "output_type": "stream",
          "name": "stdout",
          "text": [
            "1.5\n"
          ]
        }
      ]
    },
    {
      "cell_type": "markdown",
      "source": [
        "### Strings\n",
        "\n",
        "O tipo de dado string epresenta sequências de caracteres, como \"Olá, pessoal!\", \"123\", \"abc\", etc. Essas estruturas são comumente utilizadas para representar texto e nomes.\n",
        "\n",
        "Aqui estão alguns exemplos de uso de strings:"
      ],
      "metadata": {
        "id": "t04u6LqcatGa"
      }
    },
    {
      "cell_type": "code",
      "source": [
        "# Declaração de uma variável do tipo string\n",
        "z = \"Olá, pessoal!\"\n",
        "\n",
        "# Atribuição de um valor a uma variável do tipo string\n",
        "z = \"123\"\n",
        "\n",
        "# Concatenação de duas strings\n",
        "print(z + \", como vai?\")"
      ],
      "metadata": {
        "id": "vEC57Swcaaoc"
      },
      "execution_count": null,
      "outputs": []
    },
    {
      "cell_type": "markdown",
      "source": [
        "Em Python, tanto as aspas simples (`'`) quanto as aspas duplas (`\"`) podem ser usadas para definir literais de strings. Não há diferença funcional entre elas; você pode usar qualquer uma delas de forma intercambiável para criar strings. A escolha entre as aspas simples e duplas é principalmente uma questão de estilo e preferência pessoal. Por exemplo:\n",
        "\n",
        "```python\n",
        "aspas_simples = 'Esta é uma string com aspas simples.'\n",
        "aspas_duplas = \"Esta é uma string com aspas duplas.\"\n",
        "```\n",
        "\n",
        "Você pode usar um tipo de aspas para definir uma string que contenha o outro tipo de aspas sem problemas. Por exemplo:\n",
        "\n",
        "```python\n",
        "com_outras_aspas = \"Esta string contém 'aspas simples' dentro dela.\"\n",
        "```\n",
        "\n",
        "Ou:\n",
        "\n",
        "```python\n",
        "com_outras_aspas = 'Esta string contém \"aspas duplas\" dentro dela.'\n",
        "```\n",
        "\n",
        "Ambos os exemplos são válidos, e o Python permite que você use aspas simples dentro de uma string delimitada por aspas duplas e vice-versa."
      ],
      "metadata": {
        "id": "lplwHxbl2UCr"
      }
    },
    {
      "cell_type": "markdown",
      "source": [
        "### Booleanos\n",
        "\n",
        "Os tipos booleanos em Python representam valores lógicos, ou seja, podem ser True ou False. Esses valores são comumente utilizados para representar condições, resultados de testes e expressões lógicas.\n",
        "\n",
        "Aqui estão alguns exemplos de uso de booleanos:\n"
      ],
      "metadata": {
        "id": "DMSWpKnEandh"
      }
    },
    {
      "cell_type": "code",
      "source": [
        "# Declaração de uma variável do tipo booleano\n",
        "a = True\n",
        "\n",
        "# Atribuição de um valor a uma variável do tipo booleano\n",
        "a = False\n",
        "\n",
        "# Comparação de dois valores\n",
        "print(10 > 20)"
      ],
      "metadata": {
        "id": "wiuyyDOTYJz4"
      },
      "execution_count": null,
      "outputs": []
    },
    {
      "cell_type": "markdown",
      "source": [
        "## Tipos de dados compostos"
      ],
      "metadata": {
        "id": "0xxWXrPvnUAP"
      }
    },
    {
      "cell_type": "markdown",
      "source": [
        "### Listas\n",
        "\n",
        "As Listas são um tipo de dados mutável, o que significa que podem ser alteradas após serem criadas. Elas são declaradas utilizando colchetes, e os valores são separados por vírgulas.\n",
        "Listas podem conter valores de qualquer tipo, incluindo inteiros, números de ponto flutuante, strings, booleanos e outros tipos de dados.\n",
        "\n",
        "Aqui estão alguns exemplos de uso de listas:\n",
        "\n",
        "```python\n",
        "# Declaração de uma lista com três valores inteiros\n",
        "lista1 = [1, 2, 3]\n",
        "\n",
        "# Declaração de uma lista com três valores reais\n",
        "lista2 = [1.0, 2.5, 3.14]\n",
        "\n",
        "# Declaração de uma lista com três valores strings\n",
        "lista3 = [\"Estou\", \"programando\", \"!\"]\n",
        "\n",
        "# Declaração de uma lista com três valores booleanos\n",
        "lista4 = [True, False, True]\n",
        "```\n",
        "\n",
        "As listas podem ser utilizadas para representar uma ampla variedade de dados. Por exemplo, podemos usar listas para representar listas de compras, listas de tarefas, etc.\n",
        "\n",
        "Aqui estão alguns exemplos específicos de uso de listas:\n",
        "\n",
        "Para representar uma lista de compras, podemos usar uma lista:\n",
        "\n",
        "```python\n",
        "lista_de_compras = [\"pão\", \"leite\", \"ovos\"]\n",
        "```\n",
        "\n",
        "Representando uma lista de tarefas, podemos usar uma lista:\n",
        "\n",
        "```python\n",
        "lista_de_tarefas = [\"lavar a louça\", \"varrer a casa\", \"estudar python\"]\n",
        "```\n",
        "\n",
        "Para representar uma lista de números, podemos usar uma lista:\n",
        "\n",
        "```python\n",
        "lista_de_numeros = [1, 2, 3, 10, 15]\n",
        "```\n",
        "\n",
        "Uma mesma lista também pode receber tipos diversos em sua atribuição. É comum a necessidade dessa mistura de tipos para solução de alguns tipos de problemas.\n",
        "\n",
        "```python\n",
        "lista_mista_tipos = [1, 2.5, \"Estou\", True, [1, 2, 3]]\n",
        "```\n",
        "\n",
        "Como pode ser visto, a lista `lista_mista_tipos` contém um inteiro, um número de ponto flutuante, uma string, um booleano e uma lista aninhada.\n",
        "\n",
        "\n",
        "Vamos agora conhecer os principais métodos utilizados quando trabalhamos com listas. Mas antes, o que são métodos em Python?\n",
        "\n",
        "Em termos simples, métodos em Python são como instruções especiais que dizemos a uma lista para ela realizar tarefas específicas. Cada método tem uma função específica, como adicionar, remover ou organizar elementos na lista."
      ],
      "metadata": {
        "id": "0nQ9aWfJ0c7f"
      }
    },
    {
      "cell_type": "code",
      "source": [
        "# Criando a Lista inicial\n",
        "lista_mista = [1, 2.5, \"Estou\", True]\n",
        "\n",
        "# Adiciona um elemento ao final da lista\n",
        "lista_mista.append(4)\n",
        "print(lista_mista)\n",
        "\n",
        "# Adiciona vários elementos ao final da lista\n",
        "lista_mista.extend([5, 6, 7])\n",
        "print(lista_mista)\n",
        "\n",
        "# Insere um elemento em uma posição específica da lista\n",
        "lista_mista.insert(2, \"Olá\")\n",
        "print(lista_mista)\n",
        "\n",
        "# Remove um elemento da lista\n",
        "lista_mista.remove(\"Estou\")\n",
        "print(lista_mista)\n",
        "\n",
        "# Remove o último elemento da lista\n",
        "lista_mista.pop()\n",
        "print(lista_mista)\n",
        "\n",
        "# Conta quantas vezes um elemento aparece na lista\n",
        "ocorrencias = lista_mista.count(2.5)\n",
        "print(ocorrencias)\n",
        "\n",
        "# Inverte a ordem da lista\n",
        "lista_mista.reverse()\n",
        "print(\"Lista invertida:\", lista_mista)"
      ],
      "metadata": {
        "colab": {
          "base_uri": "https://localhost:8080/"
        },
        "id": "AYuqXvUAPuyV",
        "outputId": "87056663-6655-428c-8880-15db1ae77135"
      },
      "execution_count": null,
      "outputs": [
        {
          "output_type": "stream",
          "name": "stdout",
          "text": [
            "[1, 2.5, 'Estou', True, 4]\n",
            "[1, 2.5, 'Estou', True, 4, 5, 6, 7]\n",
            "[1, 2.5, 'Olá', 'Estou', True, 4, 5, 6, 7]\n",
            "[1, 2.5, 'Olá', True, 4, 5, 6, 7]\n",
            "[1, 2.5, 'Olá', True, 4, 5, 6]\n",
            "1\n",
            "Lista invertida: [6, 5, 4, True, 'Olá', 2.5, 1]\n"
          ]
        }
      ]
    },
    {
      "cell_type": "markdown",
      "source": [
        "Em Python, os elementos em uma lista são organizados em uma sequência numerada chamada índice. O índice é como a posição de cada elemento na lista, começando do zero para o primeiro elemento. Por exemplo, em uma lista `[1, 2, 3, 4]`, o número 1 está no índice 0, o 2 no índice 1, e assim por diante.\n",
        "\n",
        "**Como Funciona:**\n",
        "\n",
        "- **Indexação Positiva:** Você pode acessar elementos contando a partir do início da lista. O primeiro elemento tem índice 0, o segundo tem índice 1, e assim por diante.\n",
        "\n",
        "- **Indexação Negativa:** Também é possível contar a partir do final da lista. O último elemento tem índice -1, o penúltimo tem índice -2, e assim por diante.\n",
        "\n",
        "**Como Utilizar:**\n",
        "\n",
        "- Para acessar um elemento em uma lista, você utiliza o operador de colchetes `[]` com o índice desejado. Por exemplo, `lista[2]` retorna o terceiro elemento da lista.\n",
        "\n",
        "- Para modificar um elemento, você pode usar a mesma notação de índice. Por exemplo, `lista[1] = 10` atribui o valor 10 ao segundo elemento da lista.\n",
        "\n",
        "Aqui está um exemplo prático:\n",
        "\n"
      ],
      "metadata": {
        "id": "QcfJ5u7jQEsm"
      }
    },
    {
      "cell_type": "code",
      "source": [
        "# Lista de exemplo\n",
        "numeros = [10, 20, 30, 40, 50]\n",
        "\n",
        "# Acessando elementos\n",
        "print(\"Primeiro elemento:\", numeros[0])\n",
        "print(\"Último elemento:\", numeros[-1])\n",
        "\n",
        "# Modificando elementos\n",
        "numeros[2] = 35\n",
        "print(\"Lista modificada:\", numeros)"
      ],
      "metadata": {
        "colab": {
          "base_uri": "https://localhost:8080/"
        },
        "id": "1s1sjYQiOPXX",
        "outputId": "77399ccf-64ca-41b3-ff8d-d2f034e99f03"
      },
      "execution_count": null,
      "outputs": [
        {
          "output_type": "stream",
          "name": "stdout",
          "text": [
            "Primeiro elemento: 10\n",
            "Último elemento: 50\n",
            "Lista modificada: [10, 20, 35, 40, 50]\n"
          ]
        }
      ]
    },
    {
      "cell_type": "markdown",
      "source": [
        "Lembre-se de que os índices devem estar dentro da faixa válida da lista para evitar erros."
      ],
      "metadata": {
        "id": "fpi-Pd2zOWxM"
      }
    },
    {
      "cell_type": "markdown",
      "source": [
        "### Tuplas\n",
        "\n",
        "As tuplas são uma sequência de valores imutáveis. Isso significa que, uma vez criadas, as tuplas não podem ser alteradas.\n",
        "As tuplas são declaradas usando parênteses, com os valores separados por vírgulas. Por exemplo, a seguinte declaração cria uma tupla com três valores:\n",
        "\n",
        "```python\n",
        "tupla = (1, 2, 3)\n",
        "```\n",
        "\n",
        "As tuplas podem conter valores de qualquer tipo, incluindo inteiros, reais, strings, booleanos, etc.\n",
        "\n",
        "Aqui estão alguns exemplos de uso:\n",
        "\n",
        "```python\n",
        "# Declaração de uma tupla com três valores inteiros\n",
        "inteiros = (1, 2, 3)\n",
        "\n",
        "# Declaração de uma tupla com três valores reais\n",
        "reais = (1.0, 2.5, 3.14)\n",
        "\n",
        "# Declaração de uma tupla com três valores strings\n",
        "strings = (\"Olá\", \"mundo\", \"!\")\n",
        "\n",
        "# Declaração de uma tupla com três valores booleanos\n",
        "booleanos = (True, False, True)\n",
        "\n",
        "# Declaração de uma tupla com valores de tipos diferentes\n",
        "tupla_mista = (True, 19, 7.5, \"a\")\n",
        "```\n",
        "\n",
        "As tuplas são um tipo de dados útil para representar dados que não precisam ser alterados. Por exemplo, podemos usar tuplas para representar coordenadas, dados de identificação, etc.\n",
        "\n",
        "Aqui estão alguns exemplos específicos de uso de tuplas em Python:\n",
        "\n",
        "Para representar as coordenadas de um ponto no plano cartesiano, podemos usar uma tupla:\n",
        "\n",
        "```python\n",
        "ponto = (1.0, 2.0)\n",
        "```\n",
        "\n",
        "Representaando o número de identificação de um funcionário, podemos usar uma tupla:\n",
        "\n",
        "```python\n",
        "identificacao = (1234567890, \"João da Silva\")\n",
        "```\n",
        "\n",
        "Para representar os dados de um produto, podemos usar uma tupla:\n",
        "\n",
        "```python\n",
        "produto = (\"Camisa\", \"P\", 100.0)\n",
        "```\n",
        "\n",
        "**Índices em Tuplas**\n",
        "\n",
        "Assim como em listas, as tuplas também utilizam índices para acessar seus elementos. Os índices em tuplas começam do 0 para o primeiro elemento e seguem uma sequência numérica.\n",
        "\n",
        "**Exemplo de Acesso por Índice:**\n"
      ],
      "metadata": {
        "id": "B6hj9Q68UbuK"
      }
    },
    {
      "cell_type": "code",
      "source": [
        "# Declaração de uma tupla\n",
        "tupla = (10, 20, 30, 40, 50)\n",
        "\n",
        "# Acessando elementos por índice\n",
        "primeiro_elemento = tupla[0]\n",
        "terceiro_elemento = tupla[2]\n",
        "\n",
        "print(\"Primeiro elemento:\", primeiro_elemento)\n",
        "print(\"Terceiro elemento:\", terceiro_elemento)"
      ],
      "metadata": {
        "colab": {
          "base_uri": "https://localhost:8080/"
        },
        "id": "mN0XVvYNDuAW",
        "outputId": "6c481ff8-202a-414f-ef08-cb8581f4ee6a"
      },
      "execution_count": null,
      "outputs": [
        {
          "output_type": "stream",
          "name": "stdout",
          "text": [
            "Primeiro elemento: 10\n",
            "Terceiro elemento: 30\n"
          ]
        }
      ]
    },
    {
      "cell_type": "markdown",
      "source": [
        "**Observações:**\n",
        "Os índices negativos funcionam da mesma forma que em listas, onde -1 refere-se ao último elemento, -2 ao penúltimo, e assim por diante.\n"
      ],
      "metadata": {
        "id": "CuWhKuJ-D3aE"
      }
    },
    {
      "cell_type": "code",
      "source": [
        "# Acessando o último elemento por índice negativo\n",
        "ultimo_elemento = tupla[-1]\n",
        "print(\"Último elemento:\", ultimo_elemento)"
      ],
      "metadata": {
        "colab": {
          "base_uri": "https://localhost:8080/"
        },
        "id": "zf1YAdXLEHQk",
        "outputId": "5de058f0-be7d-4809-d523-9c901824be91"
      },
      "execution_count": null,
      "outputs": [
        {
          "output_type": "stream",
          "name": "stdout",
          "text": [
            "Último elemento: 50\n"
          ]
        }
      ]
    },
    {
      "cell_type": "markdown",
      "source": [
        "**Índices em Tuplas Mistas**"
      ],
      "metadata": {
        "id": "1nqWltooEGMq"
      }
    },
    {
      "cell_type": "code",
      "source": [
        "# Declaração de uma tupla com valores de tipos diferentes\n",
        "tupla_mista = (True, 19, 7.5, \"a\")\n",
        "\n",
        "# Acessando elementos por índice\n",
        "primeiro_elemento_misto = tupla_mista[0]\n",
        "ultimo_elemento_misto = tupla_mista[-1]\n",
        "\n",
        "print(\"Primeiro elemento misto:\", primeiro_elemento_misto)\n",
        "print(\"Último elemento misto:\", ultimo_elemento_misto)"
      ],
      "metadata": {
        "id": "MOFNxyL5ENt5"
      },
      "execution_count": null,
      "outputs": []
    },
    {
      "cell_type": "markdown",
      "source": [
        "Os índices em tuplas permitem acessar e trabalhar com os elementos individualmente, facilitando a manipulação dessas estruturas de dados imutáveis em Python."
      ],
      "metadata": {
        "id": "zCOXthdDEr9k"
      }
    },
    {
      "cell_type": "markdown",
      "source": [
        "Assim como as listas, as tuplas em Python possuem alguns métodos especiais que podem ser utilizados para realizar operações específicas. No entanto, devido à imutabilidade das tuplas (não é possível modificar uma tupla após sua criação), esses métodos são mais limitados em comparação com os disponíveis para listas.\n",
        "\n",
        "Aqui estão alguns dos métodos especiais comumente utilizados em tuplas:\n",
        "\n",
        "- **count(valor):**\n",
        "  Retorna o número de ocorrências do valor especificado na tupla.\n",
        "\n",
        "   Exemplo:\n",
        "\n",
        "  "
      ],
      "metadata": {
        "id": "n529fWYGWAXc"
      }
    },
    {
      "cell_type": "code",
      "source": [
        "   minha_tupla = (1, 2, 2, 3, 4, 2)\n",
        "   numero_de_dois = minha_tupla.count(2)\n",
        "   print(numero_de_dois)"
      ],
      "metadata": {
        "colab": {
          "base_uri": "https://localhost:8080/"
        },
        "id": "Z_61k6ZiWqc3",
        "outputId": "e91388ed-d632-4df9-b825-042646cedb1d"
      },
      "execution_count": null,
      "outputs": [
        {
          "output_type": "stream",
          "name": "stdout",
          "text": [
            "3\n"
          ]
        }
      ]
    },
    {
      "cell_type": "markdown",
      "source": [
        "- **index(valor[, start[, stop]]):**\n",
        "  Retorna o índice da primeira ocorrência do valor especificado. Você pode opcionalmente fornecer os argumentos `start` e `stop` para limitar a busca a uma sub-tupla.\n",
        "\n",
        "   Exemplo:"
      ],
      "metadata": {
        "id": "tqMXlgMmWo2H"
      }
    },
    {
      "cell_type": "code",
      "source": [
        "minha_tupla = (1, 2, 3, 4, 5)\n",
        "indice_do_tres = minha_tupla.index(3)\n",
        "print(indice_do_tres)"
      ],
      "metadata": {
        "colab": {
          "base_uri": "https://localhost:8080/"
        },
        "id": "mNJwy_XuW3XF",
        "outputId": "3410d479-50ae-40a0-ef6a-084c447d6ab0"
      },
      "execution_count": null,
      "outputs": [
        {
          "output_type": "stream",
          "name": "stdout",
          "text": [
            "2\n"
          ]
        }
      ]
    },
    {
      "cell_type": "markdown",
      "source": [
        "Lembre-se de que, devido à imutabilidade das tuplas, métodos que alteram o conteúdo (como `append`, `extend`, `remove`, `pop`, `insert`, etc.) não estão disponíveis para tuplas."
      ],
      "metadata": {
        "id": "RtfOR7_LW3_O"
      }
    },
    {
      "cell_type": "markdown",
      "source": [
        "### Dicionários\n",
        "\n",
        "Os dicionários servem para armazenar informações por meio de pares de chave e valor. Cada elemento do dicionário consiste em uma chave única associada a um valor correspondente.\n",
        "\n",
        "Para criar um dicionário, utilizamos chaves `{}` e separamos cada par chave-valor por vírgulas. Exemplo:\n",
        "\n",
        "```python\n",
        "dicionario = {\"nome\": \"João\", \"idade\": 30, \"cidade\": \"Natal\"}\n",
        "```\n",
        "\n",
        "- **Chaves:** São rótulos exclusivos que acessam os valores associados.\n",
        "- **Tipos de Chaves:** Podem ser de qualquer tipo de dado imutável, como strings, números inteiros ou reais.\n",
        "- **Tipos de Valores:** Podem ser de qualquer tipo de dado, inclusive listas ou tuplas.\n",
        "\n",
        "Os dicionários são úteis quando queremos associar informações relacionadas entre si. Por exemplo, no dicionário acima, \"nome\" é a chave associada ao valor \"João\". Essa estrutura flexível e poderosa é amplamente utilizada em Python para representar dados estruturados de forma eficiente.\n",
        "\n",
        "**Exemplos de Uso:**\n",
        "\n",
        "```python\n",
        "# Acesso a um valor do dicionário\n",
        "nome = dicionario[\"nome\"]\n",
        "print(\"Nome:\", nome)\n",
        "\n",
        "# Alteração de um valor do dicionário\n",
        "dicionario[\"idade\"] = 31\n",
        "print(\"Idade atualizada:\", dicionario[\"idade\"])\n",
        "\n",
        "# Remoção de um valor do dicionário\n",
        "del dicionario[\"cidade\"]\n",
        "print(\"Dicionário após remoção:\", dicionario)\n",
        "```\n",
        "\n",
        "**Acesso a Elementos Individualmente:**\n",
        "\n",
        "Podemos acessar cada valor individualmente no dicionário utilizando suas chaves:\n",
        "\n",
        "```python\n",
        "# Acesso a elementos individualmente\n",
        "telefone = contato[\"telefone\"]\n",
        "print(\"Telefone de contato:\", telefone)\n",
        "\n",
        "# Acesso a configuração de idioma\n",
        "idioma_config = configuracoes[\"idioma\"]\n",
        "print(\"Configuração de idioma:\", idioma_config)\n",
        "\n",
        "# Acesso à cor do produto\n",
        "cor_produto = produto[\"cor\"]\n",
        "print(\"Cor do produto:\", cor_produto)\n",
        "```\n",
        "\n",
        "A capacidade de acessar elementos individualmente nos dicionários permite recuperar informações específicas de maneira direta e eficiente. Essa característica torna os dicionários uma estrutura de dados poderosa para representar e manipular dados em Python.\n",
        "\n"
      ],
      "metadata": {
        "id": "nocN6ii3UemP"
      }
    },
    {
      "cell_type": "markdown",
      "source": [
        "Os dicionários oferecem uma variedade de métodos para manipular e acessar os dados armazenados. Aqui estão alguns dos principais métodos de dicionários:\n",
        "\n",
        "**`clear()`:**\n",
        "Remove todos os itens do dicionário."
      ],
      "metadata": {
        "id": "XcA3uFiAhNw5"
      }
    },
    {
      "cell_type": "code",
      "source": [
        "meu_dicionario = {\"nome\": \"João\", \"idade\": 25}\n",
        "meu_dicionario.clear()\n",
        "print(meu_dicionario)"
      ],
      "metadata": {
        "colab": {
          "base_uri": "https://localhost:8080/"
        },
        "id": "X1RGk_tZh3rg",
        "outputId": "3345cd29-641d-46a5-c4a4-836866783535"
      },
      "execution_count": null,
      "outputs": [
        {
          "output_type": "stream",
          "name": "stdout",
          "text": [
            "{}\n"
          ]
        }
      ]
    },
    {
      "cell_type": "markdown",
      "source": [
        "\n",
        "**`copy()`:**\n",
        "   Retorna uma cópia do dicionário."
      ],
      "metadata": {
        "id": "ksJFDOoZh4Ol"
      }
    },
    {
      "cell_type": "code",
      "source": [
        "meu_dicionario = {\"nome\": \"Maria\", \"idade\": 30}\n",
        "copia_dicionario = meu_dicionario.copy()\n",
        "print(copia_dicionario)"
      ],
      "metadata": {
        "colab": {
          "base_uri": "https://localhost:8080/"
        },
        "id": "PlQtCXHch4y2",
        "outputId": "d0f954f2-6803-4d8b-f27f-5cfcb56888cf"
      },
      "execution_count": null,
      "outputs": [
        {
          "output_type": "stream",
          "name": "stdout",
          "text": [
            "{'nome': 'Maria', 'idade': 30}\n"
          ]
        }
      ]
    },
    {
      "cell_type": "markdown",
      "source": [
        "\n",
        "**`get(chave[, valor_padrão])`:**\n",
        "   Retorna o valor associado à chave especificada. Se a chave não existir, retorna um valor padrão (ou `None` se não fornecido).\n"
      ],
      "metadata": {
        "id": "WahqVQs5h49u"
      }
    },
    {
      "cell_type": "code",
      "source": [
        "meu_dicionario = {\"nome\": \"Carlos\", \"idade\": 28}\n",
        "idade = meu_dicionario.get(\"idade\")\n",
        "print(idade)"
      ],
      "metadata": {
        "id": "CxSNs8Pdh5IQ"
      },
      "execution_count": null,
      "outputs": []
    },
    {
      "cell_type": "markdown",
      "source": [
        "**`items()`:**\n",
        "   Retorna uma lista de tuplas contendo pares chave-valor.\n"
      ],
      "metadata": {
        "id": "BgQ4d9jJh5SO"
      }
    },
    {
      "cell_type": "code",
      "source": [
        "meu_dicionario = {\"nome\": \"Ana\", \"idade\": 35}\n",
        "itens = meu_dicionario.items()\n",
        "print(itens)"
      ],
      "metadata": {
        "id": "dqyyLjaqh5bf"
      },
      "execution_count": null,
      "outputs": []
    },
    {
      "cell_type": "markdown",
      "source": [
        "**`keys()`:**\n",
        "   Retorna uma lista contendo todas as chaves do dicionário.\n"
      ],
      "metadata": {
        "id": "9s-xJUQph5lP"
      }
    },
    {
      "cell_type": "code",
      "source": [
        "meu_dicionario = {\"nome\": \"Lucas\", \"idade\": 22}\n",
        "chaves = meu_dicionario.keys()\n",
        "print(chaves)"
      ],
      "metadata": {
        "id": "ssJ8Usofh50t"
      },
      "execution_count": null,
      "outputs": []
    },
    {
      "cell_type": "markdown",
      "source": [
        "\n",
        "**`values()`:**\n",
        "   Retorna uma lista contendo todos os valores do dicionário.\n"
      ],
      "metadata": {
        "id": "1qX6z4FZh6AQ"
      }
    },
    {
      "cell_type": "code",
      "source": [
        "meu_dicionario = {\"nome\": \"Julia\", \"idade\": 27}\n",
        "valores = meu_dicionario.values()\n",
        "print(valores)"
      ],
      "metadata": {
        "id": "DqI1KP7jh6J3"
      },
      "execution_count": null,
      "outputs": []
    },
    {
      "cell_type": "markdown",
      "source": [
        "\n",
        "**`pop(chave[, valor_padrão])`:**\n",
        "   Remove e retorna o valor associado à chave especificada. Se a chave não existir, retorna um valor padrão (ou gera um erro se não fornecido).\n"
      ],
      "metadata": {
        "id": "sdMZk_Xlh6Rt"
      }
    },
    {
      "cell_type": "code",
      "source": [
        "meu_dicionario = {\"nome\": \"Pedro\", \"idade\": 32}\n",
        "idade = meu_dicionario.pop(\"idade\")\n",
        "print(idade)"
      ],
      "metadata": {
        "id": "eCR0HTwWh6a0",
        "colab": {
          "base_uri": "https://localhost:8080/"
        },
        "outputId": "5a775a18-7ecb-40c2-af44-349d3a113177"
      },
      "execution_count": null,
      "outputs": [
        {
          "output_type": "stream",
          "name": "stdout",
          "text": [
            "32\n"
          ]
        }
      ]
    },
    {
      "cell_type": "markdown",
      "source": [
        "\n",
        "**`popitem()`:**\n",
        "   Remove e retorna o último par chave-valor do dicionário como uma tupla.\n",
        "\n"
      ],
      "metadata": {
        "id": "bYZcHicoh6j_"
      }
    },
    {
      "cell_type": "code",
      "source": [
        "meu_dicionario = {\"nome\": \"Fernanda\", \"idade\": 29}\n",
        "ultimo_item = meu_dicionario.popitem()\n",
        "print(ultimo_item)"
      ],
      "metadata": {
        "id": "_OJISHrRh6t9"
      },
      "execution_count": null,
      "outputs": []
    },
    {
      "cell_type": "markdown",
      "source": [
        "\n",
        "**`update(dicionario)`:**\n",
        "   Atualiza o dicionário com pares chave-valor de outro dicionário ou iterável.\n"
      ],
      "metadata": {
        "id": "uIdiLIWOh652"
      }
    },
    {
      "cell_type": "code",
      "source": [
        "meu_dicionario = {\"nome\": \"Rafael\", \"idade\": 26}\n",
        "outro_dicionario = {\"cidade\": \"São Paulo\"}\n",
        "meu_dicionario.update(outro_dicionario)\n",
        "print(meu_dicionario)"
      ],
      "metadata": {
        "id": "o48dQ8-lh7Cz",
        "colab": {
          "base_uri": "https://localhost:8080/"
        },
        "outputId": "2a5f515d-c3bc-4ec7-fab0-28ecd3042759"
      },
      "execution_count": null,
      "outputs": [
        {
          "output_type": "stream",
          "name": "stdout",
          "text": [
            "{'nome': 'Rafael', 'idade': 26, 'cidade': 'São Paulo'}\n"
          ]
        }
      ]
    },
    {
      "cell_type": "markdown",
      "source": [
        "\n",
        "Estes são apenas alguns dos métodos disponíveis para dicionários em Python. A escolha do método dependerá da operação específica que você deseja realizar."
      ],
      "metadata": {
        "id": "ah4fzpLLj6Z-"
      }
    },
    {
      "cell_type": "markdown",
      "source": [
        "### Conjuntos\n",
        "\n",
        "Os conjuntos são uma estrutura de dados em Python que permite armazenar uma coleção de elementos únicos. Isso significa que, cada elemento de um conjunto deve ser diferente de todos os outros elementos do conjunto.\n",
        "\n",
        "Os conjuntos são declarados usando chaves, com os elementos separados por vírgulas. Por exemplo, a seguinte declaração cria um conjunto com três elementos:\n",
        "\n",
        "```python\n",
        "conjunto = {1, 2, 3}\n",
        "```\n",
        "\n",
        "Os elementos dos conjuntos podem ser de qualquer tipo de dados, incluindo inteiros, reais, strings, booleanos, etc.\n",
        "Aqui estão alguns exemplos de uso de conjuntos em Python:\n",
        "\n",
        "\n"
      ],
      "metadata": {
        "id": "nHuFRoSqUkQS"
      }
    },
    {
      "cell_type": "code",
      "source": [
        "# Declaração de um conjunto com três elementos\n",
        "conjunto = {1, 2, 3}\n",
        "\n",
        "# Adição de um elemento\n",
        "conjunto.add(4)\n",
        "\n",
        "# Remoção de um elemento\n",
        "conjunto.remove(2)\n",
        "\n",
        "print(conjunto)"
      ],
      "metadata": {
        "colab": {
          "base_uri": "https://localhost:8080/"
        },
        "id": "h-D2hsRr8T2W",
        "outputId": "e390613e-73a4-496c-bd86-126159a3cb45"
      },
      "execution_count": null,
      "outputs": [
        {
          "output_type": "stream",
          "name": "stdout",
          "text": [
            "{1, 3, 4}\n"
          ]
        }
      ]
    },
    {
      "cell_type": "code",
      "source": [
        "# União de conjuntos\n",
        "conjunto_1 = {1, 2, 3}\n",
        "conjunto_2 = {4, 5, 6}\n",
        "conjunto_uniao = conjunto_1 | conjunto_2\n",
        "print(conjunto_uniao)\n",
        "\n",
        "# Interseção de conjuntos\n",
        "conjunto_1 = {1, 2, 3}\n",
        "conjunto_2 = {2, 3, 4}\n",
        "conjunto_intersecao = conjunto_1 & conjunto_2\n",
        "print(conjunto_intersecao)\n",
        "\n",
        "# Diferença de conjuntos\n",
        "conjunto_1 = {1, 2, 3}\n",
        "conjunto_2 = {2, 3, 4}\n",
        "conjunto_diferenca = conjunto_1 - conjunto_2\n",
        "print(conjunto_diferenca)"
      ],
      "metadata": {
        "colab": {
          "base_uri": "https://localhost:8080/"
        },
        "id": "lQfjTDXb8u3C",
        "outputId": "de576fd0-c1c2-45a9-fc4f-f3e3c6418bca"
      },
      "execution_count": null,
      "outputs": [
        {
          "output_type": "stream",
          "name": "stdout",
          "text": [
            "{1, 2, 3, 4, 5, 6}\n",
            "{2, 3}\n",
            "{1}\n"
          ]
        }
      ]
    },
    {
      "cell_type": "markdown",
      "source": [
        "Os conjuntos são um tipo de dados que pode ser usado para representar uma ampla gama de dados. Por exemplo, podemos usar conjuntos para representar coleções de números, letras, etc.\n",
        "\n",
        "Aqui estão alguns exemplos específicos de uso de conjuntos em Python. Para representar uma coleção de números primos, podemos usar um conjunto:\n",
        "\n",
        "```python\n",
        "primos = {2, 3, 5, 7, 11, 13, 17, 19}\n",
        "```\n",
        "\n",
        "Para representar uma coleção de letras do alfabeto, podemos usar um conjunto:\n",
        "\n",
        "```python\n",
        "letras = {\"a\", \"b\", \"c\", \"d\", \"e\", \"f\", \"g\", \"h\", \"i\", \"j\", \"k\", \"l\", \"m\", \"n\", \"o\", \"p\", \"q\", \"r\", \"s\", \"t\", \"u\", \"v\", \"w\", \"x\", \"y\", \"z\"}\n",
        "```\n",
        "\n",
        "Para representar uma coleção de cores, podemos usar um conjunto:\n",
        "\n",
        "```python\n",
        "cores = {\"vermelho\", \"verde\", \"amarelo\", \"azul\", \"roxo\", \"preto\", \"branco\"}\n",
        "```\n",
        "\n",
        "**Exemplos de nomes didáticos para declarações de conjuntos:**\n",
        "\n",
        "```python\n",
        "# Declaração de um conjunto com três elementos\n",
        "conjunto_de_numeros = {1, 2, 3}\n",
        "\n",
        "# Declaração de um conjunto com as cores do arco-íris\n",
        "conjunto_de_cores = {\"vermelho\", \"laranja\", \"amarelo\", \"verde\", \"azul\", \"anil\", \"violeta\"}\n",
        "```\n",
        "\n",
        "A escolha do nome ideal para um conjunto depende do contexto em que ele será usado.\n",
        "\n",
        "\n"
      ],
      "metadata": {
        "id": "t2ChN52V8bmx"
      }
    },
    {
      "cell_type": "markdown",
      "source": [
        "## Exercícios\n",
        "\n",
        "1. Declare duas variáveis, uma do tipo int e\n",
        "outra do tipo float. Em seguida, atribuir a elas valores e imprimir o resultado da soma, da subtração, da multiplicação e da divisão entre as duas variáveis.\n",
        "\n",
        "2. Declarar uma variável do tipo str e atribuir a ela uma string. Em seguida, imprimir o comprimento da string, a primeira letra da string, a última letra da string e a string invertida.\n",
        "\n",
        "3. Declare uma variável do tipo bool e atribuir a ela um valor. Em seguida, imprimir o resultado da operação de negação sobre a variável.\n",
        "\n",
        "4. Faça um programa que calcule o Índice de Massa Corporal (IMC) de uma pessoa. O IMC é calculado dividindo-se o peso da pessoa pela sua altura ao quadrado. O IMC é uma medida da relação entre o peso e a altura de uma pessoa.\n",
        "O programa deve imprimir o IMC da pessoa, classificando-o de acordo com a tabela abaixo:\n",
        "\n",
        "IMC | Classificação\n",
        "---|---\n",
        "< 18,5 | Abaixo do peso\n",
        "18,5 - 24,9 | Saudável\n",
        "25,0 - 29,9 | Sobrepeso\n",
        "30,0 - 34,9 | Obesidade grau I\n",
        "35,0 - 39,9 | Obesidade grau II\n",
        ">= 40,0 | Obesidade grau III\n",
        "\n",
        "5. Crie uma lista chamada `frutas` com as seguintes frutas: maçã, banana, laranja, pera e melancia. Em seguida, imprima a lista.\n",
        "\n",
        "6. Criar uma tupla chamada `coordenadas` com as coordenadas (2, 3). Em seguida, imprima as coordenadas.\n",
        "\n",
        "7. Crie um dicionário chamado contato. Peça ao usuário para fornecer os dados para as chaves \"nome\", \"telefone\" e \"endereço\". Em seguida, imprima o conteúdo do dicionário.\n",
        "\n",
        "Exemplo de execução:\n",
        "\n",
        "```\n",
        "Digite o nome do contato: Python da Silva\n",
        "Digite o telefone do contato: (84) 9999-9999\n",
        "Digite o endereço do contato: Rua da Programação, 123\n",
        "\n",
        "Nome: Python da Silva, Telefone: (84) 9999-9999, Endereço: Rua da Programação, 123.\n",
        "```\n",
        "\n",
        "8. Crie um conjunto chamado `numeros` com os números 1, 2, 3, 4 e 5. Imprima o conjunto.\n",
        "\n",
        "9. Criar dois conjuntos, `conjunto_a` e `conjunto_b`, com alguns números. Realizar as seguintes operações e imprimir os resultados:\n",
        "   - União: Combinar os elementos únicos de ambos os conjuntos.\n",
        "   - Interseção: Encontrar os elementos que estão presentes em ambos os conjuntos.\n",
        "   - Diferença: Identificar os elementos que estão em `conjunto_a` mas não em `conjunto_b`.\n",
        "\n",
        "10. Criar uma string original, por exemplo, \"Python é uma linguagem de programação poderosa!\". Realizar as seguintes operações e imprimir os resultados:\n",
        "   - Transformar em maiúsculas: Converter toda a string para letras maiúsculas.\n",
        "   - Transformar em minúsculas: Converter toda a string para letras minúsculas.\n",
        "   - Substituir parte da string: Substituir uma parte específica da string por outra (por exemplo, substituir \"poderosa\" por \"versátil\")."
      ],
      "metadata": {
        "id": "bEQasNr1dpzk"
      }
    }
  ]
}