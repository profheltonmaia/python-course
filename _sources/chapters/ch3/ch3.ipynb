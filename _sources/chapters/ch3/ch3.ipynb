{
 "cells": [
  {
   "cell_type": "markdown",
   "metadata": {
    "id": "ULxWGdhVqcRt"
   },
   "source": [
    "# Capítulo 3: Operadores e Expressões\n",
    "\n"
   ]
  },
  {
   "cell_type": "markdown",
   "metadata": {
    "id": "ebERi_S7Z4OC"
   },
   "source": [
    "![ch3](ch3.jpeg)\n",
    "\n",
    "Compreender os operadores e expressões é importante para a manipulação eficiente de dados e a execução de operações fundamentais em qualquer linguagem. Estes elementos, abrangendo operadores aritméticos, relacionais, lógicos e de atribuição, assumem papéis específicos, desde cálculos matemáticos até avaliações condicionais. Entender tais conceitos não apenas facilita a escrita de códigos mais eficazes, mas também permite a resolução de problemas complexos e a compreensão de códigos existentes. "
   ]
  },
  {
   "cell_type": "markdown",
   "metadata": {
    "id": "gOAMIk7AZUXI"
   },
   "source": [
    "## Operadores Aritméticos\n",
    "\n",
    "- `+` (adição): Soma dois valores.\n",
    "- `-` (subtração): Subtrai o operando direito do operando esquerdo.\n",
    "- `*` (multiplicação): Multiplica dois valores.\n",
    "- `/` (divisão): Divide o operando esquerdo pelo operando direito.\n",
    "- `%` (módulo): Retorna o resto da divisão do operando esquerdo pelo operando direito.\n",
    "- `//` (divisão inteira): Retorna a parte inteira da divisão do operando esquerdo pelo operando direito.\n",
    "- `**` (potência): Eleva o operando esquerdo à potência do operando direito.\n"
   ]
  },
  {
   "cell_type": "code",
   "execution_count": null,
   "metadata": {
    "id": "8qa6NUwxWAVJ"
   },
   "outputs": [],
   "source": [
    "# Operadores Aritméticos em Python\n",
    "\n",
    "# Adição (+): Soma dois valores.\n",
    "soma = 5 + 3\n",
    "print(\"Adição:\", soma)\n",
    "\n",
    "# Subtração (-): Subtrai o operando direito do operando esquerdo.\n",
    "subtracao = 7 - 4\n",
    "print(\"Subtração:\", subtracao)\n",
    "\n",
    "# Multiplicação (*): Multiplica dois valores.\n",
    "multiplicacao = 6 * 2\n",
    "print(\"Multiplicação:\", multiplicacao)\n",
    "\n",
    "# Divisão (/): Divide o operando esquerdo pelo operando direito.\n",
    "divisao = 10 / 3\n",
    "print(\"Divisão:\", divisao)\n",
    "\n",
    "# Módulo (%): Retorna o resto da divisão do operando esquerdo pelo operando direito.\n",
    "modulo = 15 % 4\n",
    "print(\"Módulo:\", modulo)\n",
    "\n",
    "# Divisão inteira (//): Retorna a parte inteira da divisão do operando esquerdo pelo operando direito.\n",
    "divisao_inteira = 20 // 3\n",
    "print(\"Divisão Inteira:\", divisao_inteira)\n",
    "\n",
    "# Potência (**): Eleva o operando esquerdo à potência do operando direito.\n",
    "potencia = 2 ** 4\n",
    "print(\"Potência:\", potencia)"
   ]
  },
  {
   "cell_type": "markdown",
   "metadata": {
    "id": "5oRQxcsCWabP"
   },
   "source": [
    "## Operadores Relacionais\n",
    "\n",
    "- `==` (igual a): Retorna True se os operandos forem iguais.\n",
    "- `!=` (diferente de): Retorna True se os operandos não forem iguais.\n",
    "- `<` (menor que): Retorna True se o operando esquerdo for menor que o operando direito.\n",
    "- `>` (maior que): Retorna True se o operando esquerdo for maior que o operando direito.\n",
    "- `<=` (menor ou igual a): Retorna True se o operando esquerdo for menor ou igual ao operando direito.\n",
    "- `>=` (maior ou igual a): Retorna True se o operando esquerdo for maior ou igual ao operando direito."
   ]
  },
  {
   "cell_type": "code",
   "execution_count": null,
   "metadata": {
    "id": "OBwgWduZWiU5"
   },
   "outputs": [],
   "source": [
    "# Operadores Relacionais em Python\n",
    "\n",
    "# Igual a (==): Retorna True se os operandos forem iguais.\n",
    "igual_a = 5 == 5\n",
    "print(\"Igual a:\", igual_a)\n",
    "\n",
    "# Diferente de (!=): Retorna True se os operandos não forem iguais.\n",
    "diferente_de = 6 != 5\n",
    "print(\"Diferente de:\", diferente_de)\n",
    "\n",
    "# Menor que (<): Retorna True se o operando esquerdo for menor que o operando direito.\n",
    "menor_que = 4 < 7\n",
    "print(\"Menor que:\", menor_que)\n",
    "\n",
    "# Maior que (>): Retorna True se o operando esquerdo for maior que o operando direito.\n",
    "maior_que = 8 > 5\n",
    "print(\"Maior que:\", maior_que)\n",
    "\n",
    "# Menor ou igual a (<=): Retorna True se o operando esquerdo for menor ou igual ao operando direito.\n",
    "menor_ou_igual_a = 5 <= 5\n",
    "print(\"Menor ou igual a:\", menor_ou_igual_a)\n",
    "\n",
    "# Maior ou igual a (>=): Retorna True se o operando esquerdo for maior ou igual ao operando direito.\n",
    "maior_ou_igual_a = 7 >= 6\n",
    "print(\"Maior ou igual a:\", maior_ou_igual_a)\n"
   ]
  },
  {
   "cell_type": "markdown",
   "metadata": {
    "id": "Rir7gk64Wclg"
   },
   "source": [
    "\n",
    "## Operadores Lógicos\n",
    "\n",
    "- `and` (e lógico): Retorna True se ambos os operandos forem True.\n",
    "- `or` (ou lógico): Retorna True se pelo menos um dos operandos for True.\n",
    "- `not` (negação lógica): Inverte o valor do operando."
   ]
  },
  {
   "cell_type": "code",
   "execution_count": null,
   "metadata": {
    "colab": {
     "base_uri": "https://localhost:8080/"
    },
    "id": "Xo0e3tezWkT6",
    "outputId": "3c399fa1-78d8-496e-c53b-181a2ab70dfb"
   },
   "outputs": [
    {
     "name": "stdout",
     "output_type": "stream",
     "text": [
      "E lógico (and): True False False\n",
      "Ou lógico (or): True True False\n",
      "Negação lógica (not): False True\n"
     ]
    }
   ],
   "source": [
    "# Operadores Lógicos em Python\n",
    "\n",
    "# E lógico (and): Retorna True se ambos os operandos forem True.\n",
    "resultado_and_1 = True and True\n",
    "resultado_and_2 = True and False\n",
    "resultado_and_3 = False and False\n",
    "\n",
    "# Ou lógico (or): Retorna True se pelo menos um dos operandos for True.\n",
    "resultado_or_1 = True or True\n",
    "resultado_or_2 = True or False\n",
    "resultado_or_3 = False or False\n",
    "\n",
    "# Negação lógica (not): Inverte o valor do operando.\n",
    "resultado_not_1 = not True\n",
    "resultado_not_2 = not False\n",
    "\n",
    "# Exibição dos resultados\n",
    "print(\"E lógico (and):\", resultado_and_1, resultado_and_2, resultado_and_3)\n",
    "print(\"Ou lógico (or):\", resultado_or_1, resultado_or_2, resultado_or_3)\n",
    "print(\"Negação lógica (not):\", resultado_not_1, resultado_not_2)"
   ]
  },
  {
   "cell_type": "markdown",
   "metadata": {
    "id": "97EV9hFDWeNX"
   },
   "source": [
    "## Operadores de Atribuição\n",
    "\n",
    "- `=` (atribuição): Atribui o valor do operando direito ao operando esquerdo.\n",
    "- `+=`, `-=`, `*=`, `/=`, `%=` (atribuições com operações aritméticas): Realiza a operação aritmética indicada e atribui o resultado à variável à esquerda."
   ]
  },
  {
   "cell_type": "code",
   "execution_count": null,
   "metadata": {
    "colab": {
     "base_uri": "https://localhost:8080/"
    },
    "id": "M29-xnOwWlLs",
    "outputId": "2d144735-6daa-407e-aa3c-e287156fcc3e"
   },
   "outputs": [
    {
     "name": "stdout",
     "output_type": "stream",
     "text": [
      "Atribuição (=): 5 5\n",
      "Atribuição com soma (+=): 12\n",
      "Atribuição com subtração (-=): 4\n",
      "Atribuição com multiplicação (*=): 15\n",
      "Atribuição com divisão (/=): 4.0\n",
      "Atribuição com módulo (%=): 3\n"
     ]
    }
   ],
   "source": [
    "# Operadores de Atribuição em Python\n",
    "\n",
    "# Atribuição (=): Atribui o valor do operando direito ao operando esquerdo.\n",
    "x = 5\n",
    "y = x\n",
    "\n",
    "# Atribuições com operações aritméticas: Realiza a operação aritmética e atribui o resultado à variável à esquerda.\n",
    "a = 10\n",
    "a += 2  # Equivalente a: a = a + 2\n",
    "\n",
    "b = 7\n",
    "b -= 3  # Equivalente a: b = b - 3\n",
    "\n",
    "c = 3\n",
    "c *= 5  # Equivalente a: c = c * 5\n",
    "\n",
    "d = 8\n",
    "d /= 2  # Equivalente a: d = d / 2\n",
    "\n",
    "e = 15\n",
    "e %= 4  # Equivalente a: e = e % 4\n",
    "\n",
    "# Exibição dos valores após as operações\n",
    "print(\"Atribuição (=):\", x, y)\n",
    "print(\"Atribuição com soma (+=):\", a)\n",
    "print(\"Atribuição com subtração (-=):\", b)\n",
    "print(\"Atribuição com multiplicação (*=):\", c)\n",
    "print(\"Atribuição com divisão (/=):\", d)\n",
    "print(\"Atribuição com módulo (%=):\", e)"
   ]
  },
  {
   "cell_type": "markdown",
   "metadata": {
    "id": "AEStZHpO61IK"
   },
   "source": [
    "## Operadores de Incremento e Decremento\n",
    "\n",
    "Em Python, ao contrário de algumas outras linguagens de programação, não há operadores de incremento (`++`) e decremento (`--`) específicos. No entanto, você pode alcançar o mesmo efeito usando operadores de atribuição e aritméticos. Vamos ver como isso pode ser feito:\n",
    "\n",
    "### Operador de Incremento\n",
    "\n",
    "Para incrementar o valor de uma variável em 1, você pode usar o operador de adição (`+=`):\n",
    "\n",
    "```python\n",
    "# Exemplo de incremento\n",
    "contador = 5\n",
    "contador += 1  # Incrementa o valor de contador em 1\n",
    "print(contador)\n",
    "```\n",
    "```python\n",
    "6\n",
    "```\n",
    "\n",
    "### Operador de Decremento\n",
    "\n",
    "Para decrementar o valor de uma variável em 1, você pode usar o operador de subtração (`-=`):\n",
    "\n",
    "```python\n",
    "# Exemplo de decremento\n",
    "contador = 8\n",
    "contador -= 1  # Decrementa o valor de contador em 1\n",
    "print(contador)\n",
    "```\n",
    "```python\n",
    "7\n",
    "```\n",
    "\n",
    "Esses exemplos ilustram como realizar operações de incremento e decremento em Python. A sintaxe `+=` é uma forma concisa de escrever \"atribua à variável o valor atual da variável mais alguma quantidade\". O mesmo princípio se aplica ao operador `-=` para decremento."
   ]
  },
  {
   "cell_type": "markdown",
   "metadata": {
    "id": "zwd-Aka4uW8M"
   },
   "source": [
    "## Operadores Unários\n",
    "\n",
    "Os operadores unários atuam em um único operando, ou seja, em um único valor. Eles realizam operações sobre esse valor. Vamos ver alguns exemplos:\n",
    "\n",
    "### Operador Negativo (`-`):\n",
    "\n",
    "Muda o sinal do número para negativo.\n",
    "\n",
    "```python\n",
    "x = 5\n",
    "resultado = -x\n",
    "```\n",
    "```python\n",
    "-5\n",
    "```\n",
    "\n",
    "### Operador Positivo (`+`):\n",
    "\n",
    "Mantém o sinal do número (raramente usado, já que os números são positivos por padrão).\n",
    "\n",
    "```python\n",
    "y = -3\n",
    "resultado = +y  # O valor de resultado é sem mudança de sinal.\n",
    "```\n",
    "```python\n",
    "-3\n",
    "```\n",
    "\n",
    "### Operador de Inversão Bit a Bit (`~`):\n",
    "\n",
    "Inverte cada bit do número.\n",
    "\n",
    "```python\n",
    "z = 7\n",
    "resultado = ~z\n",
    "```\n",
    "```python\n",
    "-8\n",
    "```\n",
    "\n",
    "O operador negativo e o operador positivo lidam com números inteiros e de ponto flutuante, enquanto o operador de inversão bit a bit opera em valores inteiros."
   ]
  },
  {
   "cell_type": "markdown",
   "metadata": {
    "id": "gb8mmUPo9iil"
   },
   "source": [
    "## Exercícios\n",
    "\n",
    "1. Dada a expressão matemática: $(a = 4 \\times (2 + 3))$, crie uma variável chamada `a` e atribua a ela o resultado dessa expressão. Imprima o valor de `a`.\n",
    "\n",
    "2. Escreva um programa em Python que recebe dois números do usuário, realiza a soma desses números e exibe o resultado.\n",
    "\n",
    "3. Calcule o resto da divisão de 17 por 5 e armazene o resultado em uma variável chamada `resto`. Imprima o valor de `resto`.\n",
    "\n",
    "4. Crie uma expressão lógica que seja verdadeira se um número for par e maior que 10. Teste a expressão com diferentes valores e imprima os resultados.\n",
    "\n",
    "5. Dada a variável `preco_produto` com o valor 150, aplique um desconto de 20% utilizando operadores aritméticos e de atribuição. Imprima o novo valor.\n",
    "\n",
    "6. Implemente um programa que recebe a idade de uma pessoa e verifica se ela é maior de idade (idade maior ou igual a 18). Exiba a mensagem adequada.\n",
    "\n",
    "7. Crie uma expressão lógica que seja verdadeira apenas se um número for ímpar ou menor que 5. Teste a expressão com diferentes valores e imprima os resultados.\n",
    "\n",
    "8. Dado o raio de um círculo, calcule a área utilizando o operador de potência (\\*\\*) para elevar o raio ao quadrado. Imprima o resultado.\n",
    "\n",
    "9. Escreva um programa que converta uma temperatura de Celsius para Fahrenheit. Utilize a fórmula $(F = \\frac{9}{5}C + 32)$.\n",
    "\n",
    "10. Dada a expressão $(x = 3)$ e $(y = 5)$, crie uma variável chamada `resultado` que armazene o valor da expressão $(x^2 + y^2)$ e imprima o resultado."
   ]
  }
 ],
 "metadata": {
  "colab": {
   "provenance": [],
   "toc_visible": true
  },
  "kernelspec": {
   "display_name": "Python 3 (ipykernel)",
   "language": "python",
   "name": "python3"
  },
  "language_info": {
   "codemirror_mode": {
    "name": "ipython",
    "version": 3
   },
   "file_extension": ".py",
   "mimetype": "text/x-python",
   "name": "python",
   "nbconvert_exporter": "python",
   "pygments_lexer": "ipython3",
   "version": "3.10.12"
  }
 },
 "nbformat": 4,
 "nbformat_minor": 4
}
