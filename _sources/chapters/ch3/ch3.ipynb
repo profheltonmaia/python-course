{
 "cells": [
  {
   "cell_type": "markdown",
   "metadata": {
    "id": "ULxWGdhVqcRt"
   },
   "source": [
    "# Capítulo 3: Operadores e Expressões\n",
    "\n"
   ]
  },
  {
   "cell_type": "markdown",
   "metadata": {
    "id": "ebERi_S7Z4OC"
   },
   "source": [
    "![ch3](ch3.jpeg)\n",
    "\n",
    "Compreender os operadores e expressões é importante para a manipulação eficiente de dados e a execução de operações fundamentais em qualquer linguagem. Estes elementos, abrangendo operadores aritméticos, relacionais, lógicos e de atribuição, assumem papéis específicos, desde cálculos matemáticos até avaliações condicionais. Entender tais conceitos não apenas facilita a escrita de códigos mais eficazes, mas também permite a resolução de problemas complexos e a compreensão de códigos existentes. "
   ]
  },
  {
   "cell_type": "markdown",
   "metadata": {},
   "source": [
    "## Operadores Aritméticos\n",
    "\n",
    "Os operadores aritméticos são símbolos essenciais em linguagens de programação, permitindo a realização de diversas operações matemáticas com valores numéricos e variáveis. Com esses operadores, é possível efetuar cálculos e obter resultados precisos. A tabela abaixo apresenta os principais operadores aritméticos, seus símbolos e suas funções:\n",
    "\n",
    "| Operador | Descrição                                              |\n",
    "|----------|--------------------------------------------------------|\n",
    "| +        | Soma dois valores.                                     |\n",
    "| -        | Subtrai o operando direito do operando esquerdo.       |\n",
    "| *        | Multiplica dois valores.                               |\n",
    "| /        | Divide o operando esquerdo pelo operando direito.      |\n",
    "| %        | Retorna o resto da divisão do operando esquerdo pelo operando direito. |\n",
    "| //       | Retorna a parte inteira da divisão do operando esquerdo pelo operando direito. |\n",
    "| **       | Eleva o operando esquerdo à potência do operando direito. |\n",
    "\n",
    "### Exemplos de Operadores Aritméticos\n",
    "\n",
    "```python\n",
    "# Adição (+): Soma dois valores.\n",
    "soma = 5 + 3\n",
    "print(\"Adição:\", soma)\n",
    "\n",
    "# Subtração (-): Subtrai o operando direito do operando esquerdo.\n",
    "subtracao = 7 - 4\n",
    "print(\"Subtração:\", subtracao)\n",
    "\n",
    "# Multiplicação (*): Multiplica dois valores.\n",
    "multiplicacao = 6 * 2\n",
    "print(\"Multiplicação:\", multiplicacao)\n",
    "\n",
    "# Divisão (/): Divide o operando esquerdo pelo operando direito.\n",
    "divisao = 10 / 3\n",
    "print(\"Divisão:\", divisao)\n",
    "\n",
    "# Módulo (%): Retorna o resto da divisão do operando esquerdo pelo operando direito.\n",
    "modulo = 15 % 4\n",
    "print(\"Módulo:\", modulo)\n",
    "\n",
    "# Divisão inteira (//): Retorna a parte inteira da divisão do operando esquerdo pelo operando direito.\n",
    "divisao_inteira = 20 // 3\n",
    "print(\"Divisão Inteira:\", divisao_inteira)\n",
    "\n",
    "# Potência (**): Eleva o operando esquerdo à potência do operando direito.\n",
    "potencia = 2 ** 4\n",
    "print(\"Potência:\", potencia)\n",
    "```\n",
    "```python\n",
    "Adição: 8\n",
    "Subtração: 3\n",
    "Multiplicação: 12\n",
    "Divisão: 3.3333333333333335\n",
    "Módulo: 3\n",
    "Divisão Inteira: 6\n",
    "Potência: 16\n",
    "```\n",
    "\n",
    "Os operadores aritméticos são fundamentais para manipular números e realizar cálculos em programação. No entanto, é importante entender a precedência dos operadores, pois ela determina a ordem em que as operações são executadas. Utilizar parênteses é uma prática recomendada para garantir a precedência desejada e obter resultados corretos em expressões complexas.\n",
    "\n",
    "Por exemplo:\n",
    "\n",
    "```python\n",
    "# Multiplicação é realizada antes da adição\n",
    "result1 = 2 + 3 * 4  \n",
    "print(\"Resultado Exemplo 1:\", result1)  \n",
    "\n",
    "# Parênteses forçam a adição a ser realizada primeiro\n",
    "result2 = (2 + 3) * 4  \n",
    "print(\"Resultado Exemplo 2:\", result2)  \n",
    "\n",
    "# Divisão é realizada antes da adição\n",
    "result3 = 8 + 10 / 2  \n",
    "print(\"Resultado Exemplo 3:\", result3)  \n",
    "\n",
    "# Parênteses alteram a ordem de operações\n",
    "result4 = (8 + 10) / 2  \n",
    "print(\"Resultado Exemplo 4:\", result4)  \n",
    "```\n",
    "```python\n",
    "Resultado 1: 14\n",
    "Resultado 2: 20\n",
    "Resultado 3: 13.0\n",
    "Resultado 4: 9.0\n",
    "```\n",
    "\n",
    "Esses exemplos ilustram como a precedência dos operadores afeta o resultado das expressões aritméticas. É importante compreender essa precedência para escrever código claro e sem erros lógicos.\n"
   ]
  },
  {
   "cell_type": "markdown",
   "metadata": {
    "id": "5oRQxcsCWabP"
   },
   "source": [
    "## Operadores Relacionais\n",
    "\n",
    "- `==` (igual a): Retorna True se os operandos forem iguais.\n",
    "- `!=` (diferente de): Retorna True se os operandos não forem iguais.\n",
    "- `<` (menor que): Retorna True se o operando esquerdo for menor que o operando direito.\n",
    "- `>` (maior que): Retorna True se o operando esquerdo for maior que o operando direito.\n",
    "- `<=` (menor ou igual a): Retorna True se o operando esquerdo for menor ou igual ao operando direito.\n",
    "- `>=` (maior ou igual a): Retorna True se o operando esquerdo for maior ou igual ao operando direito."
   ]
  },
  {
   "cell_type": "code",
   "execution_count": null,
   "metadata": {
    "id": "OBwgWduZWiU5"
   },
   "outputs": [],
   "source": [
    "# Operadores Relacionais em Python\n",
    "\n",
    "# Igual a (==): Retorna True se os operandos forem iguais.\n",
    "igual_a = 5 == 5\n",
    "print(\"Igual a:\", igual_a)\n",
    "\n",
    "# Diferente de (!=): Retorna True se os operandos não forem iguais.\n",
    "diferente_de = 6 != 5\n",
    "print(\"Diferente de:\", diferente_de)\n",
    "\n",
    "# Menor que (<): Retorna True se o operando esquerdo for menor que o operando direito.\n",
    "menor_que = 4 < 7\n",
    "print(\"Menor que:\", menor_que)\n",
    "\n",
    "# Maior que (>): Retorna True se o operando esquerdo for maior que o operando direito.\n",
    "maior_que = 8 > 5\n",
    "print(\"Maior que:\", maior_que)\n",
    "\n",
    "# Menor ou igual a (<=): Retorna True se o operando esquerdo for menor ou igual ao operando direito.\n",
    "menor_ou_igual_a = 5 <= 5\n",
    "print(\"Menor ou igual a:\", menor_ou_igual_a)\n",
    "\n",
    "# Maior ou igual a (>=): Retorna True se o operando esquerdo for maior ou igual ao operando direito.\n",
    "maior_ou_igual_a = 7 >= 6\n",
    "print(\"Maior ou igual a:\", maior_ou_igual_a)\n"
   ]
  },
  {
   "cell_type": "markdown",
   "metadata": {
    "id": "Rir7gk64Wclg"
   },
   "source": [
    "## Operadores Lógicos\n",
    "\n",
    "- `and` (e lógico): Retorna True se ambos os operandos forem True.\n",
    "- `or` (ou lógico): Retorna True se pelo menos um dos operandos for True.\n",
    "- `not` (negação lógica): Inverte o valor do operando."
   ]
  },
  {
   "cell_type": "code",
   "execution_count": null,
   "metadata": {
    "colab": {
     "base_uri": "https://localhost:8080/"
    },
    "id": "Xo0e3tezWkT6",
    "outputId": "3c399fa1-78d8-496e-c53b-181a2ab70dfb"
   },
   "outputs": [
    {
     "name": "stdout",
     "output_type": "stream",
     "text": [
      "E lógico (and): True False False\n",
      "Ou lógico (or): True True False\n",
      "Negação lógica (not): False True\n"
     ]
    }
   ],
   "source": [
    "# Operadores Lógicos em Python\n",
    "\n",
    "# E lógico (and): Retorna True se ambos os operandos forem True.\n",
    "resultado_and_1 = True and True\n",
    "resultado_and_2 = True and False\n",
    "resultado_and_3 = False and False\n",
    "\n",
    "# Ou lógico (or): Retorna True se pelo menos um dos operandos for True.\n",
    "resultado_or_1 = True or True\n",
    "resultado_or_2 = True or False\n",
    "resultado_or_3 = False or False\n",
    "\n",
    "# Negação lógica (not): Inverte o valor do operando.\n",
    "resultado_not_1 = not True\n",
    "resultado_not_2 = not False\n",
    "\n",
    "# Exibição dos resultados\n",
    "print(\"E lógico (and):\", resultado_and_1, resultado_and_2, resultado_and_3)\n",
    "print(\"Ou lógico (or):\", resultado_or_1, resultado_or_2, resultado_or_3)\n",
    "print(\"Negação lógica (not):\", resultado_not_1, resultado_not_2)"
   ]
  },
  {
   "cell_type": "markdown",
   "metadata": {
    "id": "97EV9hFDWeNX"
   },
   "source": [
    "## Operadores de Atribuição\n",
    "\n",
    "- `=` (atribuição): Atribui o valor do operando direito ao operando esquerdo.\n",
    "- `+=`, `-=`, `*=`, `/=`, `%=` (atribuições com operações aritméticas): Realiza a operação aritmética indicada e atribui o resultado à variável à esquerda."
   ]
  },
  {
   "cell_type": "code",
   "execution_count": null,
   "metadata": {
    "colab": {
     "base_uri": "https://localhost:8080/"
    },
    "id": "M29-xnOwWlLs",
    "outputId": "2d144735-6daa-407e-aa3c-e287156fcc3e"
   },
   "outputs": [
    {
     "name": "stdout",
     "output_type": "stream",
     "text": [
      "Atribuição (=): 5 5\n",
      "Atribuição com soma (+=): 12\n",
      "Atribuição com subtração (-=): 4\n",
      "Atribuição com multiplicação (*=): 15\n",
      "Atribuição com divisão (/=): 4.0\n",
      "Atribuição com módulo (%=): 3\n"
     ]
    }
   ],
   "source": [
    "# Operadores de Atribuição em Python\n",
    "\n",
    "# Atribuição (=): Atribui o valor do operando direito ao operando esquerdo.\n",
    "x = 5\n",
    "y = x\n",
    "\n",
    "# Atribuições com operações aritméticas: Realiza a operação aritmética e atribui o resultado à variável à esquerda.\n",
    "a = 10\n",
    "a += 2  # Equivalente a: a = a + 2\n",
    "\n",
    "b = 7\n",
    "b -= 3  # Equivalente a: b = b - 3\n",
    "\n",
    "c = 3\n",
    "c *= 5  # Equivalente a: c = c * 5\n",
    "\n",
    "d = 8\n",
    "d /= 2  # Equivalente a: d = d / 2\n",
    "\n",
    "e = 15\n",
    "e %= 4  # Equivalente a: e = e % 4\n",
    "\n",
    "# Exibição dos valores após as operações\n",
    "print(\"Atribuição (=):\", x, y)\n",
    "print(\"Atribuição com soma (+=):\", a)\n",
    "print(\"Atribuição com subtração (-=):\", b)\n",
    "print(\"Atribuição com multiplicação (*=):\", c)\n",
    "print(\"Atribuição com divisão (/=):\", d)\n",
    "print(\"Atribuição com módulo (%=):\", e)"
   ]
  },
  {
   "cell_type": "markdown",
   "metadata": {
    "id": "AEStZHpO61IK"
   },
   "source": [
    "## Operadores de Incremento e Decremento\n",
    "\n",
    "Em Python, ao contrário de algumas outras linguagens de programação, não há operadores de incremento (`++`) e decremento (`--`) específicos. No entanto, você pode alcançar o mesmo efeito usando operadores de atribuição e aritméticos. Vamos ver como isso pode ser feito:\n",
    "\n",
    "### Operador de Incremento\n",
    "\n",
    "Para incrementar o valor de uma variável em 1, você pode usar o operador de adição (`+=`):\n",
    "\n",
    "```python\n",
    "# Exemplo de incremento\n",
    "contador = 5\n",
    "contador += 1  # Incrementa o valor de contador em 1\n",
    "print(contador)\n",
    "```\n",
    "```python\n",
    "6\n",
    "```\n",
    "\n",
    "### Operador de Decremento\n",
    "\n",
    "Para decrementar o valor de uma variável em 1, você pode usar o operador de subtração (`-=`):\n",
    "\n",
    "```python\n",
    "# Exemplo de decremento\n",
    "contador = 8\n",
    "contador -= 1  # Decrementa o valor de contador em 1\n",
    "print(contador)\n",
    "```\n",
    "```python\n",
    "7\n",
    "```\n",
    "\n",
    "Esses exemplos ilustram como realizar operações de incremento e decremento em Python. A sintaxe `+=` é uma forma concisa de escrever \"atribua à variável o valor atual da variável mais alguma quantidade\". O mesmo princípio se aplica ao operador `-=` para decremento."
   ]
  },
  {
   "cell_type": "markdown",
   "metadata": {
    "id": "zwd-Aka4uW8M"
   },
   "source": [
    "## Operadores Unários\n",
    "\n",
    "Os operadores unários são ferramentas poderosas em Python, permitindo a realização de operações em um único valor.\n",
    "\n",
    "### Operador Negativo (`-`):\n",
    "\n",
    "O operador negativo (`-`) transforma um valor positivo em negativo e vice-versa. Utilize-o para inverter o sinal de um número.\n",
    "\n",
    "```python\n",
    "numero_positivo = 5\n",
    "numero_negativo = -numero_positivo\n",
    "print(numero_negativo)\n",
    "```\n",
    "```python\n",
    "-5\n",
    "```\n",
    "\n",
    "### Operador Positivo (`+`):\n",
    "\n",
    "O operador positivo (`+`) mantém o sinal de um número positivo. Embora seja geralmente redundante quando aplicado a valores positivos, pode ser útil em situações específicas. Além disso, o operador `+` pode ser empregado para forçar a conversão de um valor para o tipo `float`.\n",
    "\n",
    "```python\n",
    "valor_string = \"3.14\"\n",
    "valor_float = +float(valor_string)\n",
    "print(valor_float)\n",
    "```\n",
    "```python\n",
    "3.14\n",
    "```\n",
    "\n",
    "### Operador de Inversão Bit a Bit (`~`):\n",
    "\n",
    "O operador de inversão bit a bit (~), também conhecido como complemento bit a bit, é uma ferramenta poderosa para manipular números binários em Python. Ele inverte cada bit de um número inteiro, abrindo um mundo de possibilidades para operações em nível de bit.\n",
    "\n",
    "```python\n",
    "numero_binario = 0b1100 # Equivale ao decimal 12\n",
    "inversao_bit_a_bit = ~numero_binario\n",
    "print(bin(inversao_bit_a_bit))\n",
    "```\n",
    "```python\n",
    "-0b1101 # Equivale ao decimal -13\n",
    "```\n",
    "\n",
    "**Exemplo: Desmascarando o Mistério dos Números Negativos**\n",
    "\n",
    "Imagine que você tem um número binário armazenado na variável `numero`. Ao aplicar o operador `~` a `numero`, você obtém a sua representação em complemento de dois, que é a forma como os números negativos são armazenados na memória do computador.\n",
    "\n",
    "```python\n",
    "numero = 0b1011 # Equivale ao decimal 11\n",
    "\n",
    "numero_negativo = ~numero + 1\n",
    "\n",
    "print(f\"Número original: {bin(numero)}\")\n",
    "print(f\"Representação em complemento de dois: {bin(numero_negativo)}\")\n",
    "print(f\"Número decimal equivalente: {-11}\")\n",
    "```\n",
    "```python\n",
    "Número original: 0b1011\n",
    "Representação em complemento de dois: -0b1011\n",
    "Número decimal equivalente: -11\n",
    "```\n",
    "* O operador `~` inverte cada bit de `numero`, resultando em 0b0100.\n",
    "* Adicionamos 1 ao resultado da inversão para obter a representação em complemento de dois do número negativo.\n",
    "* O valor final, 0b0101, é equivalente ao decimal -11, que é a representação do número original como um número negativo.\n",
    "\n",
    "Ao utilizar operadores unários em expressões mais complexas, é importante considerar a ordem de precedência dos operadores em Python. A combinação de operadores unários com outros operadores permite a realização de operações mais elaboradas."
   ]
  },
  {
   "cell_type": "markdown",
   "metadata": {
    "id": "gb8mmUPo9iil"
   },
   "source": [
    "## Exercícios\n",
    "\n",
    "1. Dada a expressão matemática: $(a = 4 \\times (2 + 3))$, crie uma variável chamada `a` e atribua a ela o resultado dessa expressão. Imprima o valor de `a`.\n",
    "\n",
    "2. Escreva um programa em Python que recebe dois números do usuário, realiza a soma desses números e exibe o resultado.\n",
    "\n",
    "3. Calcule o resto da divisão de 17 por 5 e armazene o resultado em uma variável chamada `resto`. Imprima o valor de `resto`.\n",
    "\n",
    "4. Crie uma expressão lógica que seja verdadeira se um número for par e maior que 10. Teste a expressão com diferentes valores e imprima os resultados.\n",
    "\n",
    "5. Dada a variável `preco_produto` com o valor 150, aplique um desconto de 20% utilizando operadores aritméticos e de atribuição. Imprima o novo valor.\n",
    "\n",
    "6. Implemente um programa que recebe a idade de uma pessoa e verifica se ela é maior de idade (idade maior ou igual a 18). Exiba a mensagem adequada.\n",
    "\n",
    "7. Crie uma expressão lógica que seja verdadeira apenas se um número for ímpar ou menor que 5. Teste a expressão com diferentes valores e imprima os resultados.\n",
    "\n",
    "8. Dado o raio de um círculo, calcule a área utilizando o operador de potência (\\*\\*) para elevar o raio ao quadrado. Imprima o resultado.\n",
    "\n",
    "9. Escreva um programa que converta uma temperatura de Celsius para Fahrenheit. Utilize a fórmula $(F = \\frac{9}{5}C + 32)$.\n",
    "\n",
    "10. Dada a expressão $(x = 3)$ e $(y = 5)$, crie uma variável chamada `resultado` que armazene o valor da expressão $(x^2 + y^2)$ e imprima o resultado."
   ]
  },
  {
   "cell_type": "code",
   "execution_count": null,
   "metadata": {},
   "outputs": [],
   "source": []
  }
 ],
 "metadata": {
  "colab": {
   "provenance": [],
   "toc_visible": true
  },
  "kernelspec": {
   "display_name": "Python 3 (ipykernel)",
   "language": "python",
   "name": "python3"
  },
  "language_info": {
   "codemirror_mode": {
    "name": "ipython",
    "version": 3
   },
   "file_extension": ".py",
   "mimetype": "text/x-python",
   "name": "python",
   "nbconvert_exporter": "python",
   "pygments_lexer": "ipython3",
   "version": "3.10.12"
  }
 },
 "nbformat": 4,
 "nbformat_minor": 4
}
