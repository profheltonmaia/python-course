{
 "cells": [
  {
   "cell_type": "markdown",
   "metadata": {
    "id": "ULxWGdhVqcRt"
   },
   "source": [
    "# Capítulo 1: Introdução à programação em Python\n",
    "\n"
   ]
  },
  {
   "cell_type": "markdown",
   "metadata": {
    "id": "TUXPVopGqgeo"
   },
   "source": [
    "## O que é programação de computadores?\n",
    "\n",
    "Programar computadores é a arte e ciência de conceber e criar conjuntos de instruções que capacitam computadores a realizar tarefas específicas. Esse processo envolve a expressão lógica de algoritmos por meio de uma linguagem de programação, atuando como a ponte entre a mente humana e a máquina.\n",
    "\n",
    "Essa habilidade é fundamental para aqueles que buscam atuar no universo da computação, desempenhando um papel essencial em diversas disciplinas, como engenharia, ciência, negócios, saúde, educação e entretenimento. A capacidade de programar não apenas possibilita a automação de processos, mas também estimula a resolução criativa de problemas e impulsiona a inovação tecnológica.\n",
    "\n",
    "Na prática da programação, os desenvolvedores convertem conceitos abstratos em linguagem compreensível pelos computadores, proporcionando-lhes a habilidade de executar tarefas complexas. Essa interação entre humanos e máquinas desempenha um papel fundamental na contínua evolução da sociedade digital, moldando desde avanços científicos até transformações sociais significativas.\n",
    "\n",
    "A habilidade de programar transcende a mera condição técnica, transformando-se em uma ferramenta importante para explorar novas ideias e o aprimoramento pessoal. Filosoficamente falando, programar é também uma forma de enxergar o mundo sob diferentes perspectivas, processos e abstrações."
   ]
  },
  {
   "cell_type": "markdown",
   "metadata": {
    "id": "0nQ9aWfJ0c7f"
   },
   "source": [
    "Dentro do contexto do Python, esta é uma linguagem considerada de alto nível, sendo interpretada e multiparadigma. Tal caracterização implica que o Python destaca-se por sua facilidade de aprendizado e uso, sendo aplicável a uma ampla gama de propósitos. Sua versatilidade se destaca ainda mais pela capacidade de suportar diversos paradigmas de programação, proporcionando aos desenvolvedores uma abordagem flexível e adaptável para resolver problemas em diferentes domínios.\n",
    "\n",
    "O Python é uma linguagem de programação versátil que desempenha papéis significativos em diversas áreas. A seguir, um breve resumo de algumas dessas possibilidades:\n",
    "\n",
    "- **Engenharia e Ciências:** Utilizado em simulação, análise e visualização de dados, assim como em projetos de aprendizado de máquina. Sua sintaxe clara e concisa, bem como sua ampla biblioteca de módulos científicos, tornam-o uma escolha popular para tais abordagens.\n",
    "\n",
    "- **Negócios:** Como uma ferramenta essencial para a análise de dados, automação de processos e desenvolvimento de aplicativos web. Sua flexibilidade e eficiência o tornam uma escolha versátil para soluções empresariais.\n",
    "\n",
    "- **Educação:** O Python é a linguagem de programação mais popular para o ensino de programação em escolas e universidades. Sua sintaxe simples e intuitiva torna-o uma linguagem fácil de aprender, mesmo para iniciantes.\n",
    "\n",
    "- **Entretenimento:** É uma linguagem de programação versátil e robusta que é frequentemente utilizada na criação de jogos, aplicativos móveis e outros softwares de entretenimento. Sua flexibilidade e robustez permitem que seja usada para criar aplicações de alta qualidade e de todos os tipos.\n",
    "\n",
    "- **Saúde:** Fortemente utilizado em análise de dados médicos e desenvolvimento de softwares especializados e pesquisa médica. Sua capacidade analítica e adaptabilidade o tornam uma ferramenta valiosa para a pesquisa e a inovação em saúde.\n",
    "\n",
    "\n",
    "Python é uma linguagem de programação versátil que atende a uma ampla gama de necessidades, desde automatização de tarefas repetitivas até desafios avançados. Suas aplicações incluem automação, análise de dados, desenvolvimento de jogos, inteligência artificial, automação de redes, aplicações científicas, desenvolvimento de aplicativos de desktop e web, construção de APIs, segurança cibernética, simulações científicas e matemáticas, Internet das Coisas (IoT) e produção de mídia. A versatilidade do Python o torna uma ferramenta indispensável em diversas áreas, proporcionando uma base sólida para inovação no cenário tecnológico atual. Dominar Python não é apenas uma habilidade essencial, mas também uma maneira de explorar as constantes inovações e desafios tecnológicos em evolução.\n",
    " \n",
    "<!-- Python, uma linguagem versátil, atende a um amplo espectro de necessidades, desde tarefas básicas até desafios avançados. Algumas de suas aplicações incluem:\n",
    "\n",
    "- **Automatizar Tarefas Repetitivas:** Ideal para criar scripts que automatizam tarefas rotineiras, economizando tempo e aumentando a eficiência.\n",
    "  \n",
    "- **Análise de Dados e Visualização:** Pode ser utilizado para explorar, analisar e visualizar dados, fornecendo insights valiosos para a tomada de decisões em diversas áreas, como negócios e ciência.\n",
    "  \n",
    "- **Desenvolvimento de Jogos:** Popular para o desenvolvimento de jogos, proporcionando uma combinação de simplicidade e poder.\n",
    "  \n",
    "- **Inteligência Artificial:** Amplamente utilizado em projetos de inteligência artificial, abrangendo desde chatbots simples até sistemas mais complexos de processamento de linguagem natural.\n",
    "  \n",
    "- **Automação de Redes e Sistemas:** Empregado para automatizar a administração de sistemas e redes, facilitando a configuração e o gerenciamento eficientes.\n",
    "  \n",
    "- **Aplicações Científicas:** Adotado em diversas disciplinas científicas para modelagem matemática, simulações e experimentação.\n",
    "  \n",
    "- **Desenvolvimento de Aplicativos de Desktop:** Pode ser usado para criar aplicativos de desktop interativos e funcionais.\n",
    "  \n",
    "- **Construção de APIs:** Escolha popular para criar APIs (Interfaces de Programação de Aplicações), permitindo a comunicação eficiente entre diferentes componentes de software.\n",
    "  \n",
    "- **Segurança Cibernética:** Utilizado em ferramentas e scripts para testes de segurança e análise de vulnerabilidades.\n",
    "  \n",
    "- **Desenvolvimento Web:** Amplamente empregado em frameworks como Django e Flask para desenvolver aplicativos web robustos e escaláveis.\n",
    "  \n",
    "- **Simulações Científicas e Matemáticas Avançadas:** Utilizado em ambientes acadêmicos e de pesquisa para simulações e modelagens complexas para resolução de problemas matemáticos avançados.\n",
    "  \n",
    "- **Internet das Coisas (IoT):** Amplamente adotado no desenvolvimento para IoT, proporcionando simplicidade e flexibilidade para integrar e coletar dados em ambientes conectados.\n",
    "  \n",
    "- **Produção de Mídia (Imagens, Vídeos e Música):** Usado de maneira abrangente na produção e manipulação de mídia, oferecendo ferramentas especializadas para criar, editar vídeos e imagens, e até mesmo compor música, evidenciando sua versatilidade nas expressões artísticas digitais.\n",
    "\n",
    "Com sua versatilidade impressionante, Python emerge como uma ferramenta indispensável com aplicações abrangentes. Sua utilidade vai além de simplesmente trabalhar com computadores; ela se estende para áreas tão diversas quanto ciência de dados, desenvolvimento web, inteligência artificial e muito mais. Assim, dominar este linguagem não apenas se torna uma habilidade essencial, mas também uma forma para explorar inovações e desafios em constante evolução no vasto panorama tecnológico contemporâneo. -->\n"
   ]
  },
  {
   "cell_type": "markdown",
   "metadata": {
    "id": "K04HfI4R1Jiz"
   },
   "source": [
    "## Escrevendo seu primeiro programa\n",
    "\n",
    "Um algoritmo é uma sequência clara e finita de passos ou regras que guiam a execução de uma tarefa específica ou resolvem um problema. Podemos comparar um algoritmo a uma receita culinária, onde cada passo representa uma instrução precisa para criar um prato. Assim como uma receita, um algoritmo possui entrada (dados), processamento (passos a serem seguidos), saída (resultado), podendo incluir repetições (loops) e condições de testes. Tudo isso busca produzir o resultado desejado seguindo uma sequência lógica de ações.\n",
    "\n",
    "A estrutura básica de um programa em Python é a seguinte:\n",
    "\n",
    "```python\n",
    "def main():\n",
    "    # Bloco de código principal\n",
    "\n",
    "if __name__ == \"__main__\":\n",
    "    main()\n",
    "```\n",
    "\n",
    "A função main() é a função principal do programa. É a função que é chamada quando o programa é executado.\n",
    "\n",
    "O bloco de código principal é onde o programa é executado. O bloco de código foi indentado com quatro espaços, o que indica que ele faz parte do bloco principal.\n",
    "\n",
    "A linha if __name__ == \"__main__\": é uma instrução de controle que verifica se o arquivo está sendo executado como um programa principal. Se o arquivo estiver sendo executado como um programa principal, a função main() será executada. Se o arquivo estiver sendo importado por outro programa, a função main() não será executada.\n",
    "\n",
    "Aqui está um exemplo de um programa básico em Python:\n",
    "\n",
    "```python\n",
    "def main():\n",
    "    print(\"Hello, world!\")\n",
    "\n",
    "if __name__ == \"__main__\":\n",
    "    main()\n",
    "```\n",
    "Este programa imprime a mensagem \"Hello, world!\" na tela.\n",
    "\n",
    "A estrutura básica de um programa em Python pode ser expandida para incluir outros blocos de código, como blocos de código de funções, blocos de código de classes e blocos de código de condições.\n",
    "\n",
    "Para executar este programa, salve-o em um arquivo com a extensão \".py\". Por exemplo, você pode salvar este programa como \"hello_world.py\".\n",
    "\n",
    "Em seguida, abra um terminal e navegue até a pasta onde você salvou o arquivo \"hello_world.py\".\n",
    "\n",
    "Finalmente, execute o programa usando o seguinte comando:\n",
    "\n",
    "```\n",
    "python hello_world.py\n",
    "```\n",
    "\n",
    "Se tudo estiver funcionando corretamente, você deverá ver a mensagem \"Hello, world!\" na tela.\n",
    "\n",
    "No caso da utilização de uma interface de programação online, basta salvar o arquivo \"hello_world.py\" ou qualquer outro nome e executar.\n",
    "\n",
    "Observação: A estrutura básica de um programa em Python, com a inclusão da condição if __name__ == \"__main__\":, é uma prática recomendada para tornar o código mais modular e reutilizável. No entanto, ao escrever scripts pequenos ou experimentar no console interativo, essa abordagem pode ser considerada menos importante. Em tais casos, é possível executar scripts curtos e trechos de código no console sem a necessidade dessas especificações adicionais. Nesta documentação, eventualmente, faremos uso dessa simplificação.\n",
    "\n",
    "**Importante:**\n",
    "\n",
    "A formatação adequada do código, enfatizando a identação em Python, é fundamental para indicar a estrutura do programa. A escolha entre espaços e tabs é pessoal, mas a consistência, preferencialmente utilizando quatro espaços por nível, é recomendada pela [PEP 8](https://www.python.org/dev/peps/pep-0008/), o guia oficial de estilo. Essa prática aprimora a legibilidade, facilita a colaboração e é crucial para manter um estilo uniforme e previsível no código Python. Siga essas diretrizes para garantir uma prática eficiente e consistente em seus projetos.\n"
   ]
  },
  {
   "cell_type": "markdown",
   "metadata": {
    "id": "rGKHTTkn1BMc"
   },
   "source": [
    "## O que você precisa para começar?\n",
    "\n",
    "Para iniciar seu aprendizado em Python, além desta documentação, é fundamental contar com os seguintes elementos:\n",
    "\n",
    "1. **Computador com Acesso à Internet:** Recomenda-se utilizar um computador com conexão à internet para facilitar o download de pacotes adicionais e o acesso à documentação online, enriquecendo sua experiência de aprendizado. No entanto, é válido destacar que é possível programar em Python em um ambiente offline, o que se torna uma opção viável em situações em que a conexão à internet não está disponível.\n",
    "\n",
    "2. **Editor de Texto ou IDE (Ambiente de Desenvolvimento Integrado):** Escolha um editor de texto que atenda às suas preferências e necessidades. Pode ser um editor simples como o Notepad ou algo mais avançado como o Sublime Text, Atom, Visual Studio Code, ou editores online como o [Replit](https://replit.com), Google Colab ou o Jupyter Notebook. Além disso, o PyCharm é uma poderosa IDE específica para Python que oferece recursos avançados e é amplamente utilizada por desenvolvedores.\n",
    "\n",
    "3. **Interpretador Python:** Faça o download do interpretador Python diretamente do site da Python Software Foundation (https://www.python.org/). Alternativamente, você pode utilizar ambientes online como o Replit, que já incluem um interpretador Python e um editor de texto integrados.\n",
    "\n",
    "Equipado com esses recursos, você estará pronto para explorar e aprimorar suas habilidades em Python. Seja trabalhando localmente em seu computador ou em ambientes online, você terá a flexibilidade necessária para mergulhar no mundo da programação, adaptando-se ao seu estilo de aprendizado preferido.\n",
    "\n",
    "**Observação:** O Python é uma linguagem de programação interpretada, ou seja, seu código é executado diretamente pelo interpretador, sem ser convertido para um formato de código de máquina. Isso torna o Python uma linguagem mais fácil de aprender e usar, pois não é necessário compilar o código antes de executá-lo.\n",
    "\n",
    "\n",
    "\n"
   ]
  },
  {
   "cell_type": "markdown",
   "metadata": {
    "id": "CyHHkXhuHch2"
   },
   "source": [
    "## Como um programa em Python funciona?\n",
    "\n",
    "O processo de execução de um código Python no computador é composto por várias etapas, cada uma desempenhando um papel fundamental. Tudo começa com o desenvolvimento do código fonte, usualmente armazenado em arquivos com extensão \".py\". Esse código é então submetido ao interpretador Python.\n",
    "\n",
    "O interpretador é o programa encarregado de ler e processar o código fonte. Ele converte o código Python em código objeto (bytecode), uma forma intermediária que é independente da arquitetura do hardware. Este bytecode é uma representação de baixo nível que servirá como entrada para a Máquina Virtual Python (PVM).\n",
    "\n",
    "A PVM é a camada que efetivamente executa o programa. Ela gerencia a execução do bytecode, cuida do gerenciamento de memória e interage com o sistema operacional. Além disso, algumas implementações do interpretador Python, como o CPython, podem incorporar um Compilador Just-In-Time (JIT).\n",
    "\n",
    "\n",
    "![Minha primeira imagem](pythonWorks.svg \"Minha primeira imagem\")"
   ]
  },
  {
   "cell_type": "markdown",
   "metadata": {
    "id": "vCssW6YEGJRH"
   },
   "source": [
    "Podemos agora escrever um exemplo mais aprimorado do nosso código inicial. Vamos aprender a ler o nome e a idade do usuário e, em seguida, imprimir uma mensagem personalizada na tela.\n",
    "\n",
    "Passos:\n",
    "\n",
    "1. Crie um novo arquivo para armazenar o código do programa.\n",
    "2. Copie ou digite o código do programa no arquivo.\n",
    "\n",
    "```python\n",
    "nome  = input(\"Qual é o seu nome? \")\n",
    "idade = input(\"Qual é a sua idade? \")\n",
    "print(nome)\n",
    "print(idade)\n",
    "```\n",
    "\n",
    "3. Salve o arquivo.\n",
    "4. Navegue até a pasta onde você salvou o arquivo.\n",
    "5. Execute o programa usando o interpretador Python.\n",
    "6. O programa irá solicitar o nome e a idade do usuário.\n",
    "\n",
    "```\n",
    "Qual é o seu nome? Ana Maria\n",
    "Qual é a sua idade? 25\n",
    "\n",
    "```\n",
    "\n",
    "7. Depois de fornecer as informações, o programa irá imprimir uma mensagem personalizada na tela.\n",
    "\n",
    "```\n",
    "Ana Maria\n",
    "25\n",
    "```"
   ]
  },
  {
   "cell_type": "markdown",
   "metadata": {
    "id": "ItYreW5UHs2a"
   },
   "source": [
    "Explicação detalhada do código:\n",
    "\n",
    "A primeira linha do código declara duas variáveis, nome e idade, para armazenar o nome e a idade do usuário, respectivamente.\n",
    "\n",
    "A segunda linha usa a função input() para solicitar o nome do usuário. A função input() retorna uma string, que é armazenada na variável nome.\n",
    "\n",
    "A terceira linha usa a função input() para solicitar a idade do usuário. A função input() também retorna uma string, que é armazenada na variável idade.\n",
    "\n",
    "A quarta linha usa a função print() para imprimir o nome do usuário na tela. A função print() aceita qualquer tipo de dados como entrada e pode ser usada para imprimir dados na tela.\n",
    "\n",
    "A quinta linha usa a função print() para imprimir a idade do usuário na tela."
   ]
  },
  {
   "cell_type": "markdown",
   "metadata": {
    "id": "AKPBt-0EIZKL"
   },
   "source": [
    "## Escrevendo um Programa de Forma Simples\n",
    "\n",
    "Encerraremos este capítulo com um exemplo conciso de um programa que realiza a soma de dois números e exibe o resultado na tela. O nome do arquivo pode ser \"soma.py\", e o código é o seguinte:\n",
    "\n",
    "```python\n",
    "a = 1\n",
    "b = 2\n",
    "soma = a + b\n",
    "print(soma)\n",
    "```\n",
    "```\n",
    "3\n",
    "```\n",
    "Neste exemplo, valores foram atribuídos às variáveis a e b. Em seguida, uma nova variável, chamada soma, armazenou o resultado da adição desses valores. Finalmente, o comando print foi utilizado para exibir o resultado da soma.\n",
    "\n",
    "Embora seja um exemplo didático, esse é um programa funcional em Python que realiza uma soma simples. Agora, vamos avançar para os próximos capítulos, onde você continuará aprendendo os fundamentos da programação!"
   ]
  },
  {
   "cell_type": "code",
   "execution_count": null,
   "metadata": {},
   "outputs": [],
   "source": []
  }
 ],
 "metadata": {
  "colab": {
   "provenance": []
  },
  "kernelspec": {
   "display_name": "Python 3 (ipykernel)",
   "language": "python",
   "name": "python3"
  },
  "language_info": {
   "codemirror_mode": {
    "name": "ipython",
    "version": 3
   },
   "file_extension": ".py",
   "mimetype": "text/x-python",
   "name": "python",
   "nbconvert_exporter": "python",
   "pygments_lexer": "ipython3",
   "version": "3.10.13"
  }
 },
 "nbformat": 4,
 "nbformat_minor": 4
}
