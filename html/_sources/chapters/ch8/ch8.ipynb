{
  "nbformat": 4,
  "nbformat_minor": 0,
  "metadata": {
    "colab": {
      "provenance": []
    },
    "kernelspec": {
      "name": "python3",
      "display_name": "Python 3"
    },
    "language_info": {
      "name": "python"
    }
  },
  "cells": [
    {
      "cell_type": "markdown",
      "source": [
        "# Capítulo 8: Manipulação de Arquivos\n",
        "\n",
        "\n"
      ],
      "metadata": {
        "id": "ULxWGdhVqcRt"
      }
    },
    {
      "cell_type": "markdown",
      "source": [
        "## Manipulação de Arquivos"
      ],
      "metadata": {
        "id": "6NC0kVyK1STT"
      }
    },
    {
      "cell_type": "markdown",
      "source": [
        "## Exercícios\n"
      ],
      "metadata": {
        "id": "vCqHj-xqv0HQ"
      }
    }
  ]
}